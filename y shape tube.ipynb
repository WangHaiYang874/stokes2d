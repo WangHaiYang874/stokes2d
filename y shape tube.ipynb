{
 "cells": [
  {
   "cell_type": "code",
   "execution_count": 16,
   "metadata": {},
   "outputs": [],
   "source": [
    "import numpy as np\n",
    "from matplotlib import pyplot as plt \n",
    "import sys\n",
    "sys.path.append('./src/')\n",
    "import geometry\n",
    "from scipy.special import p_roots\n",
    "from scipy.integrate import quad\n",
    "from copy import deepcopy"
   ]
  },
  {
   "cell_type": "code",
   "execution_count": 3,
   "metadata": {},
   "outputs": [
    {
     "name": "stdout",
     "output_type": "stream",
     "text": [
      "The occurrence of roundoff error is detected, which prevents \n",
      "  the requested tolerance from being achieved.  The error may be \n",
      "  underestimated.\n",
      "abs error is  4.9343864429293055e-15  maybe this is enough\n"
     ]
    }
   ],
   "source": [
    "int1, abserr,_,msg  = quad(geometry._bump,-1,1,epsabs=1e-15,epsrel=1e-15, full_output=1)\n",
    "print(msg)\n",
    "print('abs error is ', abserr, ' maybe this is enough')"
   ]
  },
  {
   "cell_type": "code",
   "execution_count": 20,
   "metadata": {},
   "outputs": [],
   "source": [
    "def bump(x,h=1):\n",
    "    return geometry._bump(x/h)/(int1*h)\n",
    "def convoluted_abs(x,h=1):\n",
    "    if np.abs(x) >= h:\n",
    "        return np.abs(x)\n",
    "    b = lambda y: bump(y,h)*np.abs(x-y)\n",
    "    return quad(b,-h,h,epsabs=1e-15,epsrel=1e-15,full_output=1)[0]\n",
    "    \n",
    "def d_convoluted_abs(x,h=1):\n",
    "    if np.abs(x) >= h:\n",
    "        return np.sign(x)\n",
    "    b = lambda y: bump(y,h)*np.sign(x-y)\n",
    "    return quad(b,-h,h, full_output=1)[0]\n",
    "def dd_convoluted_abs(x,h=1):\n",
    "    if np.abs(x) >= h:\n",
    "        return 0\n",
    "    return 2*bump(x,h)"
   ]
  },
  {
   "cell_type": "markdown",
   "metadata": {},
   "source": [
    "# a standard smooth corner"
   ]
  },
  {
   "cell_type": "code",
   "execution_count": 45,
   "metadata": {},
   "outputs": [],
   "source": [
    "smooth_corner = geometry.geometry()\n",
    "a, da = p_roots(1024)\n",
    "smooth_corner.a = a\n",
    "smooth_corner.da = da\n",
    "smooth_corner.x = a.copy()\n",
    "smooth_corner.y = np.array([convoluted_abs(x_) for x_ in x])\n",
    "smooth_corner.dx_da = np.ones(a.shape)\n",
    "smooth_corner.dy_da = np.array([d_convoluted_abs(x_) for x_ in smooth_corner.x])\n",
    "smooth_corner.ddx_dda = np.zeros(a.shape)\n",
    "smooth_corner.ddy_dda = np.array([dd_convoluted_abs(x_) for x_ in smooth_corner.x])"
   ]
  },
  {
   "cell_type": "code",
   "execution_count": 54,
   "metadata": {},
   "outputs": [],
   "source": [
    "smooth_corner.scale((1,1/2))"
   ]
  },
  {
   "cell_type": "code",
   "execution_count": 55,
   "metadata": {},
   "outputs": [
    {
     "data": {
      "image/png": "[encoded data removed]",
      "text/plain": [
       "<Figure size 432x288 with 1 Axes>"
      ]
     },
     "metadata": {
      "needs_background": "light"
     },
     "output_type": "display_data"
    }
   ],
   "source": [
    "fig, ax = plt.subplots()\n",
    "ax.scatter(smooth_corner.x,smooth_corner.y,c=smooth_corner.a,s=1)\n",
    "ax.plot(smooth_corner.x,5*np.abs(smooth_corner.x))\n",
    "ax.set_aspect('equal')"
   ]
  },
  {
   "cell_type": "markdown",
   "metadata": {},
   "source": [
    "the angel in between can be determined by an automatic process. the desired automatic process is that given the slopes of the difference straight lines. and also the coordinate of their intersection points. "
   ]
  }
 ],
 "metadata": {
  "kernelspec": {
   "display_name": "Python 3.10.4 ('bim')",
   "language": "python",
   "name": "python3"
  },
  "language_info": {
   "codemirror_mode": {
    "name": "ipython",
    "version": 3
   },
   "file_extension": ".py",
   "mimetype": "text/x-python",
   "name": "python",
   "nbconvert_exporter": "python",
   "pygments_lexer": "ipython3",
   "version": "3.10.4"
  },
  "orig_nbformat": 4,
  "vscode": {
   "interpreter": {
    "hash": "b0092369962b3dab751c14bd721274f83b9943eaf7f5307a4bbeaa2b94df6b2b"
   }
  }
 },
 "nbformat": 4,
 "nbformat_minor": 2
}
