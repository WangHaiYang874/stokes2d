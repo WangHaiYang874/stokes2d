{
 "cells": [
  {
   "cell_type": "code",
   "execution_count": 7,
   "metadata": {},
   "outputs": [],
   "source": [
    "import numpy as np\n",
    "from matplotlib import pyplot as plt \n",
    "import sys\n",
    "sys.path.append('./src/')\n",
    "import geometry\n",
    "from copy import deepcopy"
   ]
  },
  {
   "cell_type": "code",
   "execution_count": 29,
   "metadata": {},
   "outputs": [],
   "source": [
    "def unit_vector(theta):\n",
    "    return np.array([np.cos(theta), np.sin(theta)])\n",
    "def flip_y(x):\n",
    "    return np.array([x[0], -x[1]])\n",
    "def corner_from_lines(p,q,r,size=0.1):\n",
    "    p2 = q + size*(q-p)/np.linalg.norm(q-p)\n",
    "    r2 = q + size*(q-r)/np.linalg.norm(q-r)\n",
    "    return p2, r2, geometry.corner(p2,q,r2)\n",
    "def connect_geometry(Gamma):\n",
    "    ret = geometry.geometry()\n",
    "    \n",
    "    "
   ]
  },
  {
   "cell_type": "code",
   "execution_count": 26,
   "metadata": {},
   "outputs": [],
   "source": [
    "\n",
    "\n",
    "p1 = np.array([0,1])\n",
    "p2 = np.array([7,1])\n",
    "p3 = p2 + 10*unit_vector(np.pi/6)\n",
    "p4 = p3 + unit_vector(np.pi/6-np.pi/2)\n",
    "p5s = np.array([p4 + unit_vector(np.pi + np.pi/6)*t for t in parameters])\n",
    "p5 = p5s[-1]\n",
    "p5s_x = p5s[:,0]\n",
    "p5s_y = p5s[:,1]\n",
    "p6s = np.array([p5s_x,-p5s_y]).T\n",
    "p6 = p6s[-1]\n",
    "p7 = flip_y(p4)\n",
    "p8 = flip_y(p3)\n",
    "p9 = flip_y(p2)\n",
    "p10 = flip_y(p1)"
   ]
  }
 ],
 "metadata": {
  "kernelspec": {
   "display_name": "Python 3.10.5 ('bim')",
   "language": "python",
   "name": "python3"
  },
  "language_info": {
   "codemirror_mode": {
    "name": "ipython",
    "version": 3
   },
   "file_extension": ".py",
   "mimetype": "text/x-python",
   "name": "python",
   "nbconvert_exporter": "python",
   "pygments_lexer": "ipython3",
   "version": "3.10.5"
  },
  "orig_nbformat": 4,
  "vscode": {
   "interpreter": {
    "hash": "c63784d83960d2c89cfe6fb5ec298e84c6499521dac7c7c8fd1fc1b7e373202c"
   }
  }
 },
 "nbformat": 4,
 "nbformat_minor": 2
}
