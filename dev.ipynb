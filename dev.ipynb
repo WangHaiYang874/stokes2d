{
 "cells": [
  {
   "cell_type": "code",
   "execution_count": 5,
   "metadata": {},
   "outputs": [],
   "source": [
    "import numpy as np\n",
    "from matplotlib import pyplot as plt\n",
    "import sys\n",
    "sys.path.insert(1,'./src/')\n",
    "from curve import *\n",
    "from utils import *"
   ]
  },
  {
   "cell_type": "code",
   "execution_count": 6,
   "metadata": {},
   "outputs": [
    {
     "name": "stdout",
     "output_type": "stream",
     "text": [
      "(-1, 1) 0\n"
     ]
    }
   ],
   "source": [
    "l = Line()\n",
    "l.build()"
   ]
  },
  {
   "cell_type": "code",
   "execution_count": null,
   "metadata": {},
   "outputs": [],
   "source": [
    "self = l.panels[1]\n",
    "p = np.polynomial.legendre.Legendre.fit(self.a, self.t, deg=len(self.a) - 1, domain=self.domain)"
   ]
  },
  {
   "cell_type": "code",
   "execution_count": null,
   "metadata": {},
   "outputs": [],
   "source": [
    "def legeval(self,lp,pts):\n",
    "    return np.polynomial.legendre.legval(\n",
    "        -(self.domain[1] + self.domain[0])/((self.domain[1] - self.domain[0])) \n",
    "        + pts*2/((self.domain[1] - self.domain[0])),\n",
    "        lp.coef)"
   ]
  },
  {
   "cell_type": "code",
   "execution_count": null,
   "metadata": {},
   "outputs": [],
   "source": [
    "panel_rets = []\n",
    "exact_rets = []\n",
    "for i in range(3,8):\n",
    "    l = Line()\n",
    "    l.build(max_distance=np.power(1/2,i))\n",
    "    target_pts = l.t\n",
    "    mat = (l.dt_da*l.da)[:,np.newaxis]/(l.t[:,np.newaxis] - target_pts[np.newaxis,:])\n",
    "    ddt_dda = l.ddx_dda + l.ddy_dda*1j\n",
    "    diagonal = (ddt_dda*l.da/l.dt_da)\n",
    "    print(np.all(diagonal==0))\n",
    "    np.fill_diagonal(mat,diagonal)\n",
    "    panel_ret = np.sum(mat, axis=0)\n",
    "    psi = np.pi/4\n",
    "    exact_ret = 1j*psi + np.log((1-target_pts)*np.exp(-1j*psi)/(-1-target_pts))\n",
    "    panel_rets.append(panel_ret.copy())\n",
    "    exact_rets.append(exact_ret.copy())"
   ]
  },
  {
   "cell_type": "code",
   "execution_count": null,
   "metadata": {},
   "outputs": [],
   "source": [
    "for i,panel_ret,exact_ret,target_pts in zip(range(3,8), panel_rets, exact_rets, target_ptss):\n",
    "    plt.plot(target_pts.real, (np.abs(panel_ret)),label='# of panels = {}'.format(2**(i-2)))\n",
    "plt.legend()\n",
    "plt.title('relative error for evaluate cauchy type integral on gauss-legendre panels. \\n the straight line is from (-1,0) to (1,0), the targets are from (-1,0.03) to (1,0.03)')\n",
    "plt.xlabel('target points real part')\n",
    "plt.ylabel('abs rel error')\n",
    "\n",
    "print()"
   ]
  },
  {
   "cell_type": "code",
   "execution_count": null,
   "metadata": {},
   "outputs": [],
   "source": [
    "for i,panel_ret,exact_ret,target_pts in zip(range(3,8), panel_rets, exact_rets, target_ptss):\n",
    "    plt.plot(target_pts.real, (np.abs(exact_ret)),label='# of panels = {}'.format(2**(i-2)))\n",
    "plt.legend()\n",
    "plt.title('relative error for evaluate cauchy type integral on gauss-legendre panels. \\n the straight line is from (-1,0) to (1,0), the targets are from (-1,0.03) to (1,0.03)')\n",
    "plt.xlabel('target points real part')\n",
    "plt.ylabel('abs rel error')\n",
    "\n",
    "print()"
   ]
  },
  {
   "cell_type": "code",
   "execution_count": null,
   "metadata": {},
   "outputs": [],
   "source": [
    "for i,panel_ret,exact_ret,target_pts in zip(range(3,8), panel_rets, exact_rets, target_ptss):\n",
    "    plt.plot(target_pts.real, np.abs(exact_ret),label='# of panels = {}'.format(2**(i-2)))\n",
    "plt.legend()\n",
    "plt.title('relative error for evaluate cauchy type integral on gauss-legendre panels. \\n the straight line is from (-1,0) to (1,0), the targets are from (-1,0.03) to (1,0.03)')\n",
    "plt.xlabel('target points real part')\n",
    "plt.ylabel('abs rel error')\n",
    "\n",
    "print()"
   ]
  },
  {
   "cell_type": "markdown",
   "metadata": {},
   "source": [
    "----"
   ]
  },
  {
   "cell_type": "code",
   "execution_count": null,
   "metadata": {},
   "outputs": [],
   "source": [
    "panel_rets = []\n",
    "exact_rets = []\n",
    "target_ptss = []\n",
    "for i in range(3,8):\n",
    "    l = Line()\n",
    "    l.build(max_distance=np.power(1/2,i))\n",
    "    target_pts = l.t\n",
    "    \n",
    "    mat = (l.dt_da*l.da)[:,np.newaxis]/(l.t[:,np.newaxis] - target_pts[np.newaxis,:])\n",
    "    ddt_dda = l.ddx_dda + l.ddy_dda*1j\n",
    "    diagonal = (ddt_dda*l.da/l.dt_da)\n",
    "    np.fill_diagonal(mat,diagonal)\n",
    "    panel_ret = np.sum(mat, axis=0)\n",
    "    \n",
    "    psi = np.pi/4\n",
    "    exact_ret = 2j*np.pi*np.ones_like(target_pts)\n",
    "    panel_rets.append(panel_ret.copy())\n",
    "    exact_rets.append(exact_ret.copy())\n",
    "    target_ptss.append(target_pts.copy())\n",
    "    \n"
   ]
  },
  {
   "cell_type": "code",
   "execution_count": null,
   "metadata": {},
   "outputs": [],
   "source": [
    "for i,panel_ret,exact_ret,target_pts in zip(range(3,8), panel_rets, exact_rets, target_ptss):\n",
    "    plt.plot(target_pts.real, (np.real(panel_ret)),label='# of panels = {}'.format(2**(i-2)))\n",
    "    plt.legend()\n",
    "    plt.title('relative error for evaluate cauchy type integral on gauss-legendre panels. \\n the straight line is from (-1,0) to (1,0), the targets are from (-1,0.03) to (1,0.03)')\n",
    "    plt.xlabel('target points real part')\n",
    "    plt.ylabel('abs rel error')\n"
   ]
  },
  {
   "cell_type": "code",
   "execution_count": null,
   "metadata": {},
   "outputs": [],
   "source": []
  }
 ],
 "metadata": {
  "kernelspec": {
   "display_name": "Python 3.10.6 ('bim')",
   "language": "python",
   "name": "python3"
  },
  "language_info": {
   "codemirror_mode": {
    "name": "ipython",
    "version": 3
   },
   "file_extension": ".py",
   "mimetype": "text/x-python",
   "name": "python",
   "nbconvert_exporter": "python",
   "pygments_lexer": "ipython3",
   "version": "3.10.6"
  },
  "orig_nbformat": 4,
  "vscode": {
   "interpreter": {
    "hash": "29aee36ec6e9df753698de62f9f369044b18644ec1292ce439a22755d3e8f7fd"
   }
  }
 },
 "nbformat": 4,
 "nbformat_minor": 2
}
