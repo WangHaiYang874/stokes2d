{
 "cells": [
  {
   "cell_type": "markdown",
   "metadata": {},
   "source": [
    "# Fluid dynamics in a scattering way\n",
    "\n",
    "Professor Greengard has this idea: build up fast solvers for stokes equation on some geometries, with prescribed boundary conditions being Poiseuille on the inlets and outlets, or non-slippary on the walls. Then we can connect the inlets and outlets of different geometries to build up a potentially bery pipe network. We can combine our solutions of the simple geometries to get an approximate solution to the complex geometry of pipe network, and then see how good it is performing. \n",
    "\n",
    "\n",
    "## outline\n",
    "\n",
    "- **define some simple geometries**\n",
    "  - simple straight pipe\n",
    "  - curved pipe\n",
    "  - angled pipe\n",
    "  - pipe with 1 inlets and 2 outlets\n",
    "  - pipe with 2 inlets and 1 outlets\n",
    "- **Integral Equation of the Stream Function**:  We are going to solve for the stream function using the BIM(Boundary integral method) proposed in the linear elasticity theory. As have done by Greengard et al. 1995\n",
    "  - transform the boundary conditions on velocity into boundary conditions on stream function\n",
    "    this is rather easy, given velocity $u = (h_2,-h_1)$ on the boundary $\\Gamma$, we have the BVP for stream function $W$ being $W_x = h_1, W_y = h_2$ on $\\Gamma$. 与此同时我还知道stream function是一个biharmonic function, 这够我解的了. \n",
    "    \n",
    "- **Extract the Pressure Difference**: "
   ]
  }
 ],
 "metadata": {
  "language_info": {
   "name": "python"
  },
  "orig_nbformat": 4
 },
 "nbformat": 4,
 "nbformat_minor": 2
}
