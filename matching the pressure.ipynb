{
 "cells": [
  {
   "cell_type": "markdown",
   "metadata": {},
   "source": [
    "# problem statement\n",
    "With the tubes properly constructed and everything computed, we will have the following information:\n",
    "1. the tubes $\\Gamma_i$\n",
    "2. points $P_i^j$ at the center of the inflow and outflow of each tube $\\Gamma_i$\n",
    "3. for each two points $P_i^{j_1}, P_i^{j_2}$, we have the pressure drop, velocity field, and omegas computed assumming there are unit flux across these two points.\n",
    "4. for the points on the boundary, we have already perscribed the boundary conditions of velocity, and hence also the gradient of pressure. \n",
    "5. for two connecting tubes, $\\Gamma_{i_1}, \\Gamma_{i_2}$, they will have a point in connection, $\\Gamma_{i_1}^{j_1} = \\Gamma_{i_2}^{j_2}$, this will be specified. \n",
    "\n",
    "The goal is to design an algorithm that assignning the fluxes to each pair of $P_i^{j_1}, P_i^{j_2}$ such that \n",
    "1. pressure is a single valued function\n",
    "2. the fluxes also needs to be identical for those points with $\\Gamma_{i_1}^{j_1} = \\Gamma_{i_2}^{j_2}$\n",
    "3. and also that the prescribed boundary conditions should be satisfied. \n",
    "\n",
    "> The most tricky part is to get the equations that restrict the single-valuedness of the pressure. One naive thought would be to use an algorithm to find all the simple cycles in a (undirected) graph given by the pipe system. And use these cycles to enfore the single valuedness of pressure function. \n",
    "\n",
    "There are possibly two ways to approach this, although I haven't thought them through, but they are worth-keeping down just for now to think about them later:\n",
    "\n",
    "# reasoning approach\n",
    "\n",
    "I have took an artificial intelligence class that taught me how to make logic deductions in the 1st order logic. So I can basically store all the restrictions and conditions into a knowledge base. And then run the forward chaining algorithm on the knowledge base, which basically tell you every decidable true logic sentences from the knowledge base. The fluxes must be decidable because of physics law. So we can basically run the forward_chaining until we know the all the fluxes. \n",
    "\n",
    "And, I believe, the tricky part to get the equations gauranteeing the single-valuedness of pressure, can be implicitly enforced by bunch of trivial logic sentences in the knowledge base. so we can avoid this problem. \n",
    "\n",
    "Although, runnning logic deduction algorithm might be extremely slow, taking several minutes for a rather trivial knowledge base with a few hundreds sentences. \n",
    "\n",
    "# linear algebra approach\n",
    "\n",
    "Actually, the trivial logic sentences mentioned in the last paragraph is as simple as a linear algebra equation. so perhaps I don't really need to know about the all the cycles in the graph to enforce the single-valuedness of the pressure. I will have to think about an appropriate way of writting down the equations. \n"
   ]
  }
 ],
 "metadata": {
  "language_info": {
   "name": "python"
  },
  "orig_nbformat": 4
 },
 "nbformat": 4,
 "nbformat_minor": 2
}
