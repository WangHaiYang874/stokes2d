{
 "cells": [
  {
   "cell_type": "markdown",
   "metadata": {},
   "source": [
    "# problem statement\n",
    "With the tubes properly constructed and everything computed, we will have the following information:\n",
    "1. the tubes $\\Gamma_i$\n",
    "2. points $P_i^j$ at the center of the inflow and outflow of each tube $\\Gamma_i$\n",
    "3. for each two points $P_i^{j_1}, P_i^{j_2}$, we have the pressure drop, velocity field, and omegas computed assumming there are unit flux across these two points.\n",
    "4. for the points on the boundary, we have already perscribed the boundary conditions of velocity, and hence also the gradient of pressure. \n",
    "5. for two connecting tubes, $\\Gamma_{i_1}, \\Gamma_{i_2}$, they will have a point in connection, $\\Gamma_{i_1}^{j_1} = \\Gamma_{i_2}^{j_2}$, this will be specified. \n",
    "\n",
    "The goal is to design an algorithm that assignning the fluxes to each pair of $P_i^{j_1}, P_i^{j_2}$ such that \n",
    "1. pressure is a single valued function\n",
    "2. the fluxes also needs to be identical for those points with $\\Gamma_{i_1}^{j_1} = \\Gamma_{i_2}^{j_2}$\n",
    "3. and also that the prescribed boundary conditions should be satisfied. \n",
    "\n",
    "If the pipe system does not contain any cycles, this problem can be simply solved by matching the flux at each points of connections. \n",
    "Otherwise, one needs to find all the (generating) cycles in the pipe system and then enforce the condition of matching pressure to make sure that we can get enough conditions to solve for the fluxes. \n",
    "\n"
   ]
  }
 ],
 "metadata": {
  "kernelspec": {
   "display_name": "Python 3.10.4 64-bit",
   "language": "python",
   "name": "python3"
  },
  "language_info": {
   "name": "python",
   "version": "3.10.4"
  },
  "orig_nbformat": 4,
  "vscode": {
   "interpreter": {
    "hash": "916dbcbb3f70747c44a77c7bcd40155683ae19c65e1c03b4aa3499c5328201f1"
   }
  }
 },
 "nbformat": 4,
 "nbformat_minor": 2
}
