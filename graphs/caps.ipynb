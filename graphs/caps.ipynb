{
 "cells": [
  {
   "cell_type": "code",
   "execution_count": 1,
   "metadata": {},
   "outputs": [
    {
     "name": "stderr",
     "output_type": "stream",
     "text": [
      "/home/haiy/pkg/miniconda3/envs/bim/lib/python3.10/site-packages/scipy/__init__.py:146: UserWarning: A NumPy version >=1.16.5 and <1.23.0 is required for this version of SciPy (detected version 1.23.1\n",
      "  warnings.warn(f\"A NumPy version >={np_minversion} and <{np_maxversion}\"\n"
     ]
    }
   ],
   "source": [
    "import numpy as np\n",
    "from matplotlib import pyplot as plt\n",
    "import sys\n",
    "sys.path.insert(0,'../src/')\n",
    "from geometry import *\n",
    "from tubes import closed_geometry\n",
    "arr = np.array"
   ]
  },
  {
   "cell_type": "code",
   "execution_count": 2,
   "metadata": {},
   "outputs": [
    {
     "name": "stderr",
     "output_type": "stream",
     "text": [
      "/mnt/c/Users/haiya/proj/stokes2d/graphs/../src/geometry.py:283: RuntimeWarning: invalid value encountered in double_scalars\n",
      "  error2 = np.sum(np.abs(legendre_coef_k[-m:]))/np.sum(np.abs(legendre_coef_k[:m]))\n"
     ]
    }
   ],
   "source": [
    "p1 = arr((-5,-1))\n",
    "l1 = line\n",
    "\n",
    "p2 = arr((5,-1))\n",
    "l2 = line\n",
    "\n",
    "p3 = arr((5,1))\n",
    "l3 = line\n",
    "\n",
    "p4 = arr((5,-1))\n",
    "l4 = line\n",
    "\n",
    "points = [p1,p2,p3,p4]\n",
    "curves = [l1,l2,l3,l4]\n",
    "\n",
    "tube = closed_geometry(points, curves, corner_size=0.2)\n",
    "tube.build_geometry(1e-2)"
   ]
  },
  {
   "cell_type": "code",
   "execution_count": 3,
   "metadata": {},
   "outputs": [],
   "source": [
    "wall1 = line(arr((-5,-1)), arr((5,-1)))\n",
    "inlet1 = line(arr((5,-1)),arr((5,1)))\n",
    "cap1 = cap(arr((5,-1)),arr((5,1)))\n",
    "\n",
    "wall2 = line(arr((5,1)), arr((-5,1)))\n",
    "inlet2 = line(arr((-5,1)),arr((-5,-1)))\n",
    "cap2 = cap(arr((-5,1)),arr((-5,-1)))\n",
    "\n",
    "panels = [wall1,inlet1,cap1,wall2,inlet2,cap2]\n",
    "[i.build() for i in panels];"
   ]
  },
  {
   "cell_type": "code",
   "execution_count": 4,
   "metadata": {},
   "outputs": [
    {
     "data": {
      "image/png": "[encoded data removed]",
      "text/plain": [
       "<Figure size 864x216 with 1 Axes>"
      ]
     },
     "metadata": {
      "needs_background": "light"
     },
     "output_type": "display_data"
    }
   ],
   "source": [
    "fig,ax = plt.subplots(figsize=(12,3))\n",
    "ax.plot(wall1.x, wall1.y,c='black')\n",
    "ax.text(-0.5,1.1,'upper wall')\n",
    "\n",
    "ax.plot(wall2.x, wall2.y,c='black')\n",
    "ax.text(-0.5,-0.9,'lower wall')\n",
    "\n",
    "ax.plot(inlet1.x, inlet1.y, c='r')\n",
    "ax.text(-5.2,-.15,'inlet',rotation='vertical')\n",
    "ax.plot(inlet2.x, inlet2.y, c='r')\n",
    "ax.text(4.8,-.2,'outlet',rotation='vertical')\n",
    "\n",
    "ax.plot(cap1.x, cap1.y, c='pink',linestyle='dashed')\n",
    "ax.text(-7.2,-0.4,'inlet cap',rotation='vertical')\n",
    "ax.plot(cap2.x, cap2.y, c='pink',linestyle='dashed')\n",
    "ax.text(6.65,-.35,'outlet cap',rotation='vertical')\n",
    "\n",
    "\n",
    "ax.set_aspect(1)\n",
    "ax.axis('off')\n",
    "fig.tight_layout()"
   ]
  }
 ],
 "metadata": {
  "kernelspec": {
   "display_name": "Python 3.10.4 ('bim')",
   "language": "python",
   "name": "python3"
  },
  "language_info": {
   "codemirror_mode": {
    "name": "ipython",
    "version": 3
   },
   "file_extension": ".py",
   "mimetype": "text/x-python",
   "name": "python",
   "nbconvert_exporter": "python",
   "pygments_lexer": "ipython3",
   "version": "3.10.4"
  },
  "orig_nbformat": 4,
  "vscode": {
   "interpreter": {
    "hash": "29aee36ec6e9df753698de62f9f369044b18644ec1292ce439a22755d3e8f7fd"
   }
  }
 },
 "nbformat": 4,
 "nbformat_minor": 2
}
