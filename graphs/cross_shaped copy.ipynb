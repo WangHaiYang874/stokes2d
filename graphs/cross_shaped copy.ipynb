{
 "cells": [
  {
   "cell_type": "code",
   "execution_count": 2,
   "metadata": {},
   "outputs": [
    {
     "name": "stderr",
     "output_type": "stream",
     "text": [
      "/home/haiy/pkg/miniconda3/envs/bim/lib/python3.10/site-packages/scipy/__init__.py:146: UserWarning: A NumPy version >=1.16.5 and <1.23.0 is required for this version of SciPy (detected version 1.23.1\n",
      "  warnings.warn(f\"A NumPy version >={np_minversion} and <{np_maxversion}\"\n"
     ]
    }
   ],
   "source": [
    "import numpy as np\n",
    "from matplotlib import pyplot as plt\n",
    "import sys\n",
    "sys.path.append('../src')\n",
    "from geometry import *\n",
    "from tubes import closed_geometry\n",
    "from solver import stokes2d\n",
    "from joblib import Parallel, delayed"
   ]
  },
  {
   "cell_type": "code",
   "execution_count": 32,
   "metadata": {},
   "outputs": [],
   "source": [
    "p1 = np.array([-5,-1])\n",
    "curve1 = line\n",
    "\n",
    "p2 = np.array([-1,-1])\n",
    "curve2 = line\n",
    "\n",
    "p3 = np.array([-1,-5])\n",
    "curve3 = cap\n",
    "\n",
    "p4 = np.array([1,-5])\n",
    "curve4 = line\n",
    "\n",
    "p5 = np.array([1,1])\n",
    "curve5 = line\n",
    "\n",
    "p6 = np.array([-5,1])\n",
    "curve6 = cap"
   ]
  },
  {
   "cell_type": "code",
   "execution_count": 33,
   "metadata": {},
   "outputs": [],
   "source": [
    "pts = [p1, p2, p3, p4, p5, p6]\n",
    "curves = [curve1, curve2, curve3, curve4, curve5, curve6]"
   ]
  },
  {
   "cell_type": "code",
   "execution_count": 48,
   "metadata": {},
   "outputs": [],
   "source": [
    "band = closed_geometry(pts,curves,corner_size=1)\n",
    "band.build_geometry(max_distance=0.01)"
   ]
  },
  {
   "cell_type": "code",
   "execution_count": 49,
   "metadata": {},
   "outputs": [
    {
     "data": {
      "text/plain": [
       "[array([-5, -1]),\n",
       " array([-1, -1]),\n",
       " array([-1, -5]),\n",
       " array([ 1, -5]),\n",
       " array([1, 1]),\n",
       " array([-5,  1])]"
      ]
     },
     "execution_count": 49,
     "metadata": {},
     "output_type": "execute_result"
    }
   ],
   "source": [
    "pts"
   ]
  },
  {
   "cell_type": "code",
   "execution_count": 53,
   "metadata": {},
   "outputs": [
    {
     "data": {
      "image/png": "[encoded data removed]",
      "text/plain": [
       "<Figure size 360x360 with 1 Axes>"
      ]
     },
     "metadata": {
      "needs_background": "light"
     },
     "output_type": "display_data"
    }
   ],
   "source": [
    "fig, ax = plt.subplots(figsize=(5,5))\n",
    "ax.set_aspect(1)\n",
    "ax.axis('off')\n",
    "fig.tight_layout()\n",
    "\n",
    "for i in band.curves:\n",
    "    if isinstance(i,line):\n",
    "        __ = np.array([i.p1,i.p2])\n",
    "        ax.plot(__[:,0],__[:,1],c='black')\n",
    "        ax.text(*(__.mean(axis=0)),'wall',c='black')\n",
    "        \n",
    "    if isinstance(i,cap):\n",
    "        ax.plot(i.x,i.y,c='red')\n",
    "        __ = np.array([i.p1,i.p2])\n",
    "        ax.plot(__[:,0],__[:,1],c='green')\n",
    "        ax.text(*(__.mean(axis=0)),'flow',c='green')\n",
    "        ax.text(i.x.mean(), i.y.mean(), 'cap', c='red')\n",
    "\n",
    "    if isinstance(i,corner):\n",
    "        ax.plot(i.x,i.y,c='red')\n",
    "        __ = np.array((i.p1,i.p_,i.p2)).T\n",
    "        ax.plot(__[0],__[1],c='black',linestyle='dashed')\n",
    "        ax.text(*i.p_,s='corner',c='red')\n"
   ]
  },
  {
   "cell_type": "code",
   "execution_count": null,
   "metadata": {},
   "outputs": [],
   "source": []
  }
 ],
 "metadata": {
  "kernelspec": {
   "display_name": "Python 3.10.4 ('bim')",
   "language": "python",
   "name": "python3"
  },
  "language_info": {
   "codemirror_mode": {
    "name": "ipython",
    "version": 3
   },
   "file_extension": ".py",
   "mimetype": "text/x-python",
   "name": "python",
   "nbconvert_exporter": "python",
   "pygments_lexer": "ipython3",
   "version": "3.10.4"
  },
  "orig_nbformat": 4,
  "vscode": {
   "interpreter": {
    "hash": "29aee36ec6e9df753698de62f9f369044b18644ec1292ce439a22755d3e8f7fd"
   }
  }
 },
 "nbformat": 4,
 "nbformat_minor": 2
}
