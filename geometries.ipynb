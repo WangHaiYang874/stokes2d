{
 "cells": [
  {
   "cell_type": "code",
   "execution_count": 27,
   "metadata": {},
   "outputs": [],
   "source": [
    "import numpy as np\n",
    "from matplotlib import pyplot as plt"
   ]
  },
  {
   "cell_type": "markdown",
   "metadata": {},
   "source": [
    "# Conditions of Cauchy type integral\n",
    "\n",
    "1. The boundary $\\Gamma$ should have no corners or cusps, as I have calculated in my draft yesterday that at corners the priciple value will hardly converge. \n",
    "2. Currently I have the initial conditions are \n",
    "   1. presoille flow on inlet and outlet. \n",
    "   2. non-splippery on other parts of the boundary. \n",
    "   3. ❓ Does this give me a legal boundary conditions? \n",
    "\n",
    "Therefore,  I need to smooth the boundary $\\Gamma$. \n",
    "\n",
    "The simplest type of geometry to consider is the following\n"
   ]
  },
  {
   "cell_type": "code",
   "execution_count": 56,
   "metadata": {},
   "outputs": [
    {
     "data": {
      "text/plain": [
       "array([0. , 0.5, 1. ])"
      ]
     },
     "execution_count": 56,
     "metadata": {},
     "output_type": "execute_result"
    }
   ],
   "source": [
    "np.linspace(0,1,3)"
   ]
  },
  {
   "cell_type": "code",
   "execution_count": 92,
   "metadata": {},
   "outputs": [],
   "source": [
    "def line_from_origin(x,y,n=32):\n",
    "    '''\n",
    "    return a numpy array of n points from (0,0) to (x,y)\n",
    "    '''\n",
    "    X = np.linspace(0,x,n)\n",
    "    Y = np.linspace(0,y,n)\n",
    "    return np.array([X,Y])\n",
    "\n",
    "def line(x0,y0,x1,y1,n=32):\n",
    "    '''\n",
    "    return a numpy array of n points from (x0,y0) to (x1,y1)\n",
    "    '''\n",
    "    X = np.linspace(x0,x1,n)\n",
    "    Y = np.linspace(y0,y1,n)\n",
    "    return np.array([X,Y])\n",
    "\n",
    "def arc(x,y,r,theta1,theta2,n=32):\n",
    "    '''\n",
    "    for a circe centered at (x,y) and radius r, this function returns n points on the \n",
    "    arc from angle theta1 to theta2. \n",
    "    '''\n",
    "    \n",
    "    theta = np.linspace(theta1,theta2,n)\n",
    "    X = np.cos(theta)*r + x\n",
    "    Y = np.sin(theta)*r + y\n",
    "    return np.array([X,Y])\n",
    "\n",
    "def arc_fit(x0,y0,k0,\n",
    "            x1,y1,k1,\n",
    "            n=32):\n",
    "    '''\n",
    "    given a point (x0,y0) with a slope k1, a point (x1,y1) with a slope k2,\n",
    "    this returns n points on the arc that fit the two pts and their slopes. \n",
    "    Notice that this does not work for arbitrary input, there is certain \n",
    "    symmetries required. and this condition will be tested in this code\n",
    "    '''\n",
    "    \n",
    "    d = np.linalg.norm(np.array([x0,y0]) - np.array([x1,y1]))/2\n",
    "    \n",
    "    theta0 = np.arctan(k0)\n",
    "    theta1 = np.arctan(k1)\n",
    "    theta2 = (np.pi - abs(theta0) - abs(theta1))/2\n",
    "    \n",
    "    r = abs(d/np.cos(theta2))\n",
    "    nx = np.cos(theta0-np.pi/2)\n",
    "    ny = np.sin(theta0-np.pi/2)\n",
    "    \n",
    "    x = x0 + nx*r\n",
    "    y = y0 + ny*r\n",
    "    \n",
    "    # return arc(x,y,r,0,6.29,n)    \n",
    "    return arc(x,y,r,np.pi/2 - theta0,np.pi/2 - theta1,n)    \n",
    "    "
   ]
  },
  {
   "cell_type": "code",
   "execution_count": 93,
   "metadata": {},
   "outputs": [
    {
     "data": {
      "text/plain": [
       "[<matplotlib.lines.Line2D at 0x1371ef430>]"
      ]
     },
     "execution_count": 93,
     "metadata": {},
     "output_type": "execute_result"
    },
    {
     "data": {
      "image/png": "[encoded data removed]",
      "text/plain": [
       "<Figure size 432x288 with 1 Axes>"
      ]
     },
     "metadata": {
      "needs_background": "light"
     },
     "output_type": "display_data"
    }
   ],
   "source": [
    "line1 = line(0,0,0.1,1) \n",
    "line2 = line(1,0,0.9,1)\n",
    "plt.plot(*line1)\n",
    "plt.plot(*line2)\n",
    "a = arc_fit(0.1,1,10,0.9,1,-10,32)\n",
    "plt.plot(*a)"
   ]
  },
  {
   "cell_type": "code",
   "execution_count": 108,
   "metadata": {},
   "outputs": [
    {
     "data": {
      "image/png": "[encoded data removed]",
      "text/plain": [
       "<Figure size 432x288 with 1 Axes>"
      ]
     },
     "metadata": {
      "needs_background": "light"
     },
     "output_type": "display_data"
    }
   ],
   "source": [
    "fig, ax = plt.subplots()\n",
    "line1 = line(0,1,1,1) \n",
    "line2 = line(1,1,1,0)\n",
    "ax.plot(*(line1[:,-10:]))\n",
    "ax.plot(*(line2[:,:10]))\n",
    "a = arc_fit(*(line1[:,-2]),0,*(line2[:,1]),np.inf)\n",
    "ax.plot(*a)\n",
    "ax.set_aspect(1)\n"
   ]
  },
  {
   "cell_type": "markdown",
   "metadata": {},
   "source": [
    "I partly figured out how to make a smooth geometry from a polygon as in the above example. However, I should probably should firstly solve the 2d stokes for the smooth geometry before trying the case with cornered geometry. "
   ]
  },
  {
   "cell_type": "code",
   "execution_count": 2,
   "metadata": {},
   "outputs": [],
   "source": [
    "class contour:\n",
    "    def __init__(self,):\n",
    "        pass\n",
    "    \n",
    "class boundary:\n",
    "    def __init__(self,):\n",
    "        pass"
   ]
  }
 ],
 "metadata": {
  "kernelspec": {
   "display_name": "Python 3.8.13 ('bim')",
   "language": "python",
   "name": "python3"
  },
  "language_info": {
   "codemirror_mode": {
    "name": "ipython",
    "version": 3
   },
   "file_extension": ".py",
   "mimetype": "text/x-python",
   "name": "python",
   "nbconvert_exporter": "python",
   "pygments_lexer": "ipython3",
   "version": "3.8.13"
  },
  "orig_nbformat": 4,
  "vscode": {
   "interpreter": {
    "hash": "c63784d83960d2c89cfe6fb5ec298e84c6499521dac7c7c8fd1fc1b7e373202c"
   }
  }
 },
 "nbformat": 4,
 "nbformat_minor": 2
}
