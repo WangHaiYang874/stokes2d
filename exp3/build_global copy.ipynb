{
 "cells": [
  {
   "cell_type": "code",
   "execution_count": 14,
   "metadata": {},
   "outputs": [
    {
     "name": "stdout",
     "output_type": "stream",
     "text": [
      "number of points:  497042\n"
     ]
    }
   ],
   "source": [
    "import sys\n",
    "sys.path.insert(0,'../src/')\n",
    "from curve import *\n",
    "from utils import *\n",
    "from multiply_connected_pipe import *\n",
    "import pickle\n",
    "\n",
    "from scipy.sparse.linalg import lgmres\n",
    "\n",
    "from time import time\n",
    "\n",
    "with open('global_pipe_with_geometry.pickle','rb') as f:\n",
    "    pipe = pickle.load(f)\n",
    "\n",
    "required_tol = 1e-10\n",
    "pipe.build_A(fmm=True)\n",
    "print(\"number of points: \", len(pipe.t))"
   ]
  },
  {
   "cell_type": "code",
   "execution_count": 15,
   "metadata": {},
   "outputs": [],
   "source": [
    "b = np.concatenate([pipe.boundary_value(0).real, pipe.boundary_value(0).imag],dtype=np.float64)\n",
    "A = pipe.A"
   ]
  },
  {
   "cell_type": "code",
   "execution_count": 16,
   "metadata": {},
   "outputs": [],
   "source": [
    "class Callback:\n",
    "    \n",
    "    def __init__(self):\n",
    "        self.iter = 0\n",
    "        self.residuals = []\n",
    "        self.t = time()\n",
    "        \n",
    "    def __call__(self, xk):\n",
    "        self.iter += 1\n",
    "        if self.iter % 20 == 0:\n",
    "            residual = np.linalg.norm(A(xk) - b)\n",
    "            self.residuals.append(residual)\n",
    "            print(f\"iter {self.iter}\", \n",
    "                  f\"resdiual {residual}\", \n",
    "                  f\"time {int((time()-self.t)/60)} min\", \n",
    "                  sep='\\t')"
   ]
  },
  {
   "cell_type": "code",
   "execution_count": 17,
   "metadata": {},
   "outputs": [
    {
     "ename": "KeyboardInterrupt",
     "evalue": "",
     "output_type": "error",
     "traceback": [
      "\u001b[0;31m---------------------------------------------------------------------------\u001b[0m",
      "\u001b[0;31mKeyboardInterrupt\u001b[0m                         Traceback (most recent call last)",
      "Cell \u001b[0;32mIn [17], line 1\u001b[0m\n\u001b[0;32m----> 1\u001b[0m omega_sep, _ \u001b[38;5;241m=\u001b[39m \u001b[43mlgmres\u001b[49m\u001b[43m(\u001b[49m\u001b[43mA\u001b[49m\u001b[43m,\u001b[49m\u001b[43m \u001b[49m\u001b[43mb\u001b[49m\u001b[43m,\u001b[49m\u001b[43m \u001b[49m\n\u001b[1;32m      2\u001b[0m \u001b[43m                    \u001b[49m\u001b[43matol\u001b[49m\u001b[38;5;241;43m=\u001b[39;49m\u001b[38;5;241;43m0\u001b[39;49m\u001b[43m,\u001b[49m\u001b[43m \u001b[49m\u001b[43mtol\u001b[49m\u001b[38;5;241;43m=\u001b[39;49m\u001b[43mrequired_tol\u001b[49m\u001b[43m,\u001b[49m\n\u001b[1;32m      3\u001b[0m \u001b[43m                    \u001b[49m\u001b[43minner_m\u001b[49m\u001b[38;5;241;43m=\u001b[39;49m\u001b[38;5;241;43m500\u001b[39;49m\u001b[43m,\u001b[49m\u001b[43m \u001b[49m\u001b[43mouter_k\u001b[49m\u001b[38;5;241;43m=\u001b[39;49m\u001b[38;5;241;43m10\u001b[39;49m\u001b[43m \u001b[49m\u001b[43m,\u001b[49m\u001b[43m \u001b[49m\u001b[43mmaxiter\u001b[49m\u001b[38;5;241;43m=\u001b[39;49m\u001b[38;5;241;43m100000\u001b[39;49m\u001b[43m,\u001b[49m\u001b[43m \u001b[49m\n\u001b[1;32m      4\u001b[0m \u001b[43m                    \u001b[49m\u001b[43mcallback\u001b[49m\u001b[38;5;241;43m=\u001b[39;49m\u001b[43mCallback\u001b[49m\u001b[43m(\u001b[49m\u001b[43m)\u001b[49m\u001b[43m)\u001b[49m\n",
      "File \u001b[0;32m~/pkg/miniconda3/envs/bim/lib/python3.10/site-packages/scipy/sparse/linalg/_isolve/lgmres.py:186\u001b[0m, in \u001b[0;36mlgmres\u001b[0;34m(A, b, x0, tol, maxiter, M, callback, inner_m, outer_k, outer_v, store_outer_Av, prepend_outer_v, atol)\u001b[0m\n\u001b[1;32m    183\u001b[0m ptol \u001b[39m=\u001b[39m \u001b[39mmin\u001b[39m(ptol_max_factor, \u001b[39mmax\u001b[39m(atol, tol\u001b[39m*\u001b[39mb_norm)\u001b[39m/\u001b[39mr_norm)\n\u001b[1;32m    185\u001b[0m \u001b[39mtry\u001b[39;00m:\n\u001b[0;32m--> 186\u001b[0m     Q, R, B, vs, zs, y, pres \u001b[39m=\u001b[39m _fgmres(matvec,\n\u001b[1;32m    187\u001b[0m                                        v0,\n\u001b[1;32m    188\u001b[0m                                        inner_m,\n\u001b[1;32m    189\u001b[0m                                        lpsolve\u001b[39m=\u001b[39;49mpsolve,\n\u001b[1;32m    190\u001b[0m                                        atol\u001b[39m=\u001b[39;49mptol,\n\u001b[1;32m    191\u001b[0m                                        outer_v\u001b[39m=\u001b[39;49mouter_v,\n\u001b[1;32m    192\u001b[0m                                        prepend_outer_v\u001b[39m=\u001b[39;49mprepend_outer_v)\n\u001b[1;32m    193\u001b[0m     y \u001b[39m*\u001b[39m\u001b[39m=\u001b[39m inner_res_0\n\u001b[1;32m    194\u001b[0m     \u001b[39mif\u001b[39;00m \u001b[39mnot\u001b[39;00m np\u001b[39m.\u001b[39misfinite(y)\u001b[39m.\u001b[39mall():\n\u001b[1;32m    195\u001b[0m         \u001b[39m# Overflow etc. in computation. There's no way to\u001b[39;00m\n\u001b[1;32m    196\u001b[0m         \u001b[39m# recover from this, so we have to bail out.\u001b[39;00m\n",
      "File \u001b[0;32m~/pkg/miniconda3/envs/bim/lib/python3.10/site-packages/scipy/sparse/linalg/_isolve/_gcrotmk.py:104\u001b[0m, in \u001b[0;36m_fgmres\u001b[0;34m(matvec, v0, m, atol, lpsolve, rpsolve, cs, outer_v, prepend_outer_v)\u001b[0m\n\u001b[1;32m    101\u001b[0m     w \u001b[39m=\u001b[39m \u001b[39mNone\u001b[39;00m\n\u001b[1;32m    103\u001b[0m \u001b[39mif\u001b[39;00m w \u001b[39mis\u001b[39;00m \u001b[39mNone\u001b[39;00m:\n\u001b[0;32m--> 104\u001b[0m     w \u001b[39m=\u001b[39m lpsolve(matvec(z))\n\u001b[1;32m    105\u001b[0m \u001b[39melse\u001b[39;00m:\n\u001b[1;32m    106\u001b[0m     \u001b[39m# w is clobbered below\u001b[39;00m\n\u001b[1;32m    107\u001b[0m     w \u001b[39m=\u001b[39m w\u001b[39m.\u001b[39mcopy()\n",
      "File \u001b[0;32m~/pkg/miniconda3/envs/bim/lib/python3.10/site-packages/scipy/sparse/linalg/_interface.py:232\u001b[0m, in \u001b[0;36mLinearOperator.matvec\u001b[0;34m(self, x)\u001b[0m\n\u001b[1;32m    229\u001b[0m \u001b[39mif\u001b[39;00m x\u001b[39m.\u001b[39mshape \u001b[39m!=\u001b[39m (N,) \u001b[39mand\u001b[39;00m x\u001b[39m.\u001b[39mshape \u001b[39m!=\u001b[39m (N,\u001b[39m1\u001b[39m):\n\u001b[1;32m    230\u001b[0m     \u001b[39mraise\u001b[39;00m \u001b[39mValueError\u001b[39;00m(\u001b[39m'\u001b[39m\u001b[39mdimension mismatch\u001b[39m\u001b[39m'\u001b[39m)\n\u001b[0;32m--> 232\u001b[0m y \u001b[39m=\u001b[39m \u001b[39mself\u001b[39;49m\u001b[39m.\u001b[39;49m_matvec(x)\n\u001b[1;32m    234\u001b[0m \u001b[39mif\u001b[39;00m \u001b[39misinstance\u001b[39m(x, np\u001b[39m.\u001b[39mmatrix):\n\u001b[1;32m    235\u001b[0m     y \u001b[39m=\u001b[39m asmatrix(y)\n",
      "File \u001b[0;32m~/pkg/miniconda3/envs/bim/lib/python3.10/site-packages/scipy/sparse/linalg/_interface.py:530\u001b[0m, in \u001b[0;36m_CustomLinearOperator._matvec\u001b[0;34m(self, x)\u001b[0m\n\u001b[1;32m    529\u001b[0m \u001b[39mdef\u001b[39;00m \u001b[39m_matvec\u001b[39m(\u001b[39mself\u001b[39m, x):\n\u001b[0;32m--> 530\u001b[0m     \u001b[39mreturn\u001b[39;00m \u001b[39mself\u001b[39;49m\u001b[39m.\u001b[39;49m__matvec_impl(x)\n",
      "File \u001b[0;32m~/proj/stokes2d/exp3/../src/mat_vec/fmm.py:23\u001b[0m, in \u001b[0;36mFmm.__call__\u001b[0;34m(self, omega_sep)\u001b[0m\n\u001b[1;32m     20\u001b[0m \u001b[39mdef\u001b[39;00m \u001b[39m__call__\u001b[39m(\u001b[39mself\u001b[39m,omega_sep):\n\u001b[1;32m     22\u001b[0m     omega \u001b[39m=\u001b[39m omega_sep[:\u001b[39mself\u001b[39m\u001b[39m.\u001b[39mn_pts] \u001b[39m+\u001b[39m \u001b[39m1\u001b[39mj\u001b[39m*\u001b[39momega_sep[\u001b[39mself\u001b[39m\u001b[39m.\u001b[39mn_pts:]\n\u001b[0;32m---> 23\u001b[0m     ret \u001b[39m=\u001b[39m \u001b[39mself\u001b[39;49m\u001b[39m.\u001b[39;49mK_non_singular_terms(omega)\n\u001b[1;32m     24\u001b[0m     \u001b[39mif\u001b[39;00m \u001b[39mself\u001b[39m\u001b[39m.\u001b[39mn_interior_boundaries \u001b[39m>\u001b[39m \u001b[39m0\u001b[39m:\n\u001b[1;32m     25\u001b[0m         ret \u001b[39m+\u001b[39m\u001b[39m=\u001b[39m \u001b[39mself\u001b[39m\u001b[39m.\u001b[39mK_singular_terms(omega)\n",
      "File \u001b[0;32m~/proj/stokes2d/exp3/../src/mat_vec/fmm.py:38\u001b[0m, in \u001b[0;36mFmm.K_non_singular_terms\u001b[0;34m(self, omega)\u001b[0m\n\u001b[1;32m     29\u001b[0m diagonal_term \u001b[39m=\u001b[39m omega \u001b[39m+\u001b[39m \u001b[39mself\u001b[39m\u001b[39m.\u001b[39mk1_diagonal \u001b[39m*\u001b[39m \\\n\u001b[1;32m     30\u001b[0m     omega \u001b[39m+\u001b[39m (\u001b[39mself\u001b[39m\u001b[39m.\u001b[39mk2_diagonal)\u001b[39m*\u001b[39momega\u001b[39m.\u001b[39mconj()\n\u001b[1;32m     33\u001b[0m dipoles \u001b[39m=\u001b[39m np\u001b[39m.\u001b[39marray([\n\u001b[1;32m     34\u001b[0m     \u001b[39m-\u001b[39momega\u001b[39m*\u001b[39m\u001b[39mself\u001b[39m\u001b[39m.\u001b[39mdt\u001b[39m/\u001b[39m(\u001b[39m2\u001b[39mj\u001b[39m*\u001b[39mnp\u001b[39m.\u001b[39mpi),\n\u001b[1;32m     35\u001b[0m     (omega\u001b[39m.\u001b[39mconj()\u001b[39m*\u001b[39m\u001b[39mself\u001b[39m\u001b[39m.\u001b[39mdt)\u001b[39m.\u001b[39mreal\u001b[39m/\u001b[39m(\u001b[39m1\u001b[39mj\u001b[39m*\u001b[39mnp\u001b[39m.\u001b[39mpi),\n\u001b[1;32m     36\u001b[0m ])\n\u001b[0;32m---> 38\u001b[0m bh_term \u001b[39m=\u001b[39m bhfmm2d(\n\u001b[1;32m     39\u001b[0m     eps\u001b[39m=\u001b[39;49mFMM_EPS, pg\u001b[39m=\u001b[39;49m\u001b[39m1\u001b[39;49m, sources\u001b[39m=\u001b[39;49m\u001b[39mself\u001b[39;49m\u001b[39m.\u001b[39;49mboundary_sources,\n\u001b[1;32m     40\u001b[0m     dipoles\u001b[39m=\u001b[39;49mdipoles)\u001b[39m.\u001b[39mpot\n\u001b[1;32m     42\u001b[0m \u001b[39mreturn\u001b[39;00m diagonal_term \u001b[39m+\u001b[39m bh_term\n",
      "File \u001b[0;32m~/pkg/fmm2d/python/fmm2dpy/fmm2d.py:1075\u001b[0m, in \u001b[0;36mbhfmm2d\u001b[0;34m(eps, sources, charges, dipoles, targets, pg, pgt, nd)\u001b[0m\n\u001b[1;32m   1073\u001b[0m     nt \u001b[39m=\u001b[39m \u001b[39m0\u001b[39m \n\u001b[1;32m   1074\u001b[0m iper \u001b[39m=\u001b[39m \u001b[39m0\u001b[39m\n\u001b[0;32m-> 1075\u001b[0m out\u001b[39m.\u001b[39mpot,out\u001b[39m.\u001b[39mgrad,out\u001b[39m.\u001b[39mhess,out\u001b[39m.\u001b[39mpottarg,out\u001b[39m.\u001b[39mgradtarg,out\u001b[39m.\u001b[39mhesstarg,out\u001b[39m.\u001b[39mier \u001b[39m=\u001b[39m bhfmm\u001b[39m.\u001b[39;49mbhfmm2dwrap_guru(eps,sources,ifcharge,charges,ifdipole,dipoles,iper,pg,targets,pgt)\n\u001b[1;32m   1076\u001b[0m out\u001b[39m.\u001b[39mhess \u001b[39m=\u001b[39m \u001b[39mNone\u001b[39;00m\n\u001b[1;32m   1077\u001b[0m out\u001b[39m.\u001b[39mhesstarg \u001b[39m=\u001b[39m \u001b[39mNone\u001b[39;00m\n",
      "\u001b[0;31mKeyboardInterrupt\u001b[0m: "
     ]
    }
   ],
   "source": [
    "omega_sep, _ = lgmres(A, b, \n",
    "                    atol=0, tol=required_tol,\n",
    "                    inner_m=500, outer_k=10 , maxiter=100000, \n",
    "                    callback=Callback())"
   ]
  }
 ],
 "metadata": {
  "kernelspec": {
   "display_name": "Python 3.10.4 ('bim')",
   "language": "python",
   "name": "python3"
  },
  "language_info": {
   "codemirror_mode": {
    "name": "ipython",
    "version": 3
   },
   "file_extension": ".py",
   "mimetype": "text/x-python",
   "name": "python",
   "nbconvert_exporter": "python",
   "pygments_lexer": "ipython3",
   "version": "3.10.4"
  },
  "orig_nbformat": 4,
  "vscode": {
   "interpreter": {
    "hash": "b0092369962b3dab751c14bd721274f83b9943eaf7f5307a4bbeaa2b94df6b2b"
   }
  }
 },
 "nbformat": 4,
 "nbformat_minor": 2
}
