{
 "cells": [
  {
   "cell_type": "code",
   "execution_count": 7,
   "metadata": {},
   "outputs": [
    {
     "name": "stdout",
     "output_type": "stream",
     "text": [
      "# pipes:  9\n"
     ]
    }
   ],
   "source": [
    "import sys\n",
    "sys.path.insert(0,'../src/')\n",
    "from curve import *\n",
    "from utils import *\n",
    "from multiply_connected_pipe import *\n",
    "import pickle\n",
    "from matplotlib import pyplot as plt\n",
    "\n",
    "\n",
    "with open('pipes_and_shifts.pickle','rb') as f:\n",
    "    pipe_and_shifts = pickle.load(f)\n",
    "\n",
    "pipes = [p for p,_ in pipe_and_shifts]\n",
    "\n",
    "i = 0\n",
    "while i < len(pipes):\n",
    "    if pipes[i] in pipes[:i]:\n",
    "        pipes.pop(i)\n",
    "    else:\n",
    "        i+=1\n",
    "        \n",
    "print(\"# pipes: \", len(pipes))"
   ]
  },
  {
   "cell_type": "code",
   "execution_count": 8,
   "metadata": {},
   "outputs": [],
   "source": [
    "p = pipes[2]"
   ]
  },
  {
   "cell_type": "code",
   "execution_count": 9,
   "metadata": {},
   "outputs": [
    {
     "data": {
      "text/plain": [
       "6216"
      ]
     },
     "execution_count": 9,
     "metadata": {},
     "output_type": "execute_result"
    }
   ],
   "source": [
    "p.build_geometry(1e-5)\n",
    "len(p.t)"
   ]
  },
  {
   "cell_type": "code",
   "execution_count": 10,
   "metadata": {},
   "outputs": [],
   "source": [
    "p.build_A(fmm=True)"
   ]
  },
  {
   "cell_type": "code",
   "execution_count": 18,
   "metadata": {},
   "outputs": [
    {
     "data": {
      "text/plain": [
       "<matplotlib.collections.PathCollection at 0x7f8021a357b0>"
      ]
     },
     "execution_count": 18,
     "metadata": {},
     "output_type": "execute_result"
    },
    {
     "data": {
      "image/png": "[encoded data removed]",
      "text/plain": [
       "<Figure size 640x480 with 1 Axes>"
      ]
     },
     "metadata": {},
     "output_type": "display_data"
    }
   ],
   "source": [
    "plt.scatter(p.t.real,p.t.imag,s=1)\n",
    "plt.scatter(p.boundaries[0].z.real,p.boundaries[0].z.imag,s=1)"
   ]
  },
  {
   "cell_type": "code",
   "execution_count": 12,
   "metadata": {},
   "outputs": [
    {
     "name": "stdout",
     "output_type": "stream",
     "text": [
      "[0.  3.5]\t[7.9 3.5]\n",
      "[7.9 3.5]\t[8.08 3.44]\n",
      "[8.08 3.44]\t[9.92 2.06]\n",
      "[9.92 2.06]\t[10.1  2. ]\n",
      "[10.1  2. ]\t[24  2]\n",
      "[24  2]\t[24.9  2. ]\n",
      "[24.9  2. ]\t[25.07071068  2.07071068]\n",
      "[25.07071068  2.07071068]\t[25.92928932  2.92928932]\n",
      "[25.92928932  2.92928932]\t[26.1  3. ]\n",
      "[26.1  3. ]\t[27  3]\n",
      "[27.  3.]\t[27.48578644  3.        ]\n",
      "[27.48578644  3.        ]\t[27.65649712  2.92928932]\n",
      "[27.65649712  2.92928932]\t[29.29289322  1.29289322]\n",
      "[29.29289322  1.29289322]\t[30.51507576  0.07071068]\n",
      "[30.51507576  0.07071068]\t[30.51507576 -0.07071068]\n",
      "[30.51507576 -0.07071068]\t[29.29289322 -1.29289322]\n",
      "[29.29289322 -1.29289322]\t[27.65649712 -2.92928932]\n",
      "[27.65649712 -2.92928932]\t[27.48578644 -3.        ]\n",
      "[27.48578644 -3.        ]\t[27. -3.]\n",
      "[27 -3]\t[26.1 -3. ]\n",
      "[26.1 -3. ]\t[25.92928932 -2.92928932]\n",
      "[25.92928932 -2.92928932]\t[25.07071068 -2.07071068]\n",
      "[25.07071068 -2.07071068]\t[24.9 -2. ]\n",
      "[24.9 -2. ]\t[24 -2]\n",
      "[24 -2]\t[10.1 -2. ]\n",
      "[10.1 -2. ]\t[ 9.92 -2.06]\n",
      "[ 9.92 -2.06]\t[ 8.08 -3.44]\n",
      "[ 8.08 -3.44]\t[ 7.9 -3.5]\n",
      "[ 7.9 -3.5]\t[ 0.  -3.5]\n",
      "[ 0.  -3.5]\t[ 0.  -4.5]\n",
      "[ 0.  -4.5]\t[ 7.9 -4.5]\n",
      "[ 7.9 -4.5]\t[ 8.08 -4.56]\n",
      "[ 8.08 -4.56]\t[ 9.92 -5.94]\n",
      "[ 9.92 -5.94]\t[10.1 -6. ]\n",
      "[10.1 -6. ]\t[24 -6]\n",
      "[24 -6]\t[24.9 -6. ]\n",
      "[24.9 -6. ]\t[25.07071068 -5.92928932]\n",
      "[25.07071068 -5.92928932]\t[25.92928932 -5.07071068]\n",
      "[25.92928932 -5.07071068]\t[26.1 -5. ]\n",
      "[26.1 -5. ]\t[27 -5]\n",
      "[27. -5.]\t[28.31421356 -5.        ]\n",
      "[28.31421356 -5.        ]\t[28.48492424 -4.92928932]\n",
      "[28.48492424 -4.92928932]\t[30.70710678 -2.70710678]\n",
      "[30.70710678 -2.70710678]\t[32.34350288 -1.07071068]\n",
      "[32.34350288 -1.07071068]\t[32.51421356 -1.        ]\n",
      "[32.51421356 -1.        ]\t[48. -1.]\n",
      "[48. -1.]\t[48.  1.]\n",
      "[48.  1.]\t[32.51421356  1.        ]\n",
      "[32.51421356  1.        ]\t[32.34350288  1.07071068]\n",
      "[32.34350288  1.07071068]\t[30.70710678  2.70710678]\n",
      "[30.70710678  2.70710678]\t[28.48492424  4.92928932]\n",
      "[28.48492424  4.92928932]\t[28.31421356  5.        ]\n",
      "[28.31421356  5.        ]\t[27.  5.]\n",
      "[27  5]\t[26.1  5. ]\n",
      "[26.1  5. ]\t[25.92928932  5.07071068]\n",
      "[25.92928932  5.07071068]\t[25.07071068  5.92928932]\n",
      "[25.07071068  5.92928932]\t[24.9  6. ]\n",
      "[24.9  6. ]\t[24  6]\n",
      "[24  6]\t[10.1  6. ]\n",
      "[10.1  6. ]\t[9.92 5.94]\n",
      "[9.92 5.94]\t[8.08 4.56]\n",
      "[8.08 4.56]\t[7.9 4.5]\n",
      "[7.9 4.5]\t[0.  4.5]\n",
      "[0.  4.5]\t[0.  3.5]\n"
     ]
    }
   ],
   "source": [
    "for c in p.curves:\n",
    "    print(c.start_pt, c.end_pt,sep='\\t')"
   ]
  },
  {
   "cell_type": "code",
   "execution_count": 17,
   "metadata": {},
   "outputs": [
    {
     "name": "stdout",
     "output_type": "stream",
     "text": [
      "0.0\n",
      "0.0\n",
      "0.0\n",
      "0.0\n",
      "0\n",
      "0.0\n",
      "0.0\n",
      "0.0\n",
      "0.0\n",
      "0.0\n",
      "0.0\n",
      "0.0\n",
      "0.0\n",
      "0.0\n",
      "0.0\n",
      "0.0\n",
      "0.0\n",
      "0.0\n",
      "0.0\n",
      "0.0\n",
      "0.0\n",
      "0.0\n",
      "0.0\n",
      "0\n",
      "0.0\n",
      "0.0\n",
      "0.0\n",
      "0.0\n",
      "0.0\n",
      "0.0\n",
      "0.0\n",
      "0.0\n",
      "0.0\n",
      "0.0\n",
      "0\n",
      "0.0\n",
      "0.0\n",
      "0.0\n",
      "0.0\n",
      "0.0\n",
      "0.0\n",
      "0.0\n",
      "0.0\n",
      "0.0\n",
      "0.0\n",
      "0.0\n",
      "0.0\n",
      "0.0\n",
      "0.0\n",
      "0.0\n",
      "0.0\n",
      "0.0\n",
      "0.0\n",
      "0.0\n",
      "0.0\n",
      "0.0\n",
      "0.0\n",
      "0\n",
      "0.0\n",
      "0.0\n",
      "0.0\n",
      "0.0\n",
      "0.0\n",
      "0.0\n"
     ]
    }
   ],
   "source": [
    "for c1,c2 in zip(p.curves,p.curves[1:] + [p.curves[0]]):\n",
    "    print(np.max(np.abs(c1.end_pt - c2.start_pt)))"
   ]
  }
 ],
 "metadata": {
  "kernelspec": {
   "display_name": "Python 3.10.4 ('bim')",
   "language": "python",
   "name": "python3"
  },
  "language_info": {
   "codemirror_mode": {
    "name": "ipython",
    "version": 3
   },
   "file_extension": ".py",
   "mimetype": "text/x-python",
   "name": "python",
   "nbconvert_exporter": "python",
   "pygments_lexer": "ipython3",
   "version": "3.10.4"
  },
  "orig_nbformat": 4,
  "vscode": {
   "interpreter": {
    "hash": "b0092369962b3dab751c14bd721274f83b9943eaf7f5307a4bbeaa2b94df6b2b"
   }
  }
 },
 "nbformat": 4,
 "nbformat_minor": 2
}
