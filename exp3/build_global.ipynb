{
 "cells": [
  {
   "cell_type": "code",
   "execution_count": 1,
   "metadata": {},
   "outputs": [
    {
     "name": "stdout",
     "output_type": "stream",
     "text": [
      "\t\trefining boundary 0 out of 32\n",
      "\t\trefining boundary 1 out of 32\n",
      "\t\trefining boundary 2 out of 32\n",
      "\t\trefining boundary 3 out of 32\n",
      "\t\trefining boundary 4 out of 32\n",
      "\t\trefining boundary 5 out of 32\n",
      "\t\trefining boundary 6 out of 32\n",
      "\t\trefining boundary 7 out of 32\n",
      "\t\trefining boundary 8 out of 32\n",
      "\t\trefining boundary 9 out of 32\n",
      "\t\trefining boundary 10 out of 32\n",
      "\t\trefining boundary 11 out of 32\n",
      "\t\trefining boundary 12 out of 32\n",
      "\t\trefining boundary 13 out of 32\n",
      "\t\trefining boundary 14 out of 32\n",
      "\t\trefining boundary 15 out of 32\n",
      "\t\trefining boundary 16 out of 32\n",
      "\t\trefining boundary 17 out of 32\n",
      "\t\trefining boundary 18 out of 32\n",
      "\t\trefining boundary 19 out of 32\n",
      "\t\trefining boundary 20 out of 32\n",
      "\t\trefining boundary 21 out of 32\n",
      "\t\trefining boundary 22 out of 32\n",
      "\t\trefining boundary 23 out of 32\n",
      "\t\trefining boundary 24 out of 32\n",
      "\t\trefining boundary 25 out of 32\n",
      "\t\trefining boundary 26 out of 32\n",
      "\t\trefining boundary 27 out of 32\n",
      "\t\trefining boundary 28 out of 32\n",
      "\t\trefining boundary 29 out of 32\n",
      "\t\trefining boundary 30 out of 32\n",
      "\t\trefining boundary 31 out of 32\n",
      "geometry_built, time used:  398.5687789916992\n",
      "number of points:  497042\n"
     ]
    }
   ],
   "source": [
    "import sys\n",
    "sys.path.insert(0,'../src/')\n",
    "from curve import *\n",
    "from utils import *\n",
    "from multiply_connected_pipe import *\n",
    "import pickle\n",
    "\n",
    "from time import time\n",
    "\n",
    "\n",
    "with open('global_pipe_unbuilt.pickle','rb') as f:\n",
    "    pipe = pickle.load(f)\n",
    "\n",
    "required_tol = 5e-11\n",
    "\n",
    "t = time()\n",
    "pipe.build_geometry(required_tol=required_tol,n_jobs=9)\n",
    "# for p in pipe.panels: p._build()\n",
    "pipe.build_A(fmm=True)\n",
    "print(\"geometry_built, time used: \", time()-t)\n",
    "print(\"number of points: \", len(pipe.t))\n",
    "# t = time()\n",
    "# pipe.build_omegas(tol=required_tol)\n",
    "# print(\"solver built, time used: \", time()-t)\n",
    "# print('n omegas: ', len(pipe.omegas))\n",
    "# print()\n",
    "\n",
    "# pipe.build_pressure_drops()\n",
    "\n",
    "with open('global_pipe_with_geometry.pickle','wb') as f:\n",
    "    pickle.dump(pipe,f,fix_imports=True,protocol=None)\n",
    "    "
   ]
  },
  {
   "cell_type": "code",
   "execution_count": 2,
   "metadata": {},
   "outputs": [],
   "source": [
    "pipe.build_omegas(tol=required_tol)"
   ]
  },
  {
   "cell_type": "code",
   "execution_count": null,
   "metadata": {},
   "outputs": [],
   "source": []
  }
 ],
 "metadata": {
  "kernelspec": {
   "display_name": "Python 3.10.5 ('bim')",
   "language": "python",
   "name": "python3"
  },
  "language_info": {
   "codemirror_mode": {
    "name": "ipython",
    "version": 3
   },
   "file_extension": ".py",
   "mimetype": "text/x-python",
   "name": "python",
   "nbconvert_exporter": "python",
   "pygments_lexer": "ipython3",
   "version": "3.10.5"
  },
  "orig_nbformat": 4,
  "vscode": {
   "interpreter": {
    "hash": "c63784d83960d2c89cfe6fb5ec298e84c6499521dac7c7c8fd1fc1b7e373202c"
   }
  }
 },
 "nbformat": 4,
 "nbformat_minor": 2
}
