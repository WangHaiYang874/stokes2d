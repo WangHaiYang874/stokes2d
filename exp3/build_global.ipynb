{
 "cells": [
  {
   "cell_type": "code",
   "execution_count": 1,
   "metadata": {},
   "outputs": [
    {
     "name": "stdout",
     "output_type": "stream",
     "text": [
      "number of points:  497042\n"
     ]
    }
   ],
   "source": [
    "import sys\n",
    "sys.path.insert(0,'../src/')\n",
    "from curve import *\n",
    "from utils import *\n",
    "from multiply_connected_pipe import *\n",
    "import pickle\n",
    "\n",
    "from time import time\n",
    "\n",
    "\n",
    "with open('global_pipe_with_geometry.pickle','rb') as f:\n",
    "    pipe = pickle.load(f)\n",
    "\n",
    "required_tol = 1e-10\n",
    "pipe.build_A(fmm=True)\n",
    "print(\"number of points: \", len(pipe.t))"
   ]
  },
  {
   "cell_type": "code",
   "execution_count": 2,
   "metadata": {},
   "outputs": [
    {
     "name": "stdout",
     "output_type": "stream",
     "text": [
      "\tResidual norm: 0.5051638470797304 at iteration 5, time: 0.34781055053075155 mins\n",
      "\tResidual norm: 0.5027738080282724 at iteration 10, time: 0.6090878526369731 mins\n",
      "\tResidual norm: 0.5015596463902584 at iteration 15, time: 0.8772933721542359 mins\n",
      "\tResidual norm: 0.5012281523121236 at iteration 20, time: 1.1243611733118692 mins\n",
      "\tResidual norm: 0.5007527534224859 at iteration 25, time: 1.3544904867808023 mins\n",
      "\tResidual norm: 0.5003830905458584 at iteration 30, time: 1.591731568177541 mins\n",
      "\tResidual norm: 0.49973284616895364 at iteration 35, time: 1.8471291303634643 mins\n",
      "\tResidual norm: 0.4985665869184527 at iteration 40, time: 2.085554361343384 mins\n",
      "\tResidual norm: 0.49747762433803305 at iteration 45, time: 2.317338772614797 mins\n",
      "\tResidual norm: 0.4964512798351485 at iteration 50, time: 2.5783494234085085 mins\n",
      "\tResidual norm: 0.48936989748677 at iteration 55, time: 2.834608769416809 mins\n",
      "\tResidual norm: 0.4794031257720576 at iteration 60, time: 3.0747955362002055 mins\n",
      "\tResidual norm: 0.4658433343913744 at iteration 65, time: 3.308822774887085 mins\n",
      "\tResidual norm: 0.45126991518003057 at iteration 70, time: 3.5608696500460306 mins\n",
      "\tResidual norm: 0.435711175235083 at iteration 75, time: 3.7978920976320905 mins\n",
      "\tResidual norm: 0.4282892883226445 at iteration 80, time: 4.037203617890676 mins\n",
      "\tResidual norm: 0.42614005810479016 at iteration 85, time: 4.282818655172984 mins\n",
      "\tResidual norm: 0.4213670841449939 at iteration 90, time: 4.52971597512563 mins\n",
      "\tResidual norm: 0.4070879145041229 at iteration 95, time: 4.7837302406628925 mins\n",
      "\tResidual norm: 0.36400045400983505 at iteration 100, time: 5.036661100387573 mins\n",
      "\tResidual norm: 0.32593446129293374 at iteration 105, time: 5.276124544938406 mins\n",
      "\tResidual norm: 0.2799922746000682 at iteration 110, time: 5.532235125700633 mins\n",
      "\tResidual norm: 0.23965999877277983 at iteration 115, time: 5.7945475021998085 mins\n",
      "\tResidual norm: 0.21573827663962264 at iteration 120, time: 6.082361189524333 mins\n"
     ]
    }
   ],
   "source": [
    "pipe.build_omegas(tol=required_tol,restart=len(pipe.t)//16,max_iter=16)"
   ]
  },
  {
   "cell_type": "code",
   "execution_count": null,
   "metadata": {},
   "outputs": [],
   "source": []
  },
  {
   "cell_type": "code",
   "execution_count": null,
   "metadata": {},
   "outputs": [],
   "source": [
    "with open('omegas.pickle') as f:\n",
    "    pickle.dump(pipe.omegas,f)"
   ]
  }
 ],
 "metadata": {
  "kernelspec": {
   "display_name": "Python 3.10.4 ('bim')",
   "language": "python",
   "name": "python3"
  },
  "language_info": {
   "codemirror_mode": {
    "name": "ipython",
    "version": 3
   },
   "file_extension": ".py",
   "mimetype": "text/x-python",
   "name": "python",
   "nbconvert_exporter": "python",
   "pygments_lexer": "ipython3",
   "version": "3.10.4"
  },
  "orig_nbformat": 4,
  "vscode": {
   "interpreter": {
    "hash": "b0092369962b3dab751c14bd721274f83b9943eaf7f5307a4bbeaa2b94df6b2b"
   }
  }
 },
 "nbformat": 4,
 "nbformat_minor": 2
}
