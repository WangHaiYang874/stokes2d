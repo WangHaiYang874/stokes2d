{
 "cells": [
  {
   "cell_type": "code",
   "execution_count": 1,
   "metadata": {
    "collapsed": true,
    "pycharm": {
     "name": "#%%\n"
    }
   },
   "outputs": [
    {
     "name": "stderr",
     "output_type": "stream",
     "text": [
      "/home/haiy/pkg/miniconda3/envs/bim/lib/python3.10/site-packages/scipy/__init__.py:146: UserWarning: A NumPy version >=1.16.5 and <1.23.0 is required for this version of SciPy (detected version 1.23.1\n",
      "  warnings.warn(f\"A NumPy version >={np_minversion} and <{np_maxversion}\"\n"
     ]
    }
   ],
   "source": [
    "import sys\n",
    "sys.path.insert(0,'./src/')\n",
    "from curve import *\n",
    "from utility_and_spec import *\n",
    "import numpy as np\n",
    "from matplotlib import pyplot as plt\n",
    "from tubes_dev import *"
   ]
  },
  {
   "cell_type": "code",
   "execution_count": 8,
   "outputs": [],
   "source": [
    "l1 = pt(-5,0)\n",
    "l2 = pt(3,-2)\n",
    "l3 = pt(3,2)\n",
    "ls = np.array([l1,l2,l3])\n",
    "rs = np.array([1,1,1])\n",
    "Y = NLets(ls,rs,corner_size=1)"
   ],
   "metadata": {
    "collapsed": false,
    "pycharm": {
     "name": "#%%\n"
    }
   }
  },
  {
   "cell_type": "code",
   "execution_count": 9,
   "outputs": [],
   "source": [
    "Y.build_geometry()"
   ],
   "metadata": {
    "collapsed": false,
    "pycharm": {
     "name": "#%%\n"
    }
   }
  },
  {
   "cell_type": "code",
   "execution_count": 33,
   "outputs": [
    {
     "data": {
      "text/plain": "array([ 0.00000000e+00,  0.00000000e+00,  0.00000000e+00,  0.00000000e+00,\n        0.00000000e+00,  0.00000000e+00,  0.00000000e+00,  0.00000000e+00,\n        0.00000000e+00,  0.00000000e+00, -2.22044605e-16, -3.10862447e-15,\n       -1.99840144e-14, -7.37188088e-14, -1.72306613e-13, -2.71782596e-13])"
     },
     "execution_count": 33,
     "metadata": {},
     "output_type": "execute_result"
    }
   ],
   "source": [
    "p = Y.curves[2].panels[0]\n",
    "p.y + 1"
   ],
   "metadata": {
    "collapsed": false,
    "pycharm": {
     "name": "#%%\n"
    }
   }
  },
  {
   "cell_type": "code",
   "execution_count": 25,
   "outputs": [
    {
     "name": "stdout",
     "output_type": "stream",
     "text": [
      "512.6662418188611\t2\t0\n",
      "513.977948388647\t2\t1\n",
      "513.977948388647\t2\t32\n",
      "512.6662418188611\t2\t33\n",
      "517.5805877956159\t6\t0\n",
      "529.035202580776\t6\t1\n",
      "313.14079955736787\t6\t5\n",
      "327.0983318649656\t6\t6\n",
      "340.8990809062187\t6\t7\n",
      "354.1806112508752\t6\t8\n",
      "354.1806112508752\t6\t17\n",
      "340.8990809062187\t6\t18\n",
      "327.0983318649656\t6\t19\n",
      "313.14079955736787\t6\t20\n",
      "529.035202580776\t6\t24\n",
      "517.5805877956159\t6\t25\n",
      "512.666241818861\t10\t0\n",
      "513.977948388647\t10\t1\n",
      "513.977948388647\t10\t32\n",
      "512.666241818861\t10\t33\n"
     ]
    }
   ],
   "source": [
    "for i,c in enumerate(Y.curves):\n",
    "    for j,p in enumerate(c.panels):\n",
    "        length = np.sum(np.abs(p.dt_da)*p.da)\n",
    "        points = len(p.da)\n",
    "        ratio = points/length\n",
    "        if ratio > 300:\n",
    "            print(ratio,i,j,sep='\\t')"
   ],
   "metadata": {
    "collapsed": false,
    "pycharm": {
     "name": "#%%\n"
    }
   }
  },
  {
   "cell_type": "code",
   "execution_count": 32,
   "outputs": [
    {
     "data": {
      "text/plain": "array([1.09329219e+00, 1.78272292e-09, 1.04378297e-12, 3.14719485e-13,\n       4.53723754e-13, 7.13902256e-13, 3.42182909e-13, 2.79228903e-13,\n       6.04130588e-13, 3.80779900e-13, 1.71770452e-13, 5.53376739e-13,\n       4.29798723e-13, 8.45314115e-14, 5.28633518e-13, 4.95624899e-13])"
     },
     "execution_count": 32,
     "metadata": {},
     "output_type": "execute_result"
    }
   ],
   "source": [
    "panel = c.panels[19]\n",
    "np.abs(np.polynomial.legendre.Legendre.fit(\n",
    "        panel.a, panel.t,deg=len(panel.a) - 1, domain=panel.domain).coef)"
   ],
   "metadata": {
    "collapsed": false,
    "pycharm": {
     "name": "#%%\n"
    }
   }
  },
  {
   "cell_type": "code",
   "execution_count": 34,
   "outputs": [
    {
     "data": {
      "text/plain": "<curve.Corner at 0x7f264db16cb0>"
     },
     "execution_count": 34,
     "metadata": {},
     "output_type": "execute_result"
    }
   ],
   "source": [
    "np.abs(np.polynomial.legendre.Legendre.fit(\n",
    "        panel.a, panel.t,deg=len(panel.a) - 1, domain=panel.domain).coef)"
   ],
   "metadata": {
    "collapsed": false,
    "pycharm": {
     "name": "#%%\n"
    }
   }
  },
  {
   "cell_type": "code",
   "execution_count": 34,
   "outputs": [
    {
     "data": {
      "text/plain": "<curve.Corner at 0x7f264db16cb0>"
     },
     "execution_count": 34,
     "metadata": {},
     "output_type": "execute_result"
    }
   ],
   "source": [
    "np.abs(np.polynomial.legendre.Legendre.fit(\n",
    "        panel.a, panel.t,deg=len(panel.a) - 1, domain=panel.domain).coef)"
   ],
   "metadata": {
    "collapsed": false,
    "pycharm": {
     "name": "#%%\n"
    }
   }
  },
  {
   "cell_type": "code",
   "execution_count": 39,
   "outputs": [
    {
     "data": {
      "text/plain": "-27.0"
     },
     "execution_count": 39,
     "metadata": {},
     "output_type": "execute_result"
    }
   ],
   "source": [
    "np.log2(panel.domain[1]-panel.domain[0])"
   ],
   "metadata": {
    "collapsed": false,
    "pycharm": {
     "name": "#%%\n"
    }
   }
  },
  {
   "cell_type": "code",
   "execution_count": 40,
   "outputs": [],
   "source": [
    "from math_functions import *"
   ],
   "metadata": {
    "collapsed": false,
    "pycharm": {
     "name": "#%%\n"
    }
   }
  },
  {
   "cell_type": "code",
   "execution_count": 171,
   "outputs": [
    {
     "data": {
      "text/plain": "[<matplotlib.lines.Line2D at 0x7f2609ef6bf0>]"
     },
     "execution_count": 171,
     "metadata": {},
     "output_type": "execute_result"
    },
    {
     "data": {
      "text/plain": "<Figure size 432x288 with 1 Axes>",
      "image/png": "[encoded data removed]"
     },
     "metadata": {
      "needs_background": "light"
     },
     "output_type": "display_data"
    }
   ],
   "source": [
    "x = np.linspace(-1,1,1024)\n",
    "y = np.array([convoluted_abs(t) for t in x])\n",
    "plt.plot(x,y)"
   ],
   "metadata": {
    "collapsed": false,
    "pycharm": {
     "name": "#%%\n"
    }
   }
  },
  {
   "cell_type": "code",
   "execution_count": 172,
   "outputs": [],
   "source": [
    "from scipy.integrate import quad"
   ],
   "metadata": {
    "collapsed": false,
    "pycharm": {
     "name": "#%%\n"
    }
   }
  },
  {
   "cell_type": "code",
   "execution_count": 173,
   "outputs": [
    {
     "name": "stderr",
     "output_type": "stream",
     "text": [
      "/tmp/ipykernel_22984/3194827781.py:1: IntegrationWarning: The occurrence of roundoff error is detected, which prevents \n",
      "  the requested tolerance from being achieved.  The error may be \n",
      "  underestimated.\n",
      "  bump_def_int = quad(_bump, -1, 1, epsabs=1e-17, epsrel=1e-17)[0]\n"
     ]
    }
   ],
   "source": [
    "bump_def_int = quad(_bump, -1, 1, epsabs=1e-17, epsrel=1e-17)[0]\n",
    "\n",
    "def convoluted_abs1_err(x,eps=1e-17):\n",
    "    if np.abs(x) >= 1:\n",
    "        return 0\n",
    "\n",
    "    def b(y): return _bump(y)*np.abs(x-y)\n",
    "\n",
    "    return quad(b, -1, 1, epsabs=eps, epsrel=eps)[1]\n",
    "\n"
   ],
   "metadata": {
    "collapsed": false,
    "pycharm": {
     "name": "#%%\n"
    }
   }
  },
  {
   "cell_type": "code",
   "execution_count": 174,
   "outputs": [
    {
     "name": "stderr",
     "output_type": "stream",
     "text": [
      "/tmp/ipykernel_22984/3194827781.py:9: IntegrationWarning: The occurrence of roundoff error is detected, which prevents \n",
      "  the requested tolerance from being achieved.  The error may be \n",
      "  underestimated.\n",
      "  return quad(b, -1, 1, epsabs=eps, epsrel=eps)[1]\n",
      "/tmp/ipykernel_22984/3194827781.py:9: IntegrationWarning: The algorithm does not converge.  Roundoff error is detected\n",
      "  in the extrapolation table.  It is assumed that the requested tolerance\n",
      "  cannot be achieved, and that the returned result (if full_output = 1) is \n",
      "  the best which can be obtained.\n",
      "  return quad(b, -1, 1, epsabs=eps, epsrel=eps)[1]\n",
      "/tmp/ipykernel_22984/3194827781.py:16: IntegrationWarning: The occurrence of roundoff error is detected, which prevents \n",
      "  the requested tolerance from being achieved.  The error may be \n",
      "  underestimated.\n",
      "  b = quad(_bump,\n",
      "/tmp/ipykernel_22984/3194827781.py:19: IntegrationWarning: The occurrence of roundoff error is detected, which prevents \n",
      "  the requested tolerance from being achieved.  The error may be \n",
      "  underestimated.\n",
      "  d = quad(lambda y: y*_bump(y),\n"
     ]
    },
    {
     "data": {
      "text/plain": "[<matplotlib.lines.Line2D at 0x7f2609d4dea0>]"
     },
     "execution_count": 174,
     "metadata": {},
     "output_type": "execute_result"
    },
    {
     "data": {
      "text/plain": "<Figure size 432x288 with 1 Axes>",
      "image/png": "[encoded data removed]"
     },
     "metadata": {
      "needs_background": "light"
     },
     "output_type": "display_data"
    }
   ],
   "source": [
    "err1 = np.array([convoluted_abs1_err(t) for t in x])\n",
    "err2 = np.array([convoluted_abs2_err(t) for t in x])\n",
    "plt.semilogy(x,err1)\n",
    "plt.semilogy(x,err2)"
   ],
   "metadata": {
    "collapsed": false,
    "pycharm": {
     "name": "#%%\n"
    }
   }
  },
  {
   "cell_type": "code",
   "execution_count": 149,
   "outputs": [
    {
     "name": "stdout",
     "output_type": "stream",
     "text": [
      "Unexpected exception formatting exception. Falling back to standard exception\n"
     ]
    },
    {
     "name": "stderr",
     "output_type": "stream",
     "text": [
      "Traceback (most recent call last):\n",
      "  File \"/home/haiy/pkg/miniconda3/envs/bim/lib/python3.10/site-packages/IPython/core/interactiveshell.py\", line 3398, in run_code\n",
      "    exec(code_obj, self.user_global_ns, self.user_ns)\n",
      "  File \"/tmp/ipykernel_22984/99975100.py\", line 3, in <cell line: 3>\n",
      "    c.build()\n",
      "  File \"/home/haiy/proj/stokes2d/./src/curve.py\", line 103, in build\n",
      "    p1, p2 = self.split_a_panel(p)\n",
      "  File \"/home/haiy/proj/stokes2d/./src/curve.py\", line 134, in split_a_panel\n",
      "    y = self.y_fn(a)\n",
      "  File \"/home/haiy/proj/stokes2d/./src/curve.py\", line 250, in <lambda>\n",
      "    y_fn = lambda _, a: np.array([convoluted_abs(x) for x in a])\n",
      "  File \"/home/haiy/proj/stokes2d/./src/curve.py\", line 250, in <listcomp>\n",
      "    y_fn = lambda _, a: np.array([convoluted_abs(x) for x in a])\n",
      "  File \"/home/haiy/proj/stokes2d/./src/math_functions.py\", line 109, in convoluted_abs\n",
      "    return quad(b, -1, 1, epsabs=ERR, epsrel=ERR, full_output=1)[0]/bump_def_int\n",
      "  File \"/home/haiy/pkg/miniconda3/envs/bim/lib/python3.10/site-packages/scipy/integrate/quadpack.py\", line 351, in quad\n",
      "    retval = _quad(func, a, b, args, full_output, epsabs, epsrel, limit,\n",
      "  File \"/home/haiy/pkg/miniconda3/envs/bim/lib/python3.10/site-packages/scipy/integrate/quadpack.py\", line 463, in _quad\n",
      "    return _quadpack._qagse(func,a,b,args,full_output,epsabs,epsrel,limit)\n",
      "  File \"/home/haiy/proj/stokes2d/./src/math_functions.py\", line 108, in b\n",
      "  File \"/home/haiy/proj/stokes2d/./src/math_functions.py\", line 102, in _normalized_bump\n",
      "    def convoluted_abs(x):\n",
      "  File \"/home/haiy/proj/stokes2d/./src/math_functions.py\", line 71, in _bump\n",
      "    if isinstance(a, numbers.Number):\n",
      "  File \"/home/haiy/pkg/miniconda3/envs/bim/lib/python3.10/abc.py\", line 119, in __instancecheck__\n",
      "    return _abc_instancecheck(cls, instance)\n",
      "KeyboardInterrupt\n",
      "\n",
      "During handling of the above exception, another exception occurred:\n",
      "\n",
      "Traceback (most recent call last):\n",
      "  File \"/home/haiy/pkg/miniconda3/envs/bim/lib/python3.10/site-packages/IPython/core/interactiveshell.py\", line 1993, in showtraceback\n",
      "    stb = self.InteractiveTB.structured_traceback(\n",
      "  File \"/home/haiy/pkg/miniconda3/envs/bim/lib/python3.10/site-packages/IPython/core/ultratb.py\", line 1118, in structured_traceback\n",
      "    return FormattedTB.structured_traceback(\n",
      "  File \"/home/haiy/pkg/miniconda3/envs/bim/lib/python3.10/site-packages/IPython/core/ultratb.py\", line 1012, in structured_traceback\n",
      "    return VerboseTB.structured_traceback(\n",
      "  File \"/home/haiy/pkg/miniconda3/envs/bim/lib/python3.10/site-packages/IPython/core/ultratb.py\", line 865, in structured_traceback\n",
      "    formatted_exception = self.format_exception_as_a_whole(etype, evalue, etb, number_of_lines_of_context,\n",
      "  File \"/home/haiy/pkg/miniconda3/envs/bim/lib/python3.10/site-packages/IPython/core/ultratb.py\", line 818, in format_exception_as_a_whole\n",
      "    frames.append(self.format_record(r))\n",
      "  File \"/home/haiy/pkg/miniconda3/envs/bim/lib/python3.10/site-packages/IPython/core/ultratb.py\", line 736, in format_record\n",
      "    result += ''.join(_format_traceback_lines(frame_info.lines, Colors, self.has_colors, lvals))\n",
      "  File \"/home/haiy/pkg/miniconda3/envs/bim/lib/python3.10/site-packages/stack_data/utils.py\", line 145, in cached_property_wrapper\n",
      "    value = obj.__dict__[self.func.__name__] = self.func(obj)\n",
      "  File \"/home/haiy/pkg/miniconda3/envs/bim/lib/python3.10/site-packages/stack_data/core.py\", line 698, in lines\n",
      "    pieces = self.included_pieces\n",
      "  File \"/home/haiy/pkg/miniconda3/envs/bim/lib/python3.10/site-packages/stack_data/utils.py\", line 145, in cached_property_wrapper\n",
      "    value = obj.__dict__[self.func.__name__] = self.func(obj)\n",
      "  File \"/home/haiy/pkg/miniconda3/envs/bim/lib/python3.10/site-packages/stack_data/core.py\", line 649, in included_pieces\n",
      "    pos = scope_pieces.index(self.executing_piece)\n",
      "  File \"/home/haiy/pkg/miniconda3/envs/bim/lib/python3.10/site-packages/stack_data/utils.py\", line 145, in cached_property_wrapper\n",
      "    value = obj.__dict__[self.func.__name__] = self.func(obj)\n",
      "  File \"/home/haiy/pkg/miniconda3/envs/bim/lib/python3.10/site-packages/stack_data/core.py\", line 628, in executing_piece\n",
      "    return only(\n",
      "  File \"/home/haiy/pkg/miniconda3/envs/bim/lib/python3.10/site-packages/executing/executing.py\", line 164, in only\n",
      "    raise NotOneValueFound('Expected one value, found 0')\n",
      "executing.executing.NotOneValueFound: Expected one value, found 0\n"
     ]
    }
   ],
   "source": [
    "c = Corner(pt(-1,1),pt(1,1),pt(0,0))\n",
    "c.build_affine_transform()\n",
    "c.build()"
   ],
   "metadata": {
    "collapsed": false,
    "pycharm": {
     "name": "#%%\n"
    }
   }
  }
 ],
 "metadata": {
  "kernelspec": {
   "display_name": "Python 3",
   "language": "python",
   "name": "python3"
  },
  "language_info": {
   "codemirror_mode": {
    "name": "ipython",
    "version": 2
   },
   "file_extension": ".py",
   "mimetype": "text/x-python",
   "name": "python",
   "nbconvert_exporter": "python",
   "pygments_lexer": "ipython2",
   "version": "2.7.6"
  }
 },
 "nbformat": 4,
 "nbformat_minor": 0
}