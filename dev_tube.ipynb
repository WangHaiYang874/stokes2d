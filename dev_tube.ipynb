{
 "cells": [
  {
   "cell_type": "code",
   "execution_count": 1,
   "metadata": {
    "collapsed": true,
    "pycharm": {
     "name": "#%%\n"
    }
   },
<<<<<<< HEAD
   "outputs": [
    {
     "name": "stderr",
     "output_type": "stream",
     "text": [
      "/home/haiy/pkg/miniconda3/envs/bim/lib/python3.10/site-packages/scipy/__init__.py:146: UserWarning: A NumPy version >=1.16.5 and <1.23.0 is required for this version of SciPy (detected version 1.23.1\n",
      "  warnings.warn(f\"A NumPy version >={np_minversion} and <{np_maxversion}\"\n"
     ]
    }
   ],
=======
   "outputs": [],
>>>>>>> 5597fb79997e1c627480bceb6c3503a35c96200a
   "source": [
    "import sys\n",
    "sys.path.insert(0,'./src/')\n",
    "from curve import *\n",
    "from utility_and_spec import *\n",
    "import numpy as np\n",
    "from matplotlib import pyplot as plt\n",
<<<<<<< HEAD
    "from tubes_dev import *"
=======
    "from tube import *"
>>>>>>> 5597fb79997e1c627480bceb6c3503a35c96200a
   ]
  },
  {
   "cell_type": "code",
   "execution_count": 2,
   "metadata": {
    "collapsed": false,
    "pycharm": {
     "name": "#%%\n"
    }
   },
   "outputs": [],
   "source": [
    "l1 = pt(-5,0)\n",
<<<<<<< HEAD
    "l2 = pt(3,-2)\n",
    "l3 = pt(3,2)\n",
=======
    "l2 = pt(4,-3)\n",
    "l3 = pt(4,3)\n",
>>>>>>> 5597fb79997e1c627480bceb6c3503a35c96200a
    "ls = np.array([l1,l2,l3])\n",
    "rs = np.array([1,1,1])\n",
    "Y = NLets(ls,rs,corner_size=1)"
   ]
  },
  {
   "cell_type": "code",
   "execution_count": 3,
   "metadata": {
    "collapsed": false,
    "pycharm": {
     "name": "#%%\n"
    }
   },
   "outputs": [],
   "source": [
<<<<<<< HEAD
    "Y.build_geometry()"
=======
    "Y.build_geometry(legendre_ratio=1e-14,max_distance=1e-2)"
>>>>>>> 5597fb79997e1c627480bceb6c3503a35c96200a
   ]
  },
  {
   "cell_type": "code",
<<<<<<< HEAD
   "execution_count": 33,
   "metadata": {
    "collapsed": false,
    "pycharm": {
     "name": "#%%\n"
    }
   },
   "outputs": [
    {
     "data": {
      "text/plain": [
       "array([ 0.00000000e+00,  0.00000000e+00,  0.00000000e+00,  0.00000000e+00,\n",
       "        0.00000000e+00,  0.00000000e+00,  0.00000000e+00,  0.00000000e+00,\n",
       "        0.00000000e+00,  0.00000000e+00, -2.22044605e-16, -3.10862447e-15,\n",
       "       -1.99840144e-14, -7.37188088e-14, -1.72306613e-13, -2.71782596e-13])"
      ]
     },
     "execution_count": 33,
     "metadata": {},
     "output_type": "execute_result"
    }
   ],
   "source": [
    "p = Y.curves[2].panels[0]\n",
    "p.y + 1"
   ]
  },
  {
   "cell_type": "code",
   "execution_count": 25,
   "metadata": {
    "collapsed": false,
    "pycharm": {
     "name": "#%%\n"
    }
   },
   "outputs": [
    {
     "name": "stdout",
     "output_type": "stream",
     "text": [
      "512.6662418188611\t2\t0\n",
      "513.977948388647\t2\t1\n",
      "513.977948388647\t2\t32\n",
      "512.6662418188611\t2\t33\n",
      "517.5805877956159\t6\t0\n",
      "529.035202580776\t6\t1\n",
      "313.14079955736787\t6\t5\n",
      "327.0983318649656\t6\t6\n",
      "340.8990809062187\t6\t7\n",
      "354.1806112508752\t6\t8\n",
      "354.1806112508752\t6\t17\n",
      "340.8990809062187\t6\t18\n",
      "327.0983318649656\t6\t19\n",
      "313.14079955736787\t6\t20\n",
      "529.035202580776\t6\t24\n",
      "517.5805877956159\t6\t25\n",
      "512.666241818861\t10\t0\n",
      "513.977948388647\t10\t1\n",
      "513.977948388647\t10\t32\n",
      "512.666241818861\t10\t33\n"
     ]
    }
   ],
   "source": [
    "for i,c in enumerate(Y.curves):\n",
    "    for j,p in enumerate(c.panels):\n",
    "        length = np.sum(np.abs(p.dt_da)*p.da)\n",
    "        points = len(p.da)\n",
    "        ratio = points/length\n",
    "        if ratio > 300:\n",
    "            print(ratio,i,j,sep='\\t')"
   ]
  },
  {
   "cell_type": "code",
   "execution_count": 32,
   "metadata": {
    "collapsed": false,
    "pycharm": {
     "name": "#%%\n"
    }
   },
   "outputs": [
    {
     "data": {
      "text/plain": [
       "array([1.09329219e+00, 1.78272292e-09, 1.04378297e-12, 3.14719485e-13,\n",
       "       4.53723754e-13, 7.13902256e-13, 3.42182909e-13, 2.79228903e-13,\n",
       "       6.04130588e-13, 3.80779900e-13, 1.71770452e-13, 5.53376739e-13,\n",
       "       4.29798723e-13, 8.45314115e-14, 5.28633518e-13, 4.95624899e-13])"
      ]
     },
     "execution_count": 32,
     "metadata": {},
     "output_type": "execute_result"
    }
   ],
   "source": [
    "panel = c.panels[19]\n",
    "np.abs(np.polynomial.legendre.Legendre.fit(\n",
    "        panel.a, panel.t,deg=len(panel.a) - 1, domain=panel.domain).coef)"
   ]
  },
  {
   "cell_type": "code",
   "execution_count": 34,
   "metadata": {
    "collapsed": false,
    "pycharm": {
     "name": "#%%\n"
    }
   },
   "outputs": [
    {
     "data": {
      "text/plain": [
       "<curve.Corner at 0x7f264db16cb0>"
      ]
     },
     "execution_count": 34,
     "metadata": {},
     "output_type": "execute_result"
    }
   ],
   "source": [
    "np.abs(np.polynomial.legendre.Legendre.fit(\n",
    "        panel.a, panel.t,deg=len(panel.a) - 1, domain=panel.domain).coef)"
=======
   "execution_count": 4,
   "metadata": {},
   "outputs": [],
   "source": [
    "Y.build_graph()\n",
    "flow = Y.flows[0]\n",
    "U = Y.get_bounadry_velocity_condition(0)"
>>>>>>> 5597fb79997e1c627480bceb6c3503a35c96200a
   ]
  },
  {
   "cell_type": "code",
<<<<<<< HEAD
   "execution_count": 34,
   "metadata": {
    "collapsed": false,
    "pycharm": {
     "name": "#%%\n"
    }
   },
   "outputs": [
    {
     "data": {
      "text/plain": [
       "<curve.Corner at 0x7f264db16cb0>"
      ]
     },
     "execution_count": 34,
     "metadata": {},
     "output_type": "execute_result"
    }
   ],
   "source": [
    "np.abs(np.polynomial.legendre.Legendre.fit(\n",
    "        panel.a, panel.t,deg=len(panel.a) - 1, domain=panel.domain).coef)"
=======
   "execution_count": null,
   "metadata": {},
   "outputs": [],
   "source": [
    "Y.build_A()\n",
    "Y.solve(tol=1e-12)"
>>>>>>> 5597fb79997e1c627480bceb6c3503a35c96200a
   ]
  },
  {
   "cell_type": "code",
<<<<<<< HEAD
   "execution_count": 39,
   "metadata": {
    "collapsed": false,
    "pycharm": {
     "name": "#%%\n"
    }
   },
   "outputs": [
    {
     "data": {
      "text/plain": [
       "-27.0"
      ]
     },
     "execution_count": 39,
     "metadata": {},
     "output_type": "execute_result"
    }
   ],
   "source": [
    "np.log2(panel.domain[1]-panel.domain[0])"
=======
   "execution_count": 33,
   "metadata": {},
   "outputs": [],
   "source": [
    "pts = []\n",
    "for c in Y.curves:\n",
    "    if isinstance(c,Cap):\n",
    "        pts += [c.start_pt, c.matching_pt]\n",
    "    elif isinstance(c,Line):\n",
    "        pts += [c.start_pt, c.mid_pt]\n",
    "    elif isinstance(c,Corner):\n",
    "        pts += [[c.x[i], c.y[i]] for i in range(len(c.a))]\n",
    "pts = np.array(pts)\n",
    "\n",
    "left = np.min(pts[:,0])\n",
    "right = np.max(pts[:,0])\n",
    "up = np.max(pts[:,0])\n",
    "down = np.min(pts[:,0])"
>>>>>>> 5597fb79997e1c627480bceb6c3503a35c96200a
   ]
  },
  {
   "cell_type": "code",
<<<<<<< HEAD
   "execution_count": 40,
   "metadata": {
    "collapsed": false,
    "pycharm": {
     "name": "#%%\n"
    }
   },
   "outputs": [],
   "source": [
    "from math_functions import *"
=======
   "execution_count": 35,
   "metadata": {},
   "outputs": [],
   "source": [
    "n = np.sqrt(100)\n",
    "xs = np.linspace(left,right,int(np.ceil(n*(right-left))))\n",
    "ys = np.linspace(down,up,int(np.ceil(n*(up-down))))\n",
    "xs,ys = np.meshgrid(xs,ys)"
>>>>>>> 5597fb79997e1c627480bceb6c3503a35c96200a
   ]
  },
  {
   "cell_type": "code",
<<<<<<< HEAD
   "execution_count": 171,
   "metadata": {
    "collapsed": false,
    "pycharm": {
     "name": "#%%\n"
    }
   },
=======
   "execution_count": 29,
   "metadata": {},
>>>>>>> 5597fb79997e1c627480bceb6c3503a35c96200a
   "outputs": [
    {
     "data": {
      "text/plain": [
<<<<<<< HEAD
       "[<matplotlib.lines.Line2D at 0x7f2609ef6bf0>]"
      ]
     },
     "execution_count": 171,
=======
       "[<matplotlib.lines.Line2D at 0x14caa99c0>]"
      ]
     },
     "execution_count": 29,
>>>>>>> 5597fb79997e1c627480bceb6c3503a35c96200a
     "metadata": {},
     "output_type": "execute_result"
    },
    {
     "data": {
<<<<<<< HEAD
      "image/png": "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",
      "text/plain": [
       "<Figure size 432x288 with 1 Axes>"
=======
      "image/png": "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",
      "text/plain": [
       "<Figure size 1080x1080 with 1 Axes>"
>>>>>>> 5597fb79997e1c627480bceb6c3503a35c96200a
      ]
     },
     "metadata": {
      "needs_background": "light"
     },
     "output_type": "display_data"
    }
   ],
   "source": [
<<<<<<< HEAD
    "x = np.linspace(-1,1,1024)\n",
    "y = np.array([convoluted_abs(t) for t in x])\n",
    "plt.plot(x,y)"
=======
    "fig, ax = plt.subplots(figsize=(15,15))\n",
    "ax.set_aspect(1)\n",
    "ax.quiver(Y.x,Y.y,U[:,0],U[:,1],color='red')\n",
    "ax.scatter(Y.x,Y.y,c=np.abs(Y.omegas[0]),s=1)\n",
    "ax.plot(pts[:,0],pts[:,1],c='green')"
>>>>>>> 5597fb79997e1c627480bceb6c3503a35c96200a
   ]
  },
  {
   "cell_type": "code",
<<<<<<< HEAD
   "execution_count": 172,
   "metadata": {
    "collapsed": false,
    "pycharm": {
     "name": "#%%\n"
    }
   },
   "outputs": [],
   "source": [
    "from scipy.integrate import quad"
   ]
  },
  {
   "cell_type": "code",
   "execution_count": 173,
   "metadata": {
    "collapsed": false,
    "pycharm": {
     "name": "#%%\n"
    }
   },
   "outputs": [
    {
     "name": "stderr",
     "output_type": "stream",
     "text": [
      "/tmp/ipykernel_22984/3194827781.py:1: IntegrationWarning: The occurrence of roundoff error is detected, which prevents \n",
      "  the requested tolerance from being achieved.  The error may be \n",
      "  underestimated.\n",
      "  bump_def_int = quad(_bump, -1, 1, epsabs=1e-17, epsrel=1e-17)[0]\n"
=======
   "execution_count": 17,
   "metadata": {},
   "outputs": [
    {
     "ename": "AttributeError",
     "evalue": "'NLets' object has no attribute 'extend'",
     "output_type": "error",
     "traceback": [
      "\u001b[0;31m---------------------------------------------------------------------------\u001b[0m",
      "\u001b[0;31mAttributeError\u001b[0m                            Traceback (most recent call last)",
      "\u001b[1;32m/Users/haiy/proj/stokes2d/dev_tube.ipynb Cell 8\u001b[0m in \u001b[0;36m<cell line: 1>\u001b[0;34m()\u001b[0m\n\u001b[0;32m----> <a href='vscode-notebook-cell:/Users/haiy/proj/stokes2d/dev_tube.ipynb#X44sZmlsZQ%3D%3D?line=0'>1</a>\u001b[0m Y\u001b[39m.\u001b[39;49mextend\n",
      "\u001b[0;31mAttributeError\u001b[0m: 'NLets' object has no attribute 'extend'"
>>>>>>> 5597fb79997e1c627480bceb6c3503a35c96200a
     ]
    }
   ],
   "source": [
<<<<<<< HEAD
    "bump_def_int = quad(_bump, -1, 1, epsabs=1e-17, epsrel=1e-17)[0]\n",
    "\n",
    "def convoluted_abs1_err(x,eps=1e-17):\n",
    "    if np.abs(x) >= 1:\n",
    "        return 0\n",
    "\n",
    "    def b(y): return _bump(y)*np.abs(x-y)\n",
    "\n",
    "    return quad(b, -1, 1, epsabs=eps, epsrel=eps)[1]\n",
    "\n"
=======
    "Y.extend"
>>>>>>> 5597fb79997e1c627480bceb6c3503a35c96200a
   ]
  },
  {
   "cell_type": "code",
<<<<<<< HEAD
   "execution_count": 174,
   "metadata": {
    "collapsed": false,
    "pycharm": {
     "name": "#%%\n"
    }
   },
   "outputs": [
    {
     "name": "stderr",
     "output_type": "stream",
     "text": [
      "/tmp/ipykernel_22984/3194827781.py:9: IntegrationWarning: The occurrence of roundoff error is detected, which prevents \n",
      "  the requested tolerance from being achieved.  The error may be \n",
      "  underestimated.\n",
      "  return quad(b, -1, 1, epsabs=eps, epsrel=eps)[1]\n",
      "/tmp/ipykernel_22984/3194827781.py:9: IntegrationWarning: The algorithm does not converge.  Roundoff error is detected\n",
      "  in the extrapolation table.  It is assumed that the requested tolerance\n",
      "  cannot be achieved, and that the returned result (if full_output = 1) is \n",
      "  the best which can be obtained.\n",
      "  return quad(b, -1, 1, epsabs=eps, epsrel=eps)[1]\n",
      "/tmp/ipykernel_22984/3194827781.py:16: IntegrationWarning: The occurrence of roundoff error is detected, which prevents \n",
      "  the requested tolerance from being achieved.  The error may be \n",
      "  underestimated.\n",
      "  b = quad(_bump,\n",
      "/tmp/ipykernel_22984/3194827781.py:19: IntegrationWarning: The occurrence of roundoff error is detected, which prevents \n",
      "  the requested tolerance from being achieved.  The error may be \n",
      "  underestimated.\n",
      "  d = quad(lambda y: y*_bump(y),\n"
     ]
    },
    {
     "data": {
      "text/plain": [
       "[<matplotlib.lines.Line2D at 0x7f2609d4dea0>]"
      ]
     },
     "execution_count": 174,
     "metadata": {},
     "output_type": "execute_result"
    },
    {
     "data": {
      "image/png": "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",
      "text/plain": [
       "<Figure size 432x288 with 1 Axes>"
      ]
     },
     "metadata": {
      "needs_background": "light"
     },
     "output_type": "display_data"
    }
   ],
   "source": [
    "err1 = np.array([convoluted_abs1_err(t) for t in x])\n",
    "err2 = np.array([convoluted_abs2_err(t) for t in x])\n",
    "plt.semilogy(x,err1)\n",
    "plt.semilogy(x,err2)"
   ]
  },
  {
   "cell_type": "code",
   "execution_count": 149,
   "metadata": {
    "collapsed": false,
    "pycharm": {
     "name": "#%%\n"
    }
   },
   "outputs": [
    {
     "name": "stdout",
     "output_type": "stream",
     "text": [
      "Unexpected exception formatting exception. Falling back to standard exception\n"
     ]
    },
    {
     "name": "stderr",
     "output_type": "stream",
     "text": [
      "Traceback (most recent call last):\n",
      "  File \"/home/haiy/pkg/miniconda3/envs/bim/lib/python3.10/site-packages/IPython/core/interactiveshell.py\", line 3398, in run_code\n",
      "    exec(code_obj, self.user_global_ns, self.user_ns)\n",
      "  File \"/tmp/ipykernel_22984/99975100.py\", line 3, in <cell line: 3>\n",
      "    c.build()\n",
      "  File \"/home/haiy/proj/stokes2d/./src/curve.py\", line 103, in build\n",
      "    p1, p2 = self.split_a_panel(p)\n",
      "  File \"/home/haiy/proj/stokes2d/./src/curve.py\", line 134, in split_a_panel\n",
      "    y = self.y_fn(a)\n",
      "  File \"/home/haiy/proj/stokes2d/./src/curve.py\", line 250, in <lambda>\n",
      "    y_fn = lambda _, a: np.array([convoluted_abs(x) for x in a])\n",
      "  File \"/home/haiy/proj/stokes2d/./src/curve.py\", line 250, in <listcomp>\n",
      "    y_fn = lambda _, a: np.array([convoluted_abs(x) for x in a])\n",
      "  File \"/home/haiy/proj/stokes2d/./src/math_functions.py\", line 109, in convoluted_abs\n",
      "    return quad(b, -1, 1, epsabs=ERR, epsrel=ERR, full_output=1)[0]/bump_def_int\n",
      "  File \"/home/haiy/pkg/miniconda3/envs/bim/lib/python3.10/site-packages/scipy/integrate/quadpack.py\", line 351, in quad\n",
      "    retval = _quad(func, a, b, args, full_output, epsabs, epsrel, limit,\n",
      "  File \"/home/haiy/pkg/miniconda3/envs/bim/lib/python3.10/site-packages/scipy/integrate/quadpack.py\", line 463, in _quad\n",
      "    return _quadpack._qagse(func,a,b,args,full_output,epsabs,epsrel,limit)\n",
      "  File \"/home/haiy/proj/stokes2d/./src/math_functions.py\", line 108, in b\n",
      "  File \"/home/haiy/proj/stokes2d/./src/math_functions.py\", line 102, in _normalized_bump\n",
      "    def convoluted_abs(x):\n",
      "  File \"/home/haiy/proj/stokes2d/./src/math_functions.py\", line 71, in _bump\n",
      "    if isinstance(a, numbers.Number):\n",
      "  File \"/home/haiy/pkg/miniconda3/envs/bim/lib/python3.10/abc.py\", line 119, in __instancecheck__\n",
      "    return _abc_instancecheck(cls, instance)\n",
      "KeyboardInterrupt\n",
      "\n",
      "During handling of the above exception, another exception occurred:\n",
      "\n",
      "Traceback (most recent call last):\n",
      "  File \"/home/haiy/pkg/miniconda3/envs/bim/lib/python3.10/site-packages/IPython/core/interactiveshell.py\", line 1993, in showtraceback\n",
      "    stb = self.InteractiveTB.structured_traceback(\n",
      "  File \"/home/haiy/pkg/miniconda3/envs/bim/lib/python3.10/site-packages/IPython/core/ultratb.py\", line 1118, in structured_traceback\n",
      "    return FormattedTB.structured_traceback(\n",
      "  File \"/home/haiy/pkg/miniconda3/envs/bim/lib/python3.10/site-packages/IPython/core/ultratb.py\", line 1012, in structured_traceback\n",
      "    return VerboseTB.structured_traceback(\n",
      "  File \"/home/haiy/pkg/miniconda3/envs/bim/lib/python3.10/site-packages/IPython/core/ultratb.py\", line 865, in structured_traceback\n",
      "    formatted_exception = self.format_exception_as_a_whole(etype, evalue, etb, number_of_lines_of_context,\n",
      "  File \"/home/haiy/pkg/miniconda3/envs/bim/lib/python3.10/site-packages/IPython/core/ultratb.py\", line 818, in format_exception_as_a_whole\n",
      "    frames.append(self.format_record(r))\n",
      "  File \"/home/haiy/pkg/miniconda3/envs/bim/lib/python3.10/site-packages/IPython/core/ultratb.py\", line 736, in format_record\n",
      "    result += ''.join(_format_traceback_lines(frame_info.lines, Colors, self.has_colors, lvals))\n",
      "  File \"/home/haiy/pkg/miniconda3/envs/bim/lib/python3.10/site-packages/stack_data/utils.py\", line 145, in cached_property_wrapper\n",
      "    value = obj.__dict__[self.func.__name__] = self.func(obj)\n",
      "  File \"/home/haiy/pkg/miniconda3/envs/bim/lib/python3.10/site-packages/stack_data/core.py\", line 698, in lines\n",
      "    pieces = self.included_pieces\n",
      "  File \"/home/haiy/pkg/miniconda3/envs/bim/lib/python3.10/site-packages/stack_data/utils.py\", line 145, in cached_property_wrapper\n",
      "    value = obj.__dict__[self.func.__name__] = self.func(obj)\n",
      "  File \"/home/haiy/pkg/miniconda3/envs/bim/lib/python3.10/site-packages/stack_data/core.py\", line 649, in included_pieces\n",
      "    pos = scope_pieces.index(self.executing_piece)\n",
      "  File \"/home/haiy/pkg/miniconda3/envs/bim/lib/python3.10/site-packages/stack_data/utils.py\", line 145, in cached_property_wrapper\n",
      "    value = obj.__dict__[self.func.__name__] = self.func(obj)\n",
      "  File \"/home/haiy/pkg/miniconda3/envs/bim/lib/python3.10/site-packages/stack_data/core.py\", line 628, in executing_piece\n",
      "    return only(\n",
      "  File \"/home/haiy/pkg/miniconda3/envs/bim/lib/python3.10/site-packages/executing/executing.py\", line 164, in only\n",
      "    raise NotOneValueFound('Expected one value, found 0')\n",
      "executing.executing.NotOneValueFound: Expected one value, found 0\n"
     ]
    }
   ],
   "source": [
    "c = Corner(pt(-1,1),pt(1,1),pt(0,0))\n",
    "c.build_affine_transform()\n",
    "c.build()"
   ]
=======
   "execution_count": null,
   "metadata": {},
   "outputs": [],
   "source": []
>>>>>>> 5597fb79997e1c627480bceb6c3503a35c96200a
  }
 ],
 "metadata": {
  "kernelspec": {
<<<<<<< HEAD
   "display_name": "Python 3.10.4 ('bim')",
=======
   "display_name": "Python 3.10.5 ('bim')",
>>>>>>> 5597fb79997e1c627480bceb6c3503a35c96200a
   "language": "python",
   "name": "python3"
  },
  "language_info": {
   "codemirror_mode": {
    "name": "ipython",
    "version": 3
   },
   "file_extension": ".py",
   "mimetype": "text/x-python",
   "name": "python",
   "nbconvert_exporter": "python",
   "pygments_lexer": "ipython3",
<<<<<<< HEAD
   "version": "3.10.4"
  },
  "vscode": {
   "interpreter": {
    "hash": "29aee36ec6e9df753698de62f9f369044b18644ec1292ce439a22755d3e8f7fd"
=======
   "version": "3.10.5"
  },
  "vscode": {
   "interpreter": {
    "hash": "c63784d83960d2c89cfe6fb5ec298e84c6499521dac7c7c8fd1fc1b7e373202c"
>>>>>>> 5597fb79997e1c627480bceb6c3503a35c96200a
   }
  }
 },
 "nbformat": 4,
 "nbformat_minor": 0
}
