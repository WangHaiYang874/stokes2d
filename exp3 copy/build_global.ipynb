{
 "cells": [
  {
   "cell_type": "code",
   "execution_count": 2,
   "metadata": {},
   "outputs": [
    {
     "name": "stdout",
     "output_type": "stream",
     "text": [
      "number of points:  497042\n"
     ]
    }
   ],
   "source": [
    "import sys\n",
    "sys.path.insert(0,'../src/')\n",
    "from curve import *\n",
    "from utils import *\n",
    "from multiply_connected_pipe import *\n",
    "import pickle\n",
    "\n",
    "from time import time\n",
    "\n",
    "\n",
    "with open('global_pipe_with_geometry.pickle','rb') as f:\n",
    "    pipe = pickle.load(f)\n",
    "\n",
    "required_tol = 1e-10\n",
    "pipe.build_A(fmm=True)\n",
    "print(\"number of points: \", len(pipe.t))"
   ]
  },
  {
   "cell_type": "code",
   "execution_count": 3,
   "metadata": {},
   "outputs": [
    {
     "name": "stdout",
     "output_type": "stream",
     "text": [
      "\tResidual norm: 0.36400045400983505 at iteration 100, time: 4.6998228867848715 mins\n",
      "\tResidual norm: 0.13764312322469552 at iteration 200, time: 9.419453263282776 mins\n",
      "\tResidual norm: 0.09417622699879664 at iteration 300, time: 14.100728805859884 mins\n",
      "\tResidual norm: 0.08482848968144435 at iteration 400, time: 18.959950828552245 mins\n",
      "\tResidual norm: 0.08204681333613699 at iteration 500, time: 23.836726681391397 mins\n",
      "\tResidual norm: 0.08204681033669853 at iteration 600, time: 28.45143956740697 mins\n",
      "\tResidual norm: 0.08204522348457412 at iteration 700, time: 33.30914660692215 mins\n",
      "\tResidual norm: 0.0820378587585211 at iteration 800, time: 38.126134701569875 mins\n",
      "\tResidual norm: 0.08195113151539822 at iteration 900, time: 42.88108369906743 mins\n",
      "\tResidual norm: 0.08150216749989361 at iteration 1000, time: 47.755738973617554 mins\n",
      "\tResidual norm: 0.08150213244717161 at iteration 1100, time: 52.34368370771408 mins\n",
      "\tResidual norm: 0.08150106376231153 at iteration 1200, time: 56.92047019402186 mins\n",
      "\tResidual norm: 0.0814950481318966 at iteration 1300, time: 61.564855794111885 mins\n",
      "\tResidual norm: 0.08147534830568937 at iteration 1400, time: 66.21152261892955 mins\n",
      "\tResidual norm: 0.08137930601903831 at iteration 1500, time: 71.03819011449814 mins\n",
      "\tResidual norm: 0.08137930550322732 at iteration 1600, time: 75.56910677353541 mins\n",
      "\tResidual norm: 0.08137911490568209 at iteration 1700, time: 80.10823964675268 mins\n",
      "\tResidual norm: 0.08137789369512492 at iteration 1800, time: 84.71167959769566 mins\n",
      "\tResidual norm: 0.08136623304209965 at iteration 1900, time: 89.36646131277084 mins\n",
      "\tResidual norm: 0.08130712816852419 at iteration 2000, time: 94.15034920771917 mins\n",
      "\tResidual norm: 0.08130712792183177 at iteration 2100, time: 98.65188162326812 mins\n",
      "\tResidual norm: 0.08130708010720313 at iteration 2200, time: 103.2370313803355 mins\n",
      "\tResidual norm: 0.08130665493674394 at iteration 2300, time: 107.89407671689987 mins\n",
      "\tResidual norm: 0.0813045206007934 at iteration 2400, time: 112.60681586662928 mins\n",
      "\tResidual norm: 0.08128566295431496 at iteration 2500, time: 117.38128814299901 mins\n",
      "\tResidual norm: 0.0812856628754406 at iteration 2600, time: 121.8892214735349 mins\n",
      "\tResidual norm: 0.08128563680948608 at iteration 2700, time: 126.43455542723338 mins\n",
      "\tResidual norm: 0.08128544441768637 at iteration 2800, time: 130.94046833912532 mins\n",
      "\tResidual norm: 0.08128409019212489 at iteration 2900, time: 135.49123241504034 mins\n",
      "\tResidual norm: 0.08127712801662652 at iteration 3000, time: 140.3080620765686 mins\n",
      "\tResidual norm: 0.08127712800608465 at iteration 3100, time: 144.90518076817196 mins\n",
      "\tResidual norm: 0.08127711984168949 at iteration 3200, time: 149.26586997509003 mins\n",
      "\tResidual norm: 0.08127705884042521 at iteration 3300, time: 153.72725186745325 mins\n",
      "\tResidual norm: 0.08127664478316399 at iteration 3400, time: 158.35359794298807 mins\n",
      "\tResidual norm: 0.08127537930206943 at iteration 3500, time: 162.8031551639239 mins\n",
      "\tResidual norm: 0.08127537929796821 at iteration 3600, time: 167.11548142830532 mins\n"
     ]
    }
   ],
   "source": [
    "pipe.build_omegas(tol=required_tol,restart=10000,max_iter=50)"
   ]
  }
 ],
 "metadata": {
  "kernelspec": {
   "display_name": "Python 3.10.5 ('bim')",
   "language": "python",
   "name": "python3"
  },
  "language_info": {
   "codemirror_mode": {
    "name": "ipython",
    "version": 3
   },
   "file_extension": ".py",
   "mimetype": "text/x-python",
   "name": "python",
   "nbconvert_exporter": "python",
   "pygments_lexer": "ipython3",
   "version": "3.10.5"
  },
  "orig_nbformat": 4,
  "vscode": {
   "interpreter": {
    "hash": "c63784d83960d2c89cfe6fb5ec298e84c6499521dac7c7c8fd1fc1b7e373202c"
   }
  }
 },
 "nbformat": 4,
 "nbformat_minor": 2
}
