{
 "cells": [
  {
   "cell_type": "code",
   "execution_count": 55,
   "metadata": {},
   "outputs": [],
   "source": [
    "corner_size=1"
   ]
  },
  {
   "cell_type": "code",
   "execution_count": 56,
   "metadata": {},
   "outputs": [],
   "source": [
    "import sys\n",
    "sys.path.insert(0,'../src/')\n",
    "from curve import *\n",
    "from utils import *\n",
    "import numpy as np\n",
    "from multiply_connected_pipe import *\n",
    "import pickle\n",
    "from matplotlib import pyplot as plt\n",
    "from numpy import array as arr"
   ]
  },
  {
   "cell_type": "code",
   "execution_count": 57,
   "metadata": {},
   "outputs": [],
   "source": [
    "def merging2pipe(pipes):\n",
    "    curves = []\n",
    "    for pipe in pipes:\n",
    "        curves += pipe.curves\n",
    "    i = 0\n",
    "    while i < len(curves):\n",
    "        if not isinstance(curves[i], Cap):\n",
    "            i += 1\n",
    "            continue\n",
    "        for j in range(i+1,len(curves)):\n",
    "            if not isinstance(curves[j], Cap):\n",
    "                continue\n",
    "            if np.linalg.norm(curves[i].matching_pt - curves[j].matching_pt) < 1e-8:\n",
    "                curves.pop(j)\n",
    "                curves.pop(i)\n",
    "                break\n",
    "        i += 1\n",
    "    curves = [c.clean_copy() for c in curves]\n",
    "    return MultiplyConnectedPipeFromCurves(curves)\n",
    "\n",
    "def transformed(pipe,shift):\n",
    "    curves = [c.transformed(shift) for c in pipe.curves]\n",
    "    return MultiplyConnectedPipeFromCurves(curves)\n",
    "\n",
    "def plyg_bdr(pipe):\n",
    "    pts = []\n",
    "    for c in pipe.exterior_boundary.curves:\n",
    "        pts += [c.start_pt]\n",
    "        if isinstance(c, Corner):\n",
    "            pts += [c.mid_pt]\n",
    "    \n",
    "    return np.array(pts + [pts[0]]).T\n",
    "\n",
    "def plyg_bdr2(boundary):\n",
    "    pts = []\n",
    "    for c in boundary.curves:\n",
    "        pts += [c.start_pt]\n",
    "        if isinstance(c, Corner):\n",
    "            pts += [c.mid_pt]\n",
    "    \n",
    "    return np.array(pts + [pts[0]]).T\n",
    "\n",
    "def transformeds(pipes,shift): return [transformed(p,shift)  for p in pipes]\n",
    "    "
   ]
  },
  {
   "cell_type": "markdown",
   "metadata": {},
   "source": [
    "draw connection of a rather complicated pipe system "
   ]
  },
  {
   "cell_type": "code",
   "execution_count": 58,
   "metadata": {},
   "outputs": [
    {
     "data": {
      "text/plain": [
       "[<matplotlib.lines.Line2D at 0x1610c7610>]"
      ]
     },
     "execution_count": 58,
     "metadata": {},
     "output_type": "execute_result"
    },
    {
     "data": {
      "image/png": "[encoded data removed]",
      "text/plain": [
       "<Figure size 1440x360 with 1 Axes>"
      ]
     },
     "metadata": {
      "needs_background": "light"
     },
     "output_type": "display_data"
    }
   ],
   "source": [
    "fig, ax = plt.subplots(figsize=(20,5))\n",
    "\n",
    "pipe111 = NLets(\n",
    "    arr([pt(-32,0),pt(2,-2),pt(2,2)]),\n",
    "    np.array([2,1,1]),\n",
    "    corner_size=corner_size)\n",
    "pipe112 = transformed(NLets(\n",
    "    arr([pt(-2,-2),pt(16,0)]), \n",
    "    np.array([1,1]),\n",
    "    corner_size=corner_size\n",
    "    ),pt(4,4))\n",
    "pipe113 = transformed(NLets(\n",
    "    arr([pt(16,0),pt(-2,2)]), \n",
    "    np.array([1,1]),\n",
    "    corner_size=corner_size\n",
    "    ),pt(4,-4))\n",
    "pipe11 = merging2pipe([pipe111,pipe112,pipe113])\n",
    "pipe12 = transformed(PipeWithDifferentRadius(16,4,8,1,0.5,\n",
    "                                             corner_size=corner_size),pt(20,4))\n",
    "pipe13 = transformed(PipeWithDifferentRadius(16,4,8,1,0.5,\n",
    "                                             corner_size=corner_size),pt(20,-4))\n",
    "\n",
    "pipe141 = transformed(PipeWithDifferentRadius(8,2,14,0.5,2,\n",
    "                                              corner_size=corner_size),pt(48,4))\n",
    "pipe142 = transformed(PipeWithDifferentRadius(8,2,14,0.5,2,\n",
    "                                              corner_size=corner_size),pt(48,-4))\n",
    "pipe143 = transformed(PipeWithDifferentRadius(1,1,1,2,1,\n",
    "                                              corner_size=corner_size),pt(72,4))\n",
    "pipe144 = transformed(PipeWithDifferentRadius(1,1,1,2,1,\n",
    "                                              corner_size=corner_size),pt(72,-4))\n",
    "pipe145 = transformed(NLets(\n",
    "    arr([pt(-1,0),pt(2,-2)]),\n",
    "    arr([1,1]),\n",
    "    corner_size=corner_size\n",
    "    ),pt(76,4))\n",
    "pipe146 = transformed(NLets(\n",
    "    arr([pt(-1,0),pt(2,2)]),\n",
    "    arr([1,1]), \n",
    "    corner_size=corner_size),pt(76,-4))\n",
    "pipe147 = transformed(NLets(\n",
    "    arr([pt(-2,-2),pt(16,0), pt(-2,2)]),\n",
    "    np.array([1,1,1]), \n",
    "    corner_size=corner_size),pt(80,0))\n",
    "pipe14 = merging2pipe([pipe141,pipe142,pipe143,pipe144,pipe145,pipe146,pipe147])\n",
    "\n",
    "pipe1s = [pipe11,pipe12,pipe13,pipe14]\n",
    "\n",
    "ax.set_aspect('equal')\n",
    "ax.plot(*plyg_bdr(pipe11))\n",
    "ax.plot(*plyg_bdr(pipe12))\n",
    "ax.plot(*plyg_bdr(pipe13))\n",
    "ax.plot(*plyg_bdr(pipe14))"
   ]
  },
  {
   "cell_type": "code",
   "execution_count": 59,
   "metadata": {},
   "outputs": [],
   "source": [
    "pipes = transformeds(pipe1s,pt(0,10)) \\\n",
    "    + transformeds(pipe1s,pt(0,-10))\n",
    "\n",
    "pipe13 = transformed(NLets(\n",
    "    arr([pt(-16,0),pt(2,-1)]),\n",
    "    arr([1,1]),\n",
    "    corner_size=corner_size),pt(112,10))\n",
    "pipe14 = transformed(NLets(\n",
    "    arr([pt(-16,0),pt(2,1)]),\n",
    "    arr([1,1]),\n",
    "    corner_size=corner_size),pt(112,-10))\n",
    "pipe15 = transformed(\n",
    "    NLets(\n",
    "        arr([pt(-18,-9),pt(32,0),pt(-18,9)]),\n",
    "        arr([1,2,1]),\n",
    "        corner_size=corner_size),pt(132,0))\n",
    "pipe1 = merging2pipe([pipe13,pipe14,pipe15])\n",
    "\n",
    "pipe22 = transformed(NLets(\n",
    "    arr([pt(-8,-4),pt(32,0)]),\n",
    "    arr([2,2]),\n",
    "    corner_size=corner_size),pt(-64,10))\n",
    "pipe23 = transformed(NLets(\n",
    "    arr([pt(32,0),pt(-8,4)]),\n",
    "    arr([2,2]),\n",
    "    corner_size=corner_size),pt(-64,-10))\n",
    "pipe25 = transformed(NLets(\n",
    "    arr([pt(-32,0),pt(12,-6),pt(12,6)]),\n",
    "    arr([2,2,2]),\n",
    "    corner_size=corner_size),pt(-84,0))\n",
    "pipe2 = merging2pipe([pipe22,pipe23,pipe25])"
   ]
  },
  {
   "cell_type": "code",
   "execution_count": 60,
   "metadata": {},
   "outputs": [
    {
     "data": {
      "image/png": "[encoded data removed]",
      "text/plain": [
       "<Figure size 1440x1440 with 1 Axes>"
      ]
     },
     "metadata": {
      "needs_background": "light"
     },
     "output_type": "display_data"
    }
   ],
   "source": [
    "fig, ax = plt.subplots(figsize=(20,20))\n",
    "ax.set_aspect('equal')\n",
    "pipes2 = pipes + [pipe1,pipe2]\n",
    "for pipe in pipes2:\n",
    "    ax.plot(*plyg_bdr(pipe))"
   ]
  },
  {
   "cell_type": "code",
   "execution_count": 61,
   "metadata": {},
   "outputs": [
    {
     "data": {
      "image/png": "[encoded data removed]",
      "text/plain": [
       "<Figure size 1440x1440 with 1 Axes>"
      ]
     },
     "metadata": {
      "needs_background": "light"
     },
     "output_type": "display_data"
    }
   ],
   "source": [
    "fig, ax = plt.subplots(figsize=(20,20))\n",
    "ax.set_aspect('equal')\n",
    "pipes3 = transformeds(pipes2,pt(0,20)) + transformeds(pipes2,pt(0,-20)) \n",
    "\n",
    "pipe11 = transformed(NLets(\n",
    "    arr([pt(-4,-4),pt(32,0)]),\n",
    "    arr([2,2]),\n",
    "    corner_size=corner_size),pt(-148,20))\n",
    "pipe12 = transformed(NLets(\n",
    "    arr([pt(32,0),pt(-4,4)]),\n",
    "    arr([2,2]),\n",
    "    corner_size=corner_size),pt(-148,-20))\n",
    "pipe13 = transformed(NLets(\n",
    "    arr([pt(-32,0),pt(16,-16),pt(16,16)]),\n",
    "    arr([2,2,2]),\n",
    "    corner_size=corner_size),pt(-168,0))\n",
    "\n",
    "pipe1 = merging2pipe([pipe11,pipe12,pipe13])\n",
    "\n",
    "pipe21 = transformed(NLets(\n",
    "    arr([pt(-32,0),pt(4,4)]),\n",
    "    arr([2,2]),\n",
    "    corner_size=corner_size),pt(196,-20))\n",
    "pipe22 = transformed(NLets(\n",
    "    arr([pt(-32,0),pt(4,-4)]),\n",
    "    arr([2,2]),\n",
    "    corner_size=corner_size),pt(196,20))\n",
    "pipe23 = transformed(NLets(\n",
    "    arr([pt(-16,-16),pt(32,0),pt(-16,16)]),arr([2,2,2])),pt(216,0))\n",
    "\n",
    "pipe2 = merging2pipe([pipe21,pipe22,pipe23])\n",
    "\n",
    "pipes4 = pipes3 + [pipe1,pipe2]\n",
    "\n",
    "for pipe in pipes4:\n",
    "    ax.plot(*plyg_bdr(pipe))"
   ]
  },
  {
   "cell_type": "code",
   "execution_count": 104,
   "metadata": {},
   "outputs": [],
   "source": [
    "global_pipe = merging2pipe(pipes4)"
   ]
  },
  {
   "cell_type": "code",
   "execution_count": 105,
   "metadata": {},
   "outputs": [
    {
     "name": "stdout",
     "output_type": "stream",
     "text": [
      "\t\trefining boundary 0 out of 8\n",
      "\t\trefining boundary 1 out of 8\n",
      "\t\trefining boundary 2 out of 8\n",
      "\t\trefining boundary 3 out of 8\n",
      "\t\trefining boundary 4 out of 8\n",
      "\t\trefining boundary 5 out of 8\n",
      "\t\trefining boundary 6 out of 8\n",
      "\t\trefining boundary 7 out of 8\n"
     ]
    }
   ],
   "source": [
    "global_pipe.build_geometry(required_tol=1e-10,n_jobs=10)"
   ]
  },
  {
   "cell_type": "code",
   "execution_count": 106,
   "metadata": {},
   "outputs": [
    {
     "data": {
      "text/plain": [
       "102012"
      ]
     },
     "execution_count": 106,
     "metadata": {},
     "output_type": "execute_result"
    }
   ],
   "source": [
    "global_pipe.build_omegas(tol=1e-7,max_iter=100,restart=4000)"
   ]
  }
 ],
 "metadata": {
  "kernelspec": {
   "display_name": "Python 3.10.5 ('bim')",
   "language": "python",
   "name": "python3"
  },
  "language_info": {
   "codemirror_mode": {
    "name": "ipython",
    "version": 3
   },
   "file_extension": ".py",
   "mimetype": "text/x-python",
   "name": "python",
   "nbconvert_exporter": "python",
   "pygments_lexer": "ipython3",
   "version": "3.10.5"
  },
  "orig_nbformat": 4,
  "vscode": {
   "interpreter": {
    "hash": "c63784d83960d2c89cfe6fb5ec298e84c6499521dac7c7c8fd1fc1b7e373202c"
   }
  }
 },
 "nbformat": 4,
 "nbformat_minor": 2
}
