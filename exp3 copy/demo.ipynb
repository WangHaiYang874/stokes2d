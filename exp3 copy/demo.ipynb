{
 "cells": [
  {
   "cell_type": "code",
   "execution_count": 1,
   "metadata": {},
   "outputs": [],
   "source": [
    "corner_size=1"
   ]
  },
  {
   "cell_type": "code",
   "execution_count": 2,
   "metadata": {},
   "outputs": [],
   "source": [
    "import sys\n",
    "sys.path.insert(0,'../src/')\n",
    "from curve import *\n",
    "from utils import *\n",
    "import numpy as np\n",
    "from multiply_connected_pipe import *\n",
    "import pickle\n",
    "from matplotlib import pyplot as plt\n",
    "from numpy import array as arr"
   ]
  },
  {
   "cell_type": "code",
   "execution_count": 3,
   "metadata": {},
   "outputs": [],
   "source": [
    "def merging2pipe(pipes):\n",
    "    curves = []\n",
    "    for pipe in pipes:\n",
    "        curves += pipe.curves\n",
    "    i = 0\n",
    "    while i < len(curves):\n",
    "        if not isinstance(curves[i], Cap):\n",
    "            i += 1\n",
    "            continue\n",
    "        for j in range(i+1,len(curves)):\n",
    "            if not isinstance(curves[j], Cap):\n",
    "                continue\n",
    "            if np.linalg.norm(curves[i].matching_pt - curves[j].matching_pt) < 1e-8:\n",
    "                curves.pop(j)\n",
    "                curves.pop(i)\n",
    "                break\n",
    "        i += 1\n",
    "    curves = [c.clean_copy() for c in curves]\n",
    "    return MultiplyConnectedPipeFromCurves(curves)\n",
    "\n",
    "def transformed(pipe,shift):\n",
    "    curves = [c.transformed(shift) for c in pipe.curves]\n",
    "    return MultiplyConnectedPipeFromCurves(curves)\n",
    "\n",
    "def plyg_bdr(pipe):\n",
    "    pts = []\n",
    "    for c in pipe.exterior_boundary.curves:\n",
    "        pts += [c.start_pt]\n",
    "        if isinstance(c, Corner):\n",
    "            pts += [c.mid_pt]\n",
    "    \n",
    "    return np.array(pts + [pts[0]]).T\n",
    "\n",
    "def plyg_bdr2(boundary):\n",
    "    pts = []\n",
    "    for c in boundary.curves:\n",
    "        pts += [c.start_pt]\n",
    "        if isinstance(c, Corner):\n",
    "            pts += [c.mid_pt]\n",
    "    \n",
    "    return np.array(pts + [pts[0]]).T\n",
    "\n",
    "def transformeds(pipes,shift): return [transformed(p,shift)  for p in pipes]\n",
    "    "
   ]
  },
  {
   "cell_type": "markdown",
   "metadata": {},
   "source": [
    "draw connection of a rather complicated pipe system "
   ]
  },
  {
   "cell_type": "code",
   "execution_count": 4,
   "metadata": {},
   "outputs": [
    {
     "data": {
      "text/plain": [
       "[<matplotlib.lines.Line2D at 0x136a57790>]"
      ]
     },
     "execution_count": 4,
     "metadata": {},
     "output_type": "execute_result"
    },
    {
     "data": {
      "image/png": "[encoded data removed]",
      "text/plain": [
       "<Figure size 1440x360 with 1 Axes>"
      ]
     },
     "metadata": {
      "needs_background": "light"
     },
     "output_type": "display_data"
    }
   ],
   "source": [
    "fig, ax = plt.subplots(figsize=(20,5))\n",
    "\n",
    "pipe111 = NLets(\n",
    "    arr([pt(-32,0),pt(2,-2),pt(2,2)]),\n",
    "    np.array([2,1,1]),\n",
    "    corner_size=corner_size)\n",
    "pipe112 = transformed(NLets(\n",
    "    arr([pt(-2,-2),pt(16,0)]), \n",
    "    np.array([1,1]),\n",
    "    corner_size=corner_size\n",
    "    ),pt(4,4))\n",
    "pipe113 = transformed(NLets(\n",
    "    arr([pt(16,0),pt(-2,2)]), \n",
    "    np.array([1,1]),\n",
    "    corner_size=corner_size\n",
    "    ),pt(4,-4))\n",
    "pipe11 = merging2pipe([pipe111,pipe112,pipe113])\n",
    "pipe12 = transformed(PipeWithDifferentRadius(16,4,8,1,0.5,\n",
    "                                             corner_size=corner_size),pt(20,4))\n",
    "pipe13 = transformed(PipeWithDifferentRadius(16,4,8,1,0.5,\n",
    "                                             corner_size=corner_size),pt(20,-4))\n",
    "\n",
    "pipe141 = transformed(PipeWithDifferentRadius(8,2,14,0.5,2,\n",
    "                                              corner_size=corner_size),pt(48,4))\n",
    "pipe142 = transformed(PipeWithDifferentRadius(8,2,14,0.5,2,\n",
    "                                              corner_size=corner_size),pt(48,-4))\n",
    "pipe143 = transformed(PipeWithDifferentRadius(1,1,1,2,1,\n",
    "                                              corner_size=corner_size),pt(72,4))\n",
    "pipe144 = transformed(PipeWithDifferentRadius(1,1,1,2,1,\n",
    "                                              corner_size=corner_size),pt(72,-4))\n",
    "pipe145 = transformed(NLets(\n",
    "    arr([pt(-1,0),pt(2,-2)]),\n",
    "    arr([1,1]),\n",
    "    corner_size=corner_size\n",
    "    ),pt(76,4))\n",
    "pipe146 = transformed(NLets(\n",
    "    arr([pt(-1,0),pt(2,2)]),\n",
    "    arr([1,1]), \n",
    "    corner_size=corner_size),pt(76,-4))\n",
    "pipe147 = transformed(NLets(\n",
    "    arr([pt(-2,-2),pt(16,0), pt(-2,2)]),\n",
    "    np.array([1,1,1]), \n",
    "    corner_size=corner_size),pt(80,0))\n",
    "pipe14 = merging2pipe([pipe141,pipe142,pipe143,pipe144,pipe145,pipe146,pipe147])\n",
    "\n",
    "pipe1s = [pipe11,pipe12,pipe13,pipe14]\n",
    "\n",
    "ax.set_aspect('equal')\n",
    "ax.plot(*plyg_bdr(pipe11))\n",
    "ax.plot(*plyg_bdr(pipe12))\n",
    "ax.plot(*plyg_bdr(pipe13))\n",
    "ax.plot(*plyg_bdr(pipe14))"
   ]
  },
  {
   "cell_type": "code",
   "execution_count": 5,
   "metadata": {},
   "outputs": [],
   "source": [
    "pipes = transformeds(pipe1s,pt(0,10)) \\\n",
    "    + transformeds(pipe1s,pt(0,-10))\n",
    "\n",
    "pipe13 = transformed(NLets(\n",
    "    arr([pt(-16,0),pt(2,-1)]),\n",
    "    arr([1,1]),\n",
    "    corner_size=corner_size),pt(112,10))\n",
    "pipe14 = transformed(NLets(\n",
    "    arr([pt(-16,0),pt(2,1)]),\n",
    "    arr([1,1]),\n",
    "    corner_size=corner_size),pt(112,-10))\n",
    "pipe15 = transformed(\n",
    "    NLets(\n",
    "        arr([pt(-18,-9),pt(32,0),pt(-18,9)]),\n",
    "        arr([1,2,1]),\n",
    "        corner_size=corner_size),pt(132,0))\n",
    "pipe1 = merging2pipe([pipe13,pipe14,pipe15])\n",
    "\n",
    "pipe22 = transformed(NLets(\n",
    "    arr([pt(-8,-4),pt(32,0)]),\n",
    "    arr([2,2]),\n",
    "    corner_size=corner_size),pt(-64,10))\n",
    "pipe23 = transformed(NLets(\n",
    "    arr([pt(32,0),pt(-8,4)]),\n",
    "    arr([2,2]),\n",
    "    corner_size=corner_size),pt(-64,-10))\n",
    "pipe25 = transformed(NLets(\n",
    "    arr([pt(-32,0),pt(12,-6),pt(12,6)]),\n",
    "    arr([2,2,2]),\n",
    "    corner_size=corner_size),pt(-84,0))\n",
    "pipe2 = merging2pipe([pipe22,pipe23,pipe25])"
   ]
  },
  {
   "cell_type": "code",
   "execution_count": 6,
   "metadata": {},
   "outputs": [
    {
     "data": {
      "image/png": "[encoded data removed]",
      "text/plain": [
       "<Figure size 1440x1440 with 1 Axes>"
      ]
     },
     "metadata": {
      "needs_background": "light"
     },
     "output_type": "display_data"
    }
   ],
   "source": [
    "fig, ax = plt.subplots(figsize=(20,20))\n",
    "ax.set_aspect('equal')\n",
    "pipes2 = pipes + [pipe1,pipe2]\n",
    "for pipe in pipes2:\n",
    "    ax.plot(*plyg_bdr(pipe))"
   ]
  },
  {
   "cell_type": "code",
   "execution_count": 7,
   "metadata": {},
   "outputs": [
    {
     "data": {
      "image/png": "[encoded data removed]",
      "text/plain": [
       "<Figure size 1440x1440 with 1 Axes>"
      ]
     },
     "metadata": {
      "needs_background": "light"
     },
     "output_type": "display_data"
    }
   ],
   "source": [
    "fig, ax = plt.subplots(figsize=(20,20))\n",
    "ax.set_aspect('equal')\n",
    "pipes3 = transformeds(pipes2,pt(0,20)) + transformeds(pipes2,pt(0,-20)) \n",
    "\n",
    "pipe11 = transformed(NLets(\n",
    "    arr([pt(-4,-4),pt(32,0)]),\n",
    "    arr([2,2]),\n",
    "    corner_size=corner_size),pt(-148,20))\n",
    "pipe12 = transformed(NLets(\n",
    "    arr([pt(32,0),pt(-4,4)]),\n",
    "    arr([2,2]),\n",
    "    corner_size=corner_size),pt(-148,-20))\n",
    "pipe13 = transformed(NLets(\n",
    "    arr([pt(-32,0),pt(16,-16),pt(16,16)]),\n",
    "    arr([2,2,2]),\n",
    "    corner_size=corner_size),pt(-168,0))\n",
    "\n",
    "pipe1 = merging2pipe([pipe11,pipe12,pipe13])\n",
    "\n",
    "pipe21 = transformed(NLets(\n",
    "    arr([pt(-32,0),pt(4,4)]),\n",
    "    arr([2,2]),\n",
    "    corner_size=corner_size),pt(196,-20))\n",
    "pipe22 = transformed(NLets(\n",
    "    arr([pt(-32,0),pt(4,-4)]),\n",
    "    arr([2,2]),\n",
    "    corner_size=corner_size),pt(196,20))\n",
    "pipe23 = transformed(NLets(\n",
    "    arr([pt(-16,-16),pt(32,0),pt(-16,16)]),arr([2,2,2])),pt(216,0))\n",
    "\n",
    "pipe2 = merging2pipe([pipe21,pipe22,pipe23])\n",
    "\n",
    "pipes4 = pipes3 + [pipe1,pipe2]\n",
    "\n",
    "for pipe in pipes4:\n",
    "    ax.plot(*plyg_bdr(pipe))"
   ]
  },
  {
   "cell_type": "code",
   "execution_count": 8,
   "metadata": {},
   "outputs": [],
   "source": [
    "global_pipe = merging2pipe(pipes4)"
   ]
  },
  {
   "cell_type": "code",
   "execution_count": 9,
   "metadata": {},
   "outputs": [
    {
     "name": "stdout",
     "output_type": "stream",
     "text": [
      "\t\trefining boundary 0 out of 8\n",
      "\t\trefining boundary 1 out of 8\n",
      "\t\trefining boundary 2 out of 8\n",
      "\t\trefining boundary 3 out of 8\n",
      "\t\trefining boundary 4 out of 8\n",
      "\t\trefining boundary 5 out of 8\n",
      "\t\trefining boundary 6 out of 8\n",
      "\t\trefining boundary 7 out of 8\n"
     ]
    }
   ],
   "source": [
    "global_pipe.build_geometry(required_tol=1e-10,n_jobs=10)"
   ]
  },
  {
   "cell_type": "code",
   "execution_count": 11,
   "metadata": {},
   "outputs": [],
   "source": [
    "global_pipe.build_A(fmm=True)"
   ]
  },
  {
   "cell_type": "code",
   "execution_count": 12,
   "metadata": {},
   "outputs": [
    {
     "name": "stdout",
     "output_type": "stream",
     "text": [
      "\tresidual = 0.30240973627032297,\titer = 20,\ttime = 0.0 mins\n",
      "\tresidual = 0.14806670864027688,\titer = 40,\ttime = 0.0 mins\n",
      "\tresidual = 0.14230872106170173,\titer = 60,\ttime = 0.0 mins\n",
      "\tresidual = 0.1399334498939735,\titer = 80,\ttime = 0.0 mins\n",
      "\tresidual = 0.13603745353781882,\titer = 100,\ttime = 0.0 mins\n",
      "\tresidual = 0.12419033338445414,\titer = 120,\ttime = 1.0 mins\n",
      "\tresidual = 0.10562584105974623,\titer = 140,\ttime = 1.0 mins\n",
      "\tresidual = 0.09491721751792773,\titer = 160,\ttime = 1.0 mins\n",
      "\tresidual = 0.08777629778475413,\titer = 180,\ttime = 1.0 mins\n",
      "\tresidual = 0.08618298332143035,\titer = 200,\ttime = 1.0 mins\n",
      "\tresidual = 0.08203700124360938,\titer = 220,\ttime = 1.0 mins\n",
      "\tresidual = 0.08022446452541279,\titer = 240,\ttime = 2.0 mins\n",
      "\tresidual = 0.07977085244483453,\titer = 260,\ttime = 2.0 mins\n",
      "\tresidual = 0.07905356395189157,\titer = 280,\ttime = 2.0 mins\n",
      "\tresidual = 0.07782515988312015,\titer = 300,\ttime = 2.0 mins\n",
      "\tresidual = 0.07716532791826675,\titer = 320,\ttime = 2.0 mins\n",
      "\tresidual = 0.07691243714373017,\titer = 340,\ttime = 3.0 mins\n",
      "\tresidual = 0.07613932547012907,\titer = 360,\ttime = 3.0 mins\n",
      "\tresidual = 0.07335132317858507,\titer = 380,\ttime = 3.0 mins\n",
      "\tresidual = 0.07299736513991636,\titer = 400,\ttime = 3.0 mins\n",
      "\tresidual = 0.07264946958099103,\titer = 420,\ttime = 3.0 mins\n",
      "\tresidual = 0.07249347837761957,\titer = 440,\ttime = 3.0 mins\n",
      "\tresidual = 0.07228502018375764,\titer = 460,\ttime = 4.0 mins\n",
      "\tresidual = 0.07212999579280154,\titer = 480,\ttime = 4.0 mins\n",
      "\tresidual = 0.07173541476446062,\titer = 500,\ttime = 4.0 mins\n",
      "\tresidual = 0.07140089082761555,\titer = 520,\ttime = 4.0 mins\n",
      "\tresidual = 0.07071271262232658,\titer = 540,\ttime = 4.0 mins\n",
      "\tresidual = 0.07027212320500228,\titer = 560,\ttime = 5.0 mins\n",
      "\tresidual = 0.06967107659894786,\titer = 580,\ttime = 5.0 mins\n",
      "\tresidual = 0.06885138674482509,\titer = 600,\ttime = 5.0 mins\n",
      "\tresidual = 0.06820825894993596,\titer = 620,\ttime = 5.0 mins\n",
      "\tresidual = 0.06758077509481149,\titer = 640,\ttime = 5.0 mins\n",
      "\tresidual = 0.06701082260393534,\titer = 660,\ttime = 5.0 mins\n",
      "\tresidual = 0.06578745336079139,\titer = 680,\ttime = 6.0 mins\n",
      "\tresidual = 0.06528799359333276,\titer = 700,\ttime = 6.0 mins\n",
      "\tresidual = 0.06461243813099725,\titer = 720,\ttime = 6.0 mins\n",
      "\tresidual = 0.06348542375948348,\titer = 740,\ttime = 6.0 mins\n",
      "\tresidual = 0.06253850624334316,\titer = 760,\ttime = 6.0 mins\n",
      "\tresidual = 0.061323608304875384,\titer = 780,\ttime = 7.0 mins\n",
      "\tresidual = 0.06074728090484078,\titer = 800,\ttime = 7.0 mins\n",
      "\tresidual = 0.06015525156736378,\titer = 820,\ttime = 7.0 mins\n",
      "\tresidual = 0.05957376378957212,\titer = 840,\ttime = 7.0 mins\n",
      "\tresidual = 0.059201027404657804,\titer = 860,\ttime = 7.0 mins\n",
      "\tresidual = 0.058279313372482405,\titer = 880,\ttime = 8.0 mins\n",
      "\tresidual = 0.05810148410392908,\titer = 900,\ttime = 8.0 mins\n",
      "\tresidual = 0.05802350908150635,\titer = 920,\ttime = 8.0 mins\n",
      "\tresidual = 0.057883642245070435,\titer = 940,\ttime = 8.0 mins\n",
      "\tresidual = 0.057594773021825786,\titer = 960,\ttime = 8.0 mins\n",
      "\tresidual = 0.057291882243588874,\titer = 980,\ttime = 9.0 mins\n",
      "\tresidual = 0.05696204881428747,\titer = 1000,\ttime = 9.0 mins\n",
      "\tresidual = 0.05670180775029933,\titer = 1020,\ttime = 9.0 mins\n",
      "\tresidual = 0.056550921128575425,\titer = 1040,\ttime = 9.0 mins\n",
      "\tresidual = 0.056464251350428714,\titer = 1060,\ttime = 9.0 mins\n",
      "\tresidual = 0.05638459733970136,\titer = 1080,\ttime = 10.0 mins\n",
      "\tresidual = 0.05633263760539968,\titer = 1100,\ttime = 10.0 mins\n",
      "\tresidual = 0.056222199529891444,\titer = 1120,\ttime = 10.0 mins\n",
      "\tresidual = 0.055778119749969844,\titer = 1140,\ttime = 10.0 mins\n",
      "\tresidual = 0.05531521872539859,\titer = 1160,\ttime = 11.0 mins\n",
      "\tresidual = 0.05484631109771918,\titer = 1180,\ttime = 11.0 mins\n",
      "\tresidual = 0.05410054322511815,\titer = 1200,\ttime = 11.0 mins\n",
      "\tresidual = 0.053925812640776054,\titer = 1220,\ttime = 11.0 mins\n",
      "\tresidual = 0.0538516914295525,\titer = 1240,\ttime = 11.0 mins\n",
      "\tresidual = 0.05346624420498166,\titer = 1260,\ttime = 12.0 mins\n",
      "\tresidual = 0.053130851468988105,\titer = 1280,\ttime = 12.0 mins\n",
      "\tresidual = 0.05200289911085823,\titer = 1300,\ttime = 12.0 mins\n",
      "\tresidual = 0.05135530490482037,\titer = 1320,\ttime = 12.0 mins\n",
      "\tresidual = 0.050511353428130665,\titer = 1340,\ttime = 13.0 mins\n",
      "\tresidual = 0.049493626961915116,\titer = 1360,\ttime = 13.0 mins\n",
      "\tresidual = 0.0477343038891468,\titer = 1380,\ttime = 13.0 mins\n",
      "\tresidual = 0.02823250893470798,\titer = 1400,\ttime = 13.0 mins\n",
      "\tresidual = 0.019532213758917494,\titer = 1420,\ttime = 13.0 mins\n",
      "\tresidual = 0.01471774174914388,\titer = 1440,\ttime = 14.0 mins\n",
      "\tresidual = 0.012319739397079537,\titer = 1460,\ttime = 14.0 mins\n",
      "\tresidual = 0.01211779243080495,\titer = 1480,\ttime = 14.0 mins\n",
      "\tresidual = 0.0028888114511538914,\titer = 1500,\ttime = 14.0 mins\n",
      "\tresidual = 0.0023603134164559446,\titer = 1520,\ttime = 15.0 mins\n",
      "\tresidual = 0.002299625622816091,\titer = 1540,\ttime = 15.0 mins\n",
      "\tresidual = 0.0007467133040483672,\titer = 1560,\ttime = 15.0 mins\n",
      "\tresidual = 0.0007272014086917559,\titer = 1580,\ttime = 15.0 mins\n",
      "\tresidual = 0.0007156317831473921,\titer = 1600,\ttime = 16.0 mins\n",
      "\tresidual = 0.0003516762058469699,\titer = 1620,\ttime = 16.0 mins\n",
      "\tresidual = 3.2252836472641595e-05,\titer = 1640,\ttime = 16.0 mins\n",
      "\tresidual = 2.2622020250095584e-05,\titer = 1660,\ttime = 16.0 mins\n",
      "\tresidual = 1.6125190205019712e-05,\titer = 1680,\ttime = 17.0 mins\n",
      "\tresidual = 1.3392600848777848e-06,\titer = 1700,\ttime = 17.0 mins\n",
      "\tresidual = 1.2965666542338882e-06,\titer = 1720,\ttime = 17.0 mins\n",
      "\tresidual = 5.757709046201298e-07,\titer = 1740,\ttime = 18.0 mins\n",
      "\tresidual = 1.1723043224399866e-07,\titer = 1760,\ttime = 18.0 mins\n",
      "\tresidual = 8.472737954553038e-08,\titer = 1780,\ttime = 18.0 mins\n",
      "\tresidual = 6.254392843588043e-08,\titer = 1800,\ttime = 18.0 mins\n",
      "\tresidual = 5.970201406570772e-08,\titer = 1820,\ttime = 18.0 mins\n",
      "\tresidual = 5.736963152222888e-08,\titer = 1840,\ttime = 19.0 mins\n",
      "\tresidual = 5.534381448094411e-08,\titer = 1860,\ttime = 19.0 mins\n",
      "\tresidual = 5.4521300452483186e-08,\titer = 1880,\ttime = 19.0 mins\n",
      "\tresidual = 5.335382927325058e-08,\titer = 1900,\ttime = 19.0 mins\n",
      "\tresidual = 5.198003610279556e-08,\titer = 1920,\ttime = 19.0 mins\n",
      "\tresidual = 5.119077288600993e-08,\titer = 1940,\ttime = 20.0 mins\n",
      "\tresidual = 4.948663495551699e-08,\titer = 1960,\ttime = 20.0 mins\n",
      "\tresidual = 4.8754839750881804e-08,\titer = 1980,\ttime = 20.0 mins\n",
      "\tresidual = 4.802814317415886e-08,\titer = 2000,\ttime = 20.0 mins\n",
      "\tresidual = 4.685081222417128e-08,\titer = 2020,\ttime = 20.0 mins\n",
      "\tresidual = 4.588535021074102e-08,\titer = 2040,\ttime = 21.0 mins\n",
      "\tresidual = 4.490893178986455e-08,\titer = 2060,\ttime = 21.0 mins\n",
      "\tresidual = 4.434288918034219e-08,\titer = 2080,\ttime = 21.0 mins\n",
      "\tresidual = 4.3703013396994494e-08,\titer = 2100,\ttime = 21.0 mins\n",
      "\tresidual = 4.3073518446041175e-08,\titer = 2120,\ttime = 21.0 mins\n",
      "\tresidual = 4.265489977817164e-08,\titer = 2140,\ttime = 22.0 mins\n",
      "\tresidual = 4.1888819883039574e-08,\titer = 2160,\ttime = 22.0 mins\n",
      "\tresidual = 4.15260006009961e-08,\titer = 2180,\ttime = 22.0 mins\n",
      "\tresidual = 4.1318811610974814e-08,\titer = 2200,\ttime = 22.0 mins\n",
      "\tresidual = 4.089968269238544e-08,\titer = 2220,\ttime = 22.0 mins\n",
      "\tresidual = 4.0517331883006405e-08,\titer = 2240,\ttime = 22.0 mins\n",
      "\tresidual = 4.023852617906941e-08,\titer = 2260,\ttime = 23.0 mins\n",
      "\tresidual = 3.989366962881525e-08,\titer = 2280,\ttime = 23.0 mins\n",
      "\tresidual = 3.946321209713813e-08,\titer = 2300,\ttime = 23.0 mins\n",
      "\tresidual = 3.88923515661209e-08,\titer = 2320,\ttime = 23.0 mins\n",
      "\tresidual = 3.8642077470195464e-08,\titer = 2340,\ttime = 23.0 mins\n",
      "\tresidual = 3.8474572356837525e-08,\titer = 2360,\ttime = 24.0 mins\n",
      "\tresidual = 3.818256030169229e-08,\titer = 2380,\ttime = 24.0 mins\n",
      "\tresidual = 3.781994328788146e-08,\titer = 2400,\ttime = 24.0 mins\n",
      "\tresidual = 3.7710429546204245e-08,\titer = 2420,\ttime = 24.0 mins\n",
      "\tresidual = 3.746930814498076e-08,\titer = 2440,\ttime = 24.0 mins\n",
      "\tresidual = 3.730327534743502e-08,\titer = 2460,\ttime = 25.0 mins\n",
      "\tresidual = 3.718256950614498e-08,\titer = 2480,\ttime = 25.0 mins\n",
      "\tresidual = 3.6891458560407145e-08,\titer = 2500,\ttime = 25.0 mins\n",
      "\tresidual = 3.648038157904522e-08,\titer = 2520,\ttime = 25.0 mins\n",
      "\tresidual = 3.625718987016545e-08,\titer = 2540,\ttime = 25.0 mins\n",
      "\tresidual = 3.6026887601969656e-08,\titer = 2560,\ttime = 26.0 mins\n",
      "\tresidual = 3.580783679571724e-08,\titer = 2580,\ttime = 26.0 mins\n",
      "\tresidual = 3.562783133878266e-08,\titer = 2600,\ttime = 26.0 mins\n",
      "\tresidual = 3.537261847462475e-08,\titer = 2620,\ttime = 26.0 mins\n",
      "\tresidual = 3.5252588514231657e-08,\titer = 2640,\ttime = 26.0 mins\n",
      "\tresidual = 3.494915604134922e-08,\titer = 2660,\ttime = 26.0 mins\n",
      "\tresidual = 3.475700713497928e-08,\titer = 2680,\ttime = 27.0 mins\n",
      "\tresidual = 3.4584885050426996e-08,\titer = 2700,\ttime = 27.0 mins\n",
      "\tresidual = 3.437465165536126e-08,\titer = 2720,\ttime = 27.0 mins\n",
      "\tresidual = 3.424428893975877e-08,\titer = 2740,\ttime = 27.0 mins\n",
      "\tresidual = 3.398623509080391e-08,\titer = 2760,\ttime = 27.0 mins\n",
      "\tresidual = 3.388342064984841e-08,\titer = 2780,\ttime = 28.0 mins\n",
      "\tresidual = 3.3666847709904534e-08,\titer = 2800,\ttime = 28.0 mins\n",
      "\tresidual = 3.356642432417905e-08,\titer = 2820,\ttime = 28.0 mins\n",
      "\tresidual = 3.333898877130839e-08,\titer = 2840,\ttime = 28.0 mins\n",
      "\tresidual = 3.321214286009124e-08,\titer = 2860,\ttime = 28.0 mins\n",
      "\tresidual = 3.307510046128372e-08,\titer = 2880,\ttime = 29.0 mins\n",
      "\tresidual = 3.296622990916119e-08,\titer = 2900,\ttime = 29.0 mins\n",
      "\tresidual = 3.270790139071427e-08,\titer = 2920,\ttime = 29.0 mins\n",
      "\tresidual = 3.262851362746596e-08,\titer = 2940,\ttime = 30.0 mins\n",
      "\tresidual = 3.2456267275494355e-08,\titer = 2960,\ttime = 30.0 mins\n",
      "\tresidual = 3.234222300139519e-08,\titer = 2980,\ttime = 30.0 mins\n",
      "\tresidual = 3.218171968056032e-08,\titer = 3000,\ttime = 30.0 mins\n",
      "\tresidual = 3.200250659785184e-08,\titer = 3020,\ttime = 31.0 mins\n",
      "\tresidual = 3.1813751218996795e-08,\titer = 3040,\ttime = 31.0 mins\n",
      "\tresidual = 3.164633271230317e-08,\titer = 3060,\ttime = 31.0 mins\n",
      "\tresidual = 3.1582947263872076e-08,\titer = 3080,\ttime = 31.0 mins\n",
      "\tresidual = 3.146232936232212e-08,\titer = 3100,\ttime = 32.0 mins\n",
      "\tresidual = 3.131381942560059e-08,\titer = 3120,\ttime = 32.0 mins\n",
      "\tresidual = 3.121282596496949e-08,\titer = 3140,\ttime = 32.0 mins\n",
      "\tresidual = 3.114092469976494e-08,\titer = 3160,\ttime = 32.0 mins\n",
      "\tresidual = 3.102869074423051e-08,\titer = 3180,\ttime = 33.0 mins\n",
      "\tresidual = 3.075186838991822e-08,\titer = 3200,\ttime = 33.0 mins\n",
      "\tresidual = 3.066315522928953e-08,\titer = 3220,\ttime = 33.0 mins\n",
      "\tresidual = 3.0620016339891323e-08,\titer = 3240,\ttime = 33.0 mins\n",
      "\tresidual = 3.0311970735393427e-08,\titer = 3260,\ttime = 34.0 mins\n",
      "\tresidual = 3.000173979533645e-08,\titer = 3280,\ttime = 34.0 mins\n",
      "\tresidual = 2.993926233271509e-08,\titer = 3300,\ttime = 34.0 mins\n",
      "\tresidual = 2.990478091570819e-08,\titer = 3320,\ttime = 34.0 mins\n",
      "\tresidual = 2.952713351812233e-08,\titer = 3340,\ttime = 34.0 mins\n",
      "\tresidual = 2.9486443510358208e-08,\titer = 3360,\ttime = 35.0 mins\n",
      "\tresidual = 2.9443630329808626e-08,\titer = 3380,\ttime = 35.0 mins\n",
      "\tresidual = 2.933236363982027e-08,\titer = 3400,\ttime = 35.0 mins\n",
      "\tresidual = 2.9292487750787067e-08,\titer = 3420,\ttime = 35.0 mins\n",
      "\tresidual = 2.91751713638914e-08,\titer = 3440,\ttime = 36.0 mins\n",
      "\tresidual = 2.9129961124334955e-08,\titer = 3460,\ttime = 36.0 mins\n",
      "\tresidual = 2.8676910368742404e-08,\titer = 3480,\ttime = 36.0 mins\n",
      "\tresidual = 2.4621115215239e-08,\titer = 3500,\ttime = 36.0 mins\n"
     ]
    }
   ],
   "source": [
    "global_pipe.build_omegas(tol=1e-7,max_iter=100,restart=4000)"
   ]
  },
  {
   "cell_type": "code",
   "execution_count": 25,
   "metadata": {},
   "outputs": [
    {
     "name": "stdout",
     "output_type": "stream",
     "text": [
      "\n"
     ]
    },
    {
     "data": {
      "image/png": "[encoded data removed]",
      "text/plain": [
       "<Figure size 1440x1440 with 1 Axes>"
      ]
     },
     "metadata": {
      "needs_background": "light"
     },
     "output_type": "display_data"
    }
   ],
   "source": [
    "plt.figure(figsize=(20,20))\n",
    "plt.semilogy(global_pipe.callbacks[-1].residuals[:1700])\n",
    "# plt.yticks([1e-8,2e-8,3e-8,4e-8,5e-8,6e-8,7e-8,9e-8,1e-7,1e-6,1e-5,1e-4,1e-3,1e-2,1e-1,1e0])\n",
    "# plt.axhline(3e-8)\n",
    "print()\n"
   ]
  },
  {
   "cell_type": "code",
   "execution_count": null,
   "metadata": {},
   "outputs": [],
   "source": []
  }
 ],
 "metadata": {
  "kernelspec": {
   "display_name": "Python 3.10.5 ('bim')",
   "language": "python",
   "name": "python3"
  },
  "language_info": {
   "codemirror_mode": {
    "name": "ipython",
    "version": 3
   },
   "file_extension": ".py",
   "mimetype": "text/x-python",
   "name": "python",
   "nbconvert_exporter": "python",
   "pygments_lexer": "ipython3",
   "version": "3.10.5"
  },
  "orig_nbformat": 4,
  "vscode": {
   "interpreter": {
    "hash": "c63784d83960d2c89cfe6fb5ec298e84c6499521dac7c7c8fd1fc1b7e373202c"
   }
  }
 },
 "nbformat": 4,
 "nbformat_minor": 2
}
