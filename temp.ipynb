<<<<<<< HEAD
{
 "cells": [
  {
   "cell_type": "code",
   "execution_count": 28,
   "outputs": [],
   "source": [
    "import sys\n",
    "sys.path.insert(0,'./src/')\n",
    "from curve import *\n",
    "from utility_and_spec import *\n",
    "import numpy as np\n",
    "from matplotlib import pyplot as plt"
   ],
   "metadata": {
    "collapsed": false,
    "pycharm": {
     "name": "#%%\n"
    }
   }
  },
  {
   "cell_type": "code",
   "execution_count": 29,
   "outputs": [],
   "source": [
    "c = Cap(pt(-1,1),pt(1,-1),pt(2,2))\n",
    "c.build_affine_transform()\n",
    "c.build()"
   ],
   "metadata": {
    "collapsed": false,
    "pycharm": {
     "name": "#%%\n"
    }
   }
  },
  {
   "cell_type": "code",
   "execution_count": 30,
   "outputs": [],
   "source": [
    "U = c.boundary_velocity()\n",
    "u,v = U.T"
   ],
   "metadata": {
    "collapsed": false,
    "pycharm": {
     "name": "#%%\n"
    }
   }
  },
  {
   "cell_type": "code",
   "execution_count": 31,
   "outputs": [
    {
     "data": {
      "text/plain": "[<matplotlib.lines.Line2D at 0x7fe0fa8f5c60>]"
     },
     "execution_count": 31,
     "metadata": {},
     "output_type": "execute_result"
    },
    {
     "data": {
      "text/plain": "<Figure size 432x288 with 1 Axes>",
      "image/png": "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\n"
     },
     "metadata": {
      "needs_background": "light"
     },
     "output_type": "display_data"
    }
   ],
   "source": [
    "plt.plot(c.x,c.y)"
   ],
   "metadata": {
    "collapsed": false,
    "pycharm": {
     "name": "#%%\n"
    }
   }
  },
  {
   "cell_type": "code",
   "execution_count": 34,
   "outputs": [
    {
     "data": {
      "text/plain": "1.1102230246251565e-16"
     },
     "execution_count": 34,
     "metadata": {},
     "output_type": "execute_result"
    }
   ],
   "source": [
    "1-np.sum(U2H(U)*c.dt_da*c.da).imag"
   ],
   "metadata": {
    "collapsed": false,
    "pycharm": {
     "name": "#%%\n"
    }
   }
  }
 ],
 "metadata": {
  "kernelspec": {
   "display_name": "Python 3",
   "language": "python",
   "name": "python3"
  },
  "language_info": {
   "codemirror_mode": {
    "name": "ipython",
    "version": 2
   },
   "file_extension": ".py",
   "mimetype": "text/x-python",
   "name": "python",
   "nbconvert_exporter": "python",
   "pygments_lexer": "ipython2",
   "version": "2.7.6"
  }
 },
 "nbformat": 4,
 "nbformat_minor": 0
=======
{
 "cells": [
  {
   "cell_type": "code",
   "execution_count": 7,
   "outputs": [],
   "source": [
    "import sys\n",
    "\n",
    "import numpy as np\n",
    "\n",
    "sys.path.insert(0,'./src/')\n",
    "from curve import *\n",
    "from utility_and_spec import *\n",
    "from matplotlib import pyplot as plt"
   ],
   "metadata": {
    "collapsed": false,
    "pycharm": {
     "name": "#%%\n"
    }
   }
  },
  {
   "cell_type": "code",
   "execution_count": 8,
   "outputs": [],
   "source": [
    "c = Cap(pt(-1,1),pt(1,-1),pt(2,2))\n",
    "c.build()"
   ],
   "metadata": {
    "collapsed": false,
    "pycharm": {
     "name": "#%%\n"
    }
   }
  },
  {
   "cell_type": "code",
   "execution_count": 9,
   "outputs": [],
   "source": [
    "U = c.boundary_velocity()\n",
    "u,v = U.T"
   ],
   "metadata": {
    "collapsed": false,
    "pycharm": {
     "name": "#%%\n"
    }
   }
  },
  {
   "cell_type": "code",
   "execution_count": 10,
   "outputs": [
    {
     "data": {
      "text/plain": "<Figure size 432x288 with 1 Axes>",
      "image/png": "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\n"
     },
     "metadata": {
      "needs_background": "light"
     },
     "output_type": "display_data"
    }
   ],
   "source": [
    "fig,ax = plt.subplots()\n",
    "ax.quiver(c.x,c.y,u,v,scale=5)\n",
    "ax.scatter(c.x,c.y,c=c.a,s=1)\n",
    "ax.set_aspect(1)"
   ],
   "metadata": {
    "collapsed": false,
    "pycharm": {
     "name": "#%%\n"
    }
   }
  },
  {
   "cell_type": "code",
   "execution_count": 11,
   "outputs": [],
   "source": [
    "pts1 = np.arange(10).reshape(5,2)\n",
    "pts2 = np.arange(11,21).reshape(5,2)"
   ],
   "metadata": {
    "collapsed": false,
    "pycharm": {
     "name": "#%%\n"
    }
   }
  },
  {
   "cell_type": "code",
   "execution_count": 18,
   "outputs": [
    {
     "data": {
      "text/plain": "array([[ 0,  1],\n       [ 2,  3],\n       [ 4,  5],\n       [ 6,  7],\n       [ 8,  9],\n       [11, 12],\n       [13, 14],\n       [15, 16],\n       [17, 18],\n       [19, 20]])"
     },
     "execution_count": 18,
     "metadata": {},
     "output_type": "execute_result"
    }
   ],
   "source": [
    "np.concatenate((pts1,pts2))"
   ],
   "metadata": {
    "collapsed": false,
    "pycharm": {
     "name": "#%%\n"
    }
   }
  },
  {
   "cell_type": "code",
   "execution_count": 17,
   "outputs": [
    {
     "data": {
      "text/plain": "array([[ 0,  1],\n       [ 2,  3],\n       [ 4,  5],\n       [ 6,  7],\n       [ 8,  9],\n       [11, 12],\n       [13, 14],\n       [15, 16],\n       [17, 18],\n       [19, 20]])"
     },
     "execution_count": 17,
     "metadata": {},
     "output_type": "execute_result"
    }
   ],
   "source": [
    "np.vstack((pts1,pts2))"
   ],
   "metadata": {
    "collapsed": false,
    "pycharm": {
     "name": "#%%\n"
    }
   }
  },
  {
   "cell_type": "code",
   "execution_count": 19,
   "outputs": [
    {
     "name": "stdout",
     "output_type": "stream",
     "text": [
      "Help on function meshgrid in module numpy:\n",
      "\n",
      "meshgrid(*xi, copy=True, sparse=False, indexing='xy')\n",
      "    Return coordinate matrices from coordinate vectors.\n",
      "    \n",
      "    Make N-D coordinate arrays for vectorized evaluations of\n",
      "    N-D scalar/vector fields over N-D grids, given\n",
      "    one-dimensional coordinate arrays x1, x2,..., xn.\n",
      "    \n",
      "    .. versionchanged:: 1.9\n",
      "       1-D and 0-D cases are allowed.\n",
      "    \n",
      "    Parameters\n",
      "    ----------\n",
      "    x1, x2,..., xn : array_like\n",
      "        1-D arrays representing the coordinates of a grid.\n",
      "    indexing : {'xy', 'ij'}, optional\n",
      "        Cartesian ('xy', default) or matrix ('ij') indexing of output.\n",
      "        See Notes for more details.\n",
      "    \n",
      "        .. versionadded:: 1.7.0\n",
      "    sparse : bool, optional\n",
      "        If True the shape of the returned coordinate array for dimension *i*\n",
      "        is reduced from ``(N1, ..., Ni, ... Nn)`` to\n",
      "        ``(1, ..., 1, Ni, 1, ..., 1)``.  These sparse coordinate grids are\n",
      "        intended to be use with :ref:`basics.broadcasting`.  When all\n",
      "        coordinates are used in an expression, broadcasting still leads to a\n",
      "        fully-dimensonal result array.\n",
      "    \n",
      "        Default is False.\n",
      "    \n",
      "        .. versionadded:: 1.7.0\n",
      "    copy : bool, optional\n",
      "        If False, a view into the original arrays are returned in order to\n",
      "        conserve memory.  Default is True.  Please note that\n",
      "        ``sparse=False, copy=False`` will likely return non-contiguous\n",
      "        arrays.  Furthermore, more than one element of a broadcast array\n",
      "        may refer to a single memory location.  If you need to write to the\n",
      "        arrays, make copies first.\n",
      "    \n",
      "        .. versionadded:: 1.7.0\n",
      "    \n",
      "    Returns\n",
      "    -------\n",
      "    X1, X2,..., XN : ndarray\n",
      "        For vectors `x1`, `x2`,..., `xn` with lengths ``Ni=len(xi)``,\n",
      "        returns ``(N1, N2, N3,..., Nn)`` shaped arrays if indexing='ij'\n",
      "        or ``(N2, N1, N3,..., Nn)`` shaped arrays if indexing='xy'\n",
      "        with the elements of `xi` repeated to fill the matrix along\n",
      "        the first dimension for `x1`, the second for `x2` and so on.\n",
      "    \n",
      "    Notes\n",
      "    -----\n",
      "    This function supports both indexing conventions through the indexing\n",
      "    keyword argument.  Giving the string 'ij' returns a meshgrid with\n",
      "    matrix indexing, while 'xy' returns a meshgrid with Cartesian indexing.\n",
      "    In the 2-D case with inputs of length M and N, the outputs are of shape\n",
      "    (N, M) for 'xy' indexing and (M, N) for 'ij' indexing.  In the 3-D case\n",
      "    with inputs of length M, N and P, outputs are of shape (N, M, P) for\n",
      "    'xy' indexing and (M, N, P) for 'ij' indexing.  The difference is\n",
      "    illustrated by the following code snippet::\n",
      "    \n",
      "        xv, yv = np.meshgrid(x, y, indexing='ij')\n",
      "        for i in range(nx):\n",
      "            for j in range(ny):\n",
      "                # treat xv[i,j], yv[i,j]\n",
      "    \n",
      "        xv, yv = np.meshgrid(x, y, indexing='xy')\n",
      "        for i in range(nx):\n",
      "            for j in range(ny):\n",
      "                # treat xv[j,i], yv[j,i]\n",
      "    \n",
      "    In the 1-D and 0-D case, the indexing and sparse keywords have no effect.\n",
      "    \n",
      "    See Also\n",
      "    --------\n",
      "    mgrid : Construct a multi-dimensional \"meshgrid\" using indexing notation.\n",
      "    ogrid : Construct an open multi-dimensional \"meshgrid\" using indexing\n",
      "            notation.\n",
      "    \n",
      "    Examples\n",
      "    --------\n",
      "    >>> nx, ny = (3, 2)\n",
      "    >>> x = np.linspace(0, 1, nx)\n",
      "    >>> y = np.linspace(0, 1, ny)\n",
      "    >>> xv, yv = np.meshgrid(x, y)\n",
      "    >>> xv\n",
      "    array([[0. , 0.5, 1. ],\n",
      "           [0. , 0.5, 1. ]])\n",
      "    >>> yv\n",
      "    array([[0.,  0.,  0.],\n",
      "           [1.,  1.,  1.]])\n",
      "    >>> xv, yv = np.meshgrid(x, y, sparse=True)  # make sparse output arrays\n",
      "    >>> xv\n",
      "    array([[0. ,  0.5,  1. ]])\n",
      "    >>> yv\n",
      "    array([[0.],\n",
      "           [1.]])\n",
      "    \n",
      "    `meshgrid` is very useful to evaluate functions on a grid.  If the\n",
      "    function depends on all coordinates, you can use the parameter\n",
      "    ``sparse=True`` to save memory and computation time.\n",
      "    \n",
      "    >>> x = np.linspace(-5, 5, 101)\n",
      "    >>> y = np.linspace(-5, 5, 101)\n",
      "    >>> # full coordinate arrays\n",
      "    >>> xx, yy = np.meshgrid(x, y)\n",
      "    >>> zz = np.sqrt(xx**2 + yy**2)\n",
      "    >>> xx.shape, yy.shape, zz.shape\n",
      "    ((101, 101), (101, 101), (101, 101))\n",
      "    >>> # sparse coordinate arrays\n",
      "    >>> xs, ys = np.meshgrid(x, y, sparse=True)\n",
      "    >>> zs = np.sqrt(xs**2 + ys**2)\n",
      "    >>> xs.shape, ys.shape, zs.shape\n",
      "    ((1, 101), (101, 1), (101, 101))\n",
      "    >>> np.array_equal(zz, zs)\n",
      "    True\n",
      "    \n",
      "    >>> import matplotlib.pyplot as plt\n",
      "    >>> h = plt.contourf(x, y, zs)\n",
      "    >>> plt.axis('scaled')\n",
      "    >>> plt.colorbar()\n",
      "    >>> plt.show()\n",
      "\n"
     ]
    }
   ],
   "source": [
    "help(np.meshgrid)"
   ],
   "metadata": {
    "collapsed": false,
    "pycharm": {
     "name": "#%%\n"
    }
   }
  },
  {
   "cell_type": "code",
   "execution_count": null,
   "outputs": [],
   "source": [],
   "metadata": {
    "collapsed": false,
    "pycharm": {
     "name": "#%%\n"
    }
   }
  }
 ],
 "metadata": {
  "kernelspec": {
   "display_name": "Python 3",
   "language": "python",
   "name": "python3"
  },
  "language_info": {
   "codemirror_mode": {
    "name": "ipython",
    "version": 2
   },
   "file_extension": ".py",
   "mimetype": "text/x-python",
   "name": "python",
   "nbconvert_exporter": "python",
   "pygments_lexer": "ipython2",
   "version": "2.7.6"
  }
 },
 "nbformat": 4,
 "nbformat_minor": 0
>>>>>>> 73b89c1f4e9ac8f157772864df93b0786149f2bb
}