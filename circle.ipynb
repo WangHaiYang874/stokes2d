{
 "cells": [
  {
   "cell_type": "code",
   "execution_count": 2,
   "metadata": {},
   "outputs": [],
   "source": [
    "import numpy as np\n",
    "pi = np.pi\n",
    "pi2i = pi*2j\n",
    "from matplotlib import pyplot as plt\n",
    "from time import time"
   ]
  },
  {
   "cell_type": "code",
   "execution_count": 3,
   "metadata": {},
   "outputs": [],
   "source": [
    "# some aux functions\n",
    "def cplx2tuple(z):\n",
    "    return np.real(z), np.imag(z)"
   ]
  },
  {
   "cell_type": "markdown",
   "metadata": {},
   "source": [
    "# intro\n",
    "I solved the interior 2d stokes problem on the circle in this jupyter notebook, which serves as a basis for further solution of this problem"
   ]
  },
  {
   "cell_type": "code",
   "execution_count": 4,
   "metadata": {},
   "outputs": [],
   "source": [
    "# number of points\n",
    "n = 1000\n",
    "\n",
    "# parameterization of the curve\n",
    "a = np.linspace(0,2*np.pi,n+1)[:-1]\n",
    "h = 2*np.pi / n\n",
    "\n",
    "# complex coordinates of points \n",
    "t = np.exp(a*1j)\n",
    "\n",
    "# parametrization derivatives\n",
    "t_dt = t*1j\n",
    "\n",
    "# boundary conditions\n",
    "v = np.zeros(n)\n",
    "u = 1-(t.imag)**2\n",
    "h2 = u\n",
    "h1 = -v\n",
    "H = np.ones(n)\n",
    "\n",
    "# curvature\n",
    "curvature = np.ones(n)"
   ]
  },
  {
   "cell_type": "markdown",
   "metadata": {},
   "source": [
    "the blue dots is equal-space pts on the boundary $\\Gamma=S^1$, the red line is vector field of velocity, the green line is the tangential derivatives. the yellow line is the normal derivatives\n",
    "\n",
    "\n",
    "The velocity is the normalized presoille flow with integration = 1"
   ]
  },
  {
   "cell_type": "markdown",
   "metadata": {},
   "source": [
    "The kernels and BI eq can be greatly simplified in this specific case, compare to the original case in L. Greengard's paper. In this case, it is \n",
    "\n",
    "$$\n",
    "K_1'(t_i,t_j) = \\frac{-h}{\\pi} \\Im(\\frac{d_j}{dt})\\\\\n",
    "K_2'(t_i,t_j) = \\frac{-h}{2\\pi i} (\\frac{-d_j}{\\bar{dt}} + \\frac{\\bar{d_j}dt}{\\bar{dt}^2}) \n",
    "$$ \n",
    "where $dt = t_i-t_j$, $d_j$ is the derivative of the parametrization. \n",
    "\n",
    "And in the limiting case of $i=j$, the kernels should be \n",
    "\n",
    "$$\n",
    "K_1'(t_i,t_i) = \\frac{h}{2\\pi}\\kappa_i |d_i| \\\\\n",
    "K_2'(t_i,t_i) = \\frac{-h}{2\\pi} \\kappa_i d_i^2/ |d_i|\n",
    "$$"
   ]
  },
  {
   "cell_type": "code",
   "execution_count": 5,
   "metadata": {},
   "outputs": [],
   "source": [
    "def K1_func(i,j):\n",
    "    if i == j:\n",
    "        k = curvature[i]\n",
    "        d = np.abs(t_dt[i])\n",
    "        return h*k*d/(2*np.pi)\n",
    "    dt = t[i] - t[j]\n",
    "    d = t_dt[j]\n",
    "    return -h*np.imag(d/dt)/np.pi\n",
    "\n",
    "def K2_func(i,j):\n",
    "    if i==j:\n",
    "        k = curvature[i]\n",
    "        d = np.abs(t_dt[i])\n",
    "        return h*k*d/(2*np.pi)\n",
    "    d = t_dt[j]\n",
    "    dt = t[i] - t[j]\n",
    "    return -h/(2j*pi) * (-d/np.conjugate(dt) + np.conjugate(d)*dt/np.conjugate(dt**2))"
   ]
  },
  {
   "cell_type": "code",
   "execution_count": 6,
   "metadata": {},
   "outputs": [],
   "source": [
    "# start timing for building solver\n",
    "t1 = time()"
   ]
  },
  {
   "cell_type": "code",
   "execution_count": 7,
   "metadata": {},
   "outputs": [],
   "source": [
    "dt = t[:,np.newaxis] - t[np.newaxis,:]\n",
    "with np.errstate(divide='ignore', invalid='ignore'):\n",
    "    temp = t_dt[np.newaxis,:] / dt\n",
    "    temp = temp.imag\n",
    "    K1 = -h/pi * temp\n",
    "    K2 = -h/(2j*pi) * (-t_dt[np.newaxis,:]/np.conjugate(dt) + np.conjugate(t_dt)[np.newaxis,:]*dt/np.conjugate(dt**2))\n",
    "for i in range(n):\n",
    "    K1[i,i] = K1_func(i,i)\n",
    "    K2[i,i] = K2_func(i,i)"
   ]
  },
  {
   "cell_type": "markdown",
   "metadata": {},
   "source": [
    "this calculation can be vectorized for speeding up, but I guess it needs to handle the case of i == j more carefully. \n",
    "\n",
    "My integral equation does not contain any singular term, this could lead to inaccuracy and convergence, I guess. "
   ]
  },
  {
   "cell_type": "markdown",
   "metadata": {},
   "source": [
    "Should I transfer this into a real equation for the solution?? Or is it I can just live with the complex equation? How to deal with the complex conjugates though... "
   ]
  },
  {
   "cell_type": "markdown",
   "metadata": {},
   "source": [
    "The integral equation is of the following form\n",
    "\n",
    "$$\n",
    "(I+K_1+K_2\\mathfrak C) \\omega = h\n",
    "$$ where $\\mathfrak C$ is a symbol for conjugation. \n",
    "\n",
    "This can be discreticized in the the points of our choice and then seperate the real and imaginary matrix equation so that \n",
    "\n",
    "$$\n",
    "\\begin{pmatrix}\n",
    "I+\\Re(K_1+K_2) & \\Im(-K_1+K_2) \\\\\n",
    "\\Im(K_1 + K_2) & I+\\Re(K_1-K_2)\n",
    "\\end{pmatrix}\n",
    "\\begin{pmatrix}\n",
    "\\Re \\omega\\\\\n",
    "\\Im \\omega\n",
    "\\end{pmatrix} = \n",
    "\\begin{pmatrix}\n",
    "\\Re h\\\\\n",
    "\\Im h\n",
    "\\end{pmatrix}\n",
    "$$"
   ]
  },
  {
   "cell_type": "code",
   "execution_count": 8,
   "metadata": {},
   "outputs": [],
   "source": [
    "A = np.zeros((2*n,2*n))\n",
    "A[:n,:n] = np.identity(n) + (K1+K2).real\n",
    "A[:n,n:] = (-K1+K2).imag\n",
    "A[n:,:n] = (K1+K2).imag\n",
    "A[n:,n:] = np.identity(n) + (K1-K2).real"
   ]
  },
  {
   "cell_type": "code",
   "execution_count": 9,
   "metadata": {},
   "outputs": [],
   "source": [
    "rhs = np.concatenate((h1,h2))"
   ]
  },
  {
   "cell_type": "code",
   "execution_count": 10,
   "metadata": {},
   "outputs": [],
   "source": [
    "omega = np.linalg.solve(A,rhs)\n",
    "omega = omega[:n] + 1j*omega[n:]"
   ]
  },
  {
   "cell_type": "code",
   "execution_count": 11,
   "metadata": {},
   "outputs": [],
   "source": [
    "# start timing for evaluations\n",
    "t2 = time()"
   ]
  },
  {
   "cell_type": "code",
   "execution_count": 12,
   "metadata": {},
   "outputs": [],
   "source": [
    "def evaluation(z):\n",
    "    \n",
    "    t_z = t-z\n",
    "    t_z_sq = t_z**2\n",
    "    c = h/(pi2i)\n",
    "    omega_times_dt = omega*t_dt\n",
    "    \n",
    "    phi = c*np.sum(omega_times_dt/t_z)\n",
    "    d_phi = c*np.sum(omega_times_dt/(t_z_sq))\n",
    "    \n",
    "    psi = c*(\n",
    "        2*np.sum((np.conjugate(t_dt)*omega).real/t_z)\n",
    "        -np.sum(np.conjugate(t)*omega_times_dt/t_z_sq))\n",
    "    \n",
    "    dW = phi + z*np.conjugate(d_phi) + np.conjugate(psi)\n",
    "    \n",
    "    return dW"
   ]
  },
  {
   "cell_type": "code",
   "execution_count": 23,
   "metadata": {},
   "outputs": [],
   "source": [
    "def evaluation_(z):\n",
    "    \n",
    "    omega = np.ones(1)\n",
    "    \n",
    "    t_z = t-z\n",
    "    t_z_sq = t_z**2\n",
    "    c = h/(pi2i)\n",
    "    omega_times_dt = omega*t_dt\n",
    "    \n",
    "    phi = c*np.sum(omega_times_dt/t_z)\n",
    "    d_phi = c*np.sum(omega_times_dt/(t_z_sq))\n",
    "    \n",
    "    psi = c*(\n",
    "        2*np.sum((np.conjugate(t_dt)*omega).real/t_z)\n",
    "        -np.sum(np.conjugate(t)*omega_times_dt/t_z_sq))\n",
    "    \n",
    "    dW = phi + z*np.conjugate(d_phi) + np.conjugate(psi)\n",
    "    \n",
    "    return dW"
   ]
  },
  {
   "cell_type": "code",
   "execution_count": 13,
   "metadata": {},
   "outputs": [],
   "source": [
    "grid_density = 100\n",
    "radius = 0.95 \n",
    "# evaluations close to radius 1 would result in catastrophic errors, therefore I will evaluate for a radius a bit smaller than 1\n",
    "circle_grid = np.array([(x,y) for x in np.linspace(-1,1,grid_density) for y in np.linspace(-1,1,grid_density) if x**2 + y**2 <= radius**2])"
   ]
  },
  {
   "cell_type": "code",
   "execution_count": 14,
   "metadata": {},
   "outputs": [],
   "source": [
    "circle_grid_X, circle_grid_Y = circle_grid.T\n",
    "circle_grid_z = circle_grid_X + 1j*circle_grid_Y"
   ]
  },
  {
   "cell_type": "code",
   "execution_count": 15,
   "metadata": {},
   "outputs": [],
   "source": [
    "circle_grid_values = np.array([evaluation(z) for z in circle_grid_z])"
   ]
  },
  {
   "cell_type": "code",
   "execution_count": 16,
   "metadata": {},
   "outputs": [],
   "source": [
    "true_values = 1j*np.array([1-y**2 for x,y in circle_grid])"
   ]
  },
  {
   "cell_type": "code",
   "execution_count": 17,
   "metadata": {},
   "outputs": [],
   "source": [
    "# computation ended\n",
    "t3 = time()"
   ]
  },
  {
   "cell_type": "markdown",
   "metadata": {},
   "source": [
    "# performance\n"
   ]
  },
  {
   "cell_type": "code",
   "execution_count": 18,
   "metadata": {},
   "outputs": [
    {
     "name": "stdout",
     "output_type": "stream",
     "text": [
      "condition number of the matrix\n"
     ]
    },
    {
     "data": {
      "text/plain": [
       "2003.006010022094"
      ]
     },
     "execution_count": 18,
     "metadata": {},
     "output_type": "execute_result"
    }
   ],
   "source": [
    "print('condition number of the matrix')\n",
    "np.linalg.cond(A)"
   ]
  },
  {
   "cell_type": "code",
   "execution_count": 22,
   "metadata": {},
   "outputs": [
    {
     "data": {
      "text/plain": [
       "(-1.2212144033224305e-17+0.7740936381285033j)"
      ]
     },
     "execution_count": 22,
     "metadata": {},
     "output_type": "execute_result"
    }
   ],
   "source": [
    "np.mean(circle_grid_values)"
   ]
  },
  {
   "cell_type": "code",
   "execution_count": 19,
   "metadata": {},
   "outputs": [],
   "source": [
    "error = (np.abs(circle_grid_values - true_values))\n",
    "relative_error = error/np.abs(true_values)"
   ]
  },
  {
   "cell_type": "code",
   "execution_count": 39,
   "metadata": {},
   "outputs": [
    {
     "name": "stdout",
     "output_type": "stream",
     "text": [
      "relative error for velocity: mean and max\n"
     ]
    },
    {
     "data": {
      "text/plain": [
       "(0.00033730376064598376, 0.00012302276458277223)"
      ]
     },
     "execution_count": 39,
     "metadata": {},
     "output_type": "execute_result"
    }
   ],
   "source": [
    "print('relative error for velocity: mean and max')\n",
    "np.max(error), np.mean(error)"
   ]
  },
  {
   "cell_type": "code",
   "execution_count": 40,
   "metadata": {},
   "outputs": [
    {
     "name": "stdout",
     "output_type": "stream",
     "text": [
      "relative error for velocity: mean and max\n"
     ]
    },
    {
     "data": {
      "text/plain": [
       "(0.002656493163354959, 0.00020666114319948202)"
      ]
     },
     "execution_count": 40,
     "metadata": {},
     "output_type": "execute_result"
    }
   ],
   "source": [
    "print('relative error for velocity: mean and max')\n",
    "np.max(relative_error), np.mean(relative_error)"
   ]
  },
  {
   "cell_type": "code",
   "execution_count": 42,
   "metadata": {},
   "outputs": [
    {
     "name": "stdout",
     "output_type": "stream",
     "text": [
      "total time consumed\n"
     ]
    },
    {
     "data": {
      "text/plain": [
       "0.2983982563018799"
      ]
     },
     "execution_count": 42,
     "metadata": {},
     "output_type": "execute_result"
    }
   ],
   "source": [
    "print('total time consumed')\n",
    "t3-t2"
   ]
  },
  {
   "cell_type": "code",
   "execution_count": 43,
   "metadata": {},
   "outputs": [
    {
     "name": "stdout",
     "output_type": "stream",
     "text": [
      "time for building the solver over  1000  boundary points\n"
     ]
    },
    {
     "data": {
      "text/plain": [
       "0.23461461067199707"
      ]
     },
     "execution_count": 43,
     "metadata": {},
     "output_type": "execute_result"
    }
   ],
   "source": [
    "print('time for building the solver over ',n,' boundary points')\n",
    "t2-t1"
   ]
  },
  {
   "cell_type": "code",
   "execution_count": 44,
   "metadata": {},
   "outputs": [
    {
     "name": "stdout",
     "output_type": "stream",
     "text": [
      "time for evaluating the solver over  6956  interior points\n"
     ]
    },
    {
     "data": {
      "text/plain": [
       "0.2983982563018799"
      ]
     },
     "execution_count": 44,
     "metadata": {},
     "output_type": "execute_result"
    }
   ],
   "source": [
    "print('time for evaluating the solver over ',len(circle_grid_z),' interior points')\n",
    "t3-t2"
   ]
  }
 ],
 "metadata": {
  "kernelspec": {
   "display_name": "Python 3.8.13 ('bim')",
   "language": "python",
   "name": "python3"
  },
  "language_info": {
   "codemirror_mode": {
    "name": "ipython",
    "version": 3
   },
   "file_extension": ".py",
   "mimetype": "text/x-python",
   "name": "python",
   "nbconvert_exporter": "python",
   "pygments_lexer": "ipython3",
   "version": "3.8.13"
  },
  "orig_nbformat": 4,
  "vscode": {
   "interpreter": {
    "hash": "c63784d83960d2c89cfe6fb5ec298e84c6499521dac7c7c8fd1fc1b7e373202c"
   }
  }
 },
 "nbformat": 4,
 "nbformat_minor": 2
}
