{
 "cells": [
  {
   "cell_type": "code",
   "execution_count": 1,
   "metadata": {},
   "outputs": [],
   "source": [
    "import numpy as np\n",
    "from matplotlib.path import Path\n",
    "from matplotlib import pyplot as plt\n",
    "import pickle\n",
    "\n",
    "import sys\n",
    "sys.path.insert(0,'../src/')\n",
    "\n",
    "from utils import *\n",
    "from pipe import *\n",
    "from pipe_system import PipeSystem\n",
    "from abstract_pipe import *\n",
    "from pipe_system.let_index import LetIndex\n",
    "from multiply_connected_pipe import MultiplyConnectedPipeFromPipeSystem"
   ]
  },
  {
   "cell_type": "code",
   "execution_count": 2,
   "metadata": {},
   "outputs": [],
   "source": [
    "with open('../exp1/dev_Pipes.pickle','rb') as f:\n",
    "    pipes, shifts = pickle.load(f)"
   ]
  },
  {
   "cell_type": "code",
   "execution_count": null,
   "metadata": {},
   "outputs": [],
   "source": [
    "with open('./dev_global_pipe.pickle','rb') as f:\n",
    "    global_pipe = pickle.load(f)"
   ]
  },
  {
   "cell_type": "markdown",
   "metadata": {},
   "source": [
    "# read the fields, compare numerical errors, etc. "
   ]
  },
  {
   "cell_type": "code",
   "execution_count": null,
   "metadata": {},
   "outputs": [],
   "source": []
  }
 ],
 "metadata": {
  "kernelspec": {
   "display_name": "Python 3.10.6 ('bim')",
   "language": "python",
   "name": "python3"
  },
  "language_info": {
   "codemirror_mode": {
    "name": "ipython",
    "version": 3
   },
   "file_extension": ".py",
   "mimetype": "text/x-python",
   "name": "python",
   "nbconvert_exporter": "python",
   "pygments_lexer": "ipython3",
   "version": "3.10.6"
  },
  "orig_nbformat": 4,
  "vscode": {
   "interpreter": {
    "hash": "29aee36ec6e9df753698de62f9f369044b18644ec1292ce439a22755d3e8f7fd"
   }
  }
 },
 "nbformat": 4,
 "nbformat_minor": 2
}
