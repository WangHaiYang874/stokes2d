{
 "cells": [
  {
   "cell_type": "code",
   "execution_count": 1,
   "metadata": {},
   "outputs": [],
   "source": [
    "import sys\n",
    "sys.path.insert(0,'../src/')\n",
    "from curve import *\n",
    "from utils import *\n",
    "import numpy as np\n",
    "from multiply_connected_pipe import *\n",
    "import pickle\n",
    "from matplotlib import pyplot as plt"
   ]
  },
  {
   "cell_type": "code",
   "execution_count": 2,
   "metadata": {},
   "outputs": [],
   "source": [
    "corner_size = 1"
   ]
  },
  {
   "cell_type": "code",
   "execution_count": 3,
   "metadata": {},
   "outputs": [],
   "source": [
    "def merging2pipe(pipes):\n",
    "    curves = []\n",
    "    for pipe in pipes:\n",
    "        curves += pipe.curves\n",
    "    i = 0\n",
    "    while i < len(curves):\n",
    "        if not isinstance(curves[i], Cap):\n",
    "            i += 1\n",
    "            continue\n",
    "        for j in range(i+1,len(curves)):\n",
    "            if not isinstance(curves[j], Cap):\n",
    "                continue\n",
    "            if np.linalg.norm(curves[i].matching_pt - curves[j].matching_pt) < 1e-8:\n",
    "                curves.pop(j)\n",
    "                curves.pop(i)\n",
    "                break\n",
    "        i += 1\n",
    "    curves = [c.clean_copy() for c in curves]\n",
    "    return MultiplyConnectedPipeFromCurves(curves)\n",
    "\n",
    "def transformed(pipe,shift):\n",
    "    curves = [c.transformed(shift) for c in pipe.curves]\n",
    "    return MultiplyConnectedPipeFromCurves(curves)\n",
    "\n",
    "def plyg_bdr(pipe):\n",
    "    pts = []\n",
    "    for c in pipe.exterior_boundary.curves:\n",
    "        pts += [c.start_pt]\n",
    "        if isinstance(c, Corner):\n",
    "            pts += [c.mid_pt]\n",
    "    return np.array(pts + [pts[0]]).T\n"
   ]
  },
  {
   "cell_type": "code",
   "execution_count": 4,
   "metadata": {},
   "outputs": [
    {
     "data": {
      "text/plain": [
       "[<matplotlib.lines.Line2D at 0x14edc3bb0>]"
      ]
     },
     "execution_count": 4,
     "metadata": {},
     "output_type": "execute_result"
    },
    {
     "data": {
      "image/png": "[encoded data removed]",
      "text/plain": [
       "<Figure size 432x288 with 1 Axes>"
      ]
     },
     "metadata": {
      "needs_background": "light"
     },
     "output_type": "display_data"
    }
   ],
   "source": [
    "l1 = pt(-5,0)\n",
    "l2 = pt(1,-1)\n",
    "l3 = pt(1,1)\n",
    "ls = np.array([l1,l2,l3])\n",
    "rs = np.array([0.5,0.5,0.5])\n",
    "pipe1 = NLets(ls,rs,corner_size=corner_size)\n",
    "shift1 = np.array([0,0])\n",
    "\n",
    "ls2 = np.array([pt(8,0),-l2])\n",
    "rs2 = np.array([0.5,0.5])\n",
    "pipe2 = NLets(ls2,rs2,corner_size=corner_size)\n",
    "shift2 = 2*l2\n",
    "pipe2 = transformed(pipe2,shift2)\n",
    "\n",
    "ls3 = np.array([-l3,pt(8,0)])\n",
    "rs3 = np.array([0.5,0.5])\n",
    "pipe3 = NLets(ls3,rs3,corner_size=corner_size)\n",
    "shift3 = 2*l3\n",
    "pipe3 = transformed(pipe3,shift3)\n",
    "\n",
    "pipe1 = merging2pipe([pipe1,pipe2,pipe3])\n",
    "\n",
    "fig, ax = plt.subplots()\n",
    "ax.set_aspect('equal')\n",
    "ax.plot(*(plyg_bdr(pipe1)))"
   ]
  },
  {
   "cell_type": "code",
   "execution_count": 5,
   "metadata": {},
   "outputs": [],
   "source": [
    "pipe4  = NLets(np.array([pt(-8,0), pt(1,1)]), np.array([0.5,0.5]),corner_size=corner_size)\n",
    "pipe5  = NLets(np.array([pt(-8,0), pt(1,-1)]), np.array([0.5,0.5]),corner_size=corner_size)\n",
    "pipe6 = NLets(np.array([[-1,-1],[5,0],[-1,1]]), np.array([0.5,0.5,0.5]),corner_size=corner_size)\n",
    "\n",
    "shift4 = pt(-2,-2)\n",
    "shift5 = pt(-2,2)\n",
    "shift6 = pt(0,0)\n",
    "\n",
    "pipe4 = transformed(pipe4,shift4)\n",
    "pipe5 = transformed(pipe5,shift5)\n",
    "pipe6 = transformed(pipe6,shift6)\n",
    "\n",
    "pipe2 = merging2pipe([pipe4,pipe5,pipe6])"
   ]
  },
  {
   "cell_type": "code",
   "execution_count": 6,
   "metadata": {},
   "outputs": [
    {
     "data": {
      "text/plain": [
       "[<matplotlib.lines.Line2D at 0x14eef5c90>]"
      ]
     },
     "execution_count": 6,
     "metadata": {},
     "output_type": "execute_result"
    },
    {
     "data": {
      "image/png": "[encoded data removed]",
      "text/plain": [
       "<Figure size 432x288 with 1 Axes>"
      ]
     },
     "metadata": {
      "needs_background": "light"
     },
     "output_type": "display_data"
    }
   ],
   "source": [
    "fig, ax = plt.subplots()\n",
    "ax.set_aspect('equal')\n",
    "shift1 = pt(-10,0)\n",
    "shift2 = pt(10,0)\n",
    "plt.plot(*(plyg_bdr(pipe1)+shift1[:,np.newaxis]))\n",
    "plt.plot(*(plyg_bdr(pipe2)+shift2[:,np.newaxis]))"
   ]
  },
  {
   "cell_type": "code",
   "execution_count": 13,
   "metadata": {},
   "outputs": [],
   "source": [
    "pipe1 = transformed(pipe1,shift1)\n",
    "pipe2 = transformed(pipe2,shift2)"
   ]
  },
  {
   "cell_type": "code",
   "execution_count": 14,
   "metadata": {},
   "outputs": [
    {
     "data": {
      "text/plain": [
       "[<matplotlib.lines.Line2D at 0x14f139ff0>]"
      ]
     },
     "execution_count": 14,
     "metadata": {},
     "output_type": "execute_result"
    },
    {
     "data": {
      "image/png": "[encoded data removed]",
      "text/plain": [
       "<Figure size 432x288 with 1 Axes>"
      ]
     },
     "metadata": {
      "needs_background": "light"
     },
     "output_type": "display_data"
    }
   ],
   "source": [
    "fig, ax = plt.subplots()\n",
    "ax.set_aspect('equal')\n",
    "plt.plot(*(plyg_bdr(pipe1)))\n",
    "plt.plot(*(plyg_bdr(pipe2)))"
   ]
  },
  {
   "cell_type": "code",
   "execution_count": 15,
   "metadata": {},
   "outputs": [],
   "source": [
    "pipes = [pipe1,pipe2]"
   ]
  },
  {
   "cell_type": "code",
   "execution_count": 16,
   "metadata": {},
   "outputs": [],
   "source": [
    "with open('local_pipes.pickle','wb') as f:\n",
    "    pickle.dump(pipes,f)"
   ]
  },
  {
   "cell_type": "code",
   "execution_count": 17,
   "metadata": {},
   "outputs": [],
   "source": [
    "global_pipe = merging2pipe(pipes)"
   ]
  },
  {
   "cell_type": "code",
   "execution_count": 19,
   "metadata": {},
   "outputs": [],
   "source": [
    "with open('global_pipe.pickle','wb') as f:\n",
    "    pickle.dump(global_pipe,f)"
   ]
  },
  {
   "cell_type": "code",
   "execution_count": null,
   "metadata": {},
   "outputs": [],
   "source": []
  }
 ],
 "metadata": {
  "kernelspec": {
   "display_name": "Python 3.10.5 ('bim')",
   "language": "python",
   "name": "python3"
  },
  "language_info": {
   "codemirror_mode": {
    "name": "ipython",
    "version": 3
   },
   "file_extension": ".py",
   "mimetype": "text/x-python",
   "name": "python",
   "nbconvert_exporter": "python",
   "pygments_lexer": "ipython3",
   "version": "3.10.5"
  },
  "orig_nbformat": 4,
  "vscode": {
   "interpreter": {
    "hash": "c63784d83960d2c89cfe6fb5ec298e84c6499521dac7c7c8fd1fc1b7e373202c"
   }
  }
 },
 "nbformat": 4,
 "nbformat_minor": 2
}
