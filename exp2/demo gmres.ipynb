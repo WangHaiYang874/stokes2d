{
 "cells": [
  {
   "cell_type": "code",
   "execution_count": 1,
   "metadata": {},
   "outputs": [],
   "source": [
    "import sys\n",
    "sys.path.insert(0,'../src/')\n",
    "\n",
    "from utils import *\n",
    "from multiply_connected_pipe import *\n",
    "\n",
    "from matplotlib import pyplot as plt\n",
    "import numpy as np\n",
    "import pickle"
   ]
  },
  {
   "cell_type": "code",
   "execution_count": 3,
   "metadata": {},
   "outputs": [],
   "source": [
    "with open('global_pipe_dense_solve.pickle','rb') as f:\n",
    "    dense_solve = pickle.load(f)\n",
    "with open('global_pipe_fmm_solve.pickle','rb') as f:\n",
    "    fmm_solve = pickle.load(f)"
   ]
  },
  {
   "cell_type": "code",
   "execution_count": 4,
   "metadata": {},
   "outputs": [],
   "source": [
    "b = dense_solve.boundary_value(0)\n",
    "b = np.concatenate([b.real,b.imag])\n",
    "omega_fmm = fmm_solve.omegas[0]\n",
    "omega_fmm_sep = np.concatenate([omega_fmm.real,omega_fmm.imag])\n",
    "omega_dense = dense_solve.omegas[0]\n",
    "omega_dense_sep = np.concatenate([omega_dense.real,omega_dense.imag])"
   ]
  },
  {
   "cell_type": "code",
   "execution_count": 5,
   "metadata": {},
   "outputs": [],
   "source": [
    "dense_residual = (dense_solve.mat_vec(omega_dense_sep) - b)\n",
    "fmm_residual = (fmm_solve.mat_vec(omega_fmm_sep) - b)"
   ]
  },
  {
   "cell_type": "code",
   "execution_count": 6,
   "metadata": {},
   "outputs": [
    {
     "data": {
      "text/plain": [
       "array([-4.96047647e-12, -4.91562346e-12, -4.66648942e-12, ...,\n",
       "       -3.89377419e-12, -6.62225830e-12, -4.74642547e-12])"
      ]
     },
     "execution_count": 6,
     "metadata": {},
     "output_type": "execute_result"
    }
   ],
   "source": [
    "dense_residual"
   ]
  },
  {
   "cell_type": "code",
   "execution_count": 7,
   "metadata": {},
   "outputs": [
    {
     "data": {
      "text/plain": [
       "array([ 6.40820730e-13,  1.75726100e-12,  7.74047493e-13, ...,\n",
       "       -2.61479727e-12, -2.64321898e-12, -4.17799129e-12])"
      ]
     },
     "execution_count": 7,
     "metadata": {},
     "output_type": "execute_result"
    }
   ],
   "source": [
    "fmm_residual"
   ]
  },
  {
   "cell_type": "code",
   "execution_count": 8,
   "metadata": {},
   "outputs": [
    {
     "data": {
      "text/plain": [
       "2.793920997643297e-12"
      ]
     },
     "execution_count": 8,
     "metadata": {},
     "output_type": "execute_result"
    }
   ],
   "source": [
    "np.linalg.norm(dense_solve.mat_vec(omega_dense_sep) - fmm_solve.mat_vec(omega_dense_sep)) / np.linalg.norm(b)"
   ]
  },
  {
   "cell_type": "code",
   "execution_count": 9,
   "metadata": {},
   "outputs": [
    {
     "data": {
      "text/plain": [
       "8.836057940310945e-12"
      ]
     },
     "execution_count": 9,
     "metadata": {},
     "output_type": "execute_result"
    }
   ],
   "source": [
    "np.linalg.norm(dense_residual) / np.linalg.norm(b)"
   ]
  },
  {
   "cell_type": "code",
   "execution_count": 10,
   "metadata": {},
   "outputs": [
    {
     "data": {
      "text/plain": [
       "4.655111351886207e-12"
      ]
     },
     "execution_count": 10,
     "metadata": {},
     "output_type": "execute_result"
    }
   ],
   "source": [
    "np.linalg.norm(fmm_residual) / np.linalg.norm(b)"
   ]
  },
  {
   "cell_type": "code",
   "execution_count": 11,
   "metadata": {},
   "outputs": [
    {
     "data": {
      "text/plain": [
       "1.0438460031783665e-11"
      ]
     },
     "execution_count": 11,
     "metadata": {},
     "output_type": "execute_result"
    }
   ],
   "source": [
    "np.linalg.norm(fmm_residual - dense_residual) / np.linalg.norm(b)"
   ]
  },
  {
   "cell_type": "code",
   "execution_count": 13,
   "metadata": {},
   "outputs": [
    {
     "name": "stdout",
     "output_type": "stream",
     "text": [
      "\n"
     ]
    },
    {
     "data": {
      "image/png": "[encoded data removed]",
      "text/plain": [
       "<Figure size 432x288 with 1 Axes>"
      ]
     },
     "metadata": {
      "needs_background": "light"
     },
     "output_type": "display_data"
    }
   ],
   "source": [
    "for callback in dense_solve.callbacks:\n",
    "    plt.semilogy(np.arange(len(callback.residuals)), callback.residuals,label='dense solve')\n",
    "for callback in fmm_solve.callbacks:\n",
    "    plt.semilogy(np.arange(len(callback.residuals)), callback.residuals,label='fmm solve')\n",
    "\n",
    "# for i in np.arange(0,1200,RESTART):\n",
    "#     plt.axvline(i)\n",
    "plt.legend()\n",
    "plt.xlabel('gmres iterations')\n",
    "plt.ylabel('relative residual')\n",
    "print()"
   ]
  }
 ],
 "metadata": {
  "kernelspec": {
   "display_name": "Python 3.10.5 ('bim')",
   "language": "python",
   "name": "python3"
  },
  "language_info": {
   "codemirror_mode": {
    "name": "ipython",
    "version": 3
   },
   "file_extension": ".py",
   "mimetype": "text/x-python",
   "name": "python",
   "nbconvert_exporter": "python",
   "pygments_lexer": "ipython3",
   "version": "3.10.5"
  },
  "orig_nbformat": 4,
  "vscode": {
   "interpreter": {
    "hash": "c63784d83960d2c89cfe6fb5ec298e84c6499521dac7c7c8fd1fc1b7e373202c"
   }
  }
 },
 "nbformat": 4,
 "nbformat_minor": 2
}
