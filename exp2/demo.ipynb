{
 "cells": [
  {
   "cell_type": "code",
   "execution_count": 2,
   "metadata": {},
   "outputs": [],
   "source": [
    "import sys\n",
    "sys.path.insert(0,'../src/')\n",
    "\n",
    "from utils import *\n",
    "from multiply_connected_pipe import *\n",
    "from pipe_system import PipeSystem\n",
    "from abstract_pipe import *\n",
    "from multiply_connected_pipe import MultiplyConnectedPipeFromPipeSystem\n",
    "\n",
    "import numpy as np\n",
    "import pickle"
   ]
  },
  {
   "cell_type": "code",
   "execution_count": 3,
   "metadata": {},
   "outputs": [],
   "source": [
    "with open('../exp1/pipes_and_shifts.pickle','rb') as f:\n",
    "    pipes, shifts = pickle.load(f)\n",
    "\n",
    "bdr_pipe = BoundaryPipe([BoundaryLet(-5,0,0,1,-1),BoundaryLet(31,0,np.pi,1,1)])\n",
    "real_pipes = [RealPipe(p,shift_x=shift[0],shift_y=shift[1]) for p,shift in zip(pipes,shifts)]"
   ]
  },
  {
   "cell_type": "code",
   "execution_count": 4,
   "metadata": {},
   "outputs": [],
   "source": [
    "ps = PipeSystem(real_pipes,bdr_pipe)"
   ]
  },
  {
   "cell_type": "markdown",
   "metadata": {},
   "source": [
    "**there should be a better way to form pipe system**"
   ]
  },
  {
   "cell_type": "code",
   "execution_count": 5,
   "metadata": {},
   "outputs": [
    {
     "ename": "AttributeError",
     "evalue": "'NLets' object has no attribute 'curves'",
     "output_type": "error",
     "traceback": [
      "\u001b[0;31m---------------------------------------------------------------------------\u001b[0m",
      "\u001b[0;31mAttributeError\u001b[0m                            Traceback (most recent call last)",
      "\u001b[1;32m/home/haiy/proj/stokes2d/exp2/demo.ipynb Cell 4\u001b[0m in \u001b[0;36m<cell line: 1>\u001b[0;34m()\u001b[0m\n\u001b[0;32m----> <a href='vscode-notebook-cell://wsl%2Bubuntu-20.04/home/haiy/proj/stokes2d/exp2/demo.ipynb#W6sdnNjb2RlLXJlbW90ZQ%3D%3D?line=0'>1</a>\u001b[0m global_pipe \u001b[39m=\u001b[39m MultiplyConnectedPipeFromPipeSystem(ps)\n",
      "File \u001b[0;32m~/proj/stokes2d/exp2/../src/multiply_connected_pipe/multiply_connected_pipe_from_pipe_system.py:23\u001b[0m, in \u001b[0;36mMultiplyConnectedPipeFromPipeSystem.__init__\u001b[0;34m(self, pipe_sys)\u001b[0m\n\u001b[1;32m     20\u001b[0m pipe \u001b[39m=\u001b[39m pipe\u001b[39m.\u001b[39mprototye\n\u001b[1;32m     21\u001b[0m c_index2l_index \u001b[39m=\u001b[39m {c:l \u001b[39mfor\u001b[39;00m l,c \u001b[39min\u001b[39;00m \u001b[39menumerate\u001b[39m(pipe\u001b[39m.\u001b[39mlet_index2curve_index)}\n\u001b[0;32m---> 23\u001b[0m \u001b[39mfor\u001b[39;00m curve_index, curve \u001b[39min\u001b[39;00m \u001b[39menumerate\u001b[39m(pipe\u001b[39m.\u001b[39;49mcurves):\n\u001b[1;32m     25\u001b[0m     \u001b[39mif\u001b[39;00m \u001b[39misinstance\u001b[39m(curve, Cap):\n\u001b[1;32m     26\u001b[0m         let_index \u001b[39m=\u001b[39m c_index2l_index[curve_index]\n",
      "\u001b[0;31mAttributeError\u001b[0m: 'NLets' object has no attribute 'curves'"
     ]
    }
   ],
   "source": [
    "global_pipe = MultiplyConnectedPipeFromPipeSystem(ps)"
   ]
  },
  {
   "cell_type": "markdown",
   "metadata": {},
   "source": [
    "this is correct. "
   ]
  }
 ],
 "metadata": {
  "kernelspec": {
   "display_name": "Python 3.10.6 ('bim')",
   "language": "python",
   "name": "python3"
  },
  "language_info": {
   "codemirror_mode": {
    "name": "ipython",
    "version": 3
   },
   "file_extension": ".py",
   "mimetype": "text/x-python",
   "name": "python",
   "nbconvert_exporter": "python",
   "pygments_lexer": "ipython3",
   "version": "3.10.6"
  },
  "orig_nbformat": 4,
  "vscode": {
   "interpreter": {
    "hash": "29aee36ec6e9df753698de62f9f369044b18644ec1292ce439a22755d3e8f7fd"
   }
  }
 },
 "nbformat": 4,
 "nbformat_minor": 2
}
