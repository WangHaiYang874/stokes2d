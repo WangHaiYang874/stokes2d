{
 "cells": [
  {
   "cell_type": "code",
   "execution_count": 1,
   "metadata": {},
   "outputs": [],
   "source": [
    "import sys\n",
    "sys.path.insert(0,'../src/')\n",
    "\n",
    "from utils import *\n",
    "from multiply_connected_pipe import *\n",
    "from pipe_system import PipeSystem\n",
    "from abstract_pipe import *\n",
    "from multiply_connected_pipe import MultiplyConnectedPipeFromPipeSystem\n",
    "\n",
    "from matplotlib import pyplot as plt\n",
    "import numpy as np\n",
    "import pickle"
   ]
  },
  {
   "cell_type": "code",
   "execution_count": 2,
   "metadata": {},
   "outputs": [],
   "source": [
    "with open('../exp1/pipes_and_shifts.pickle','rb') as f:\n",
    "    pipes, shifts = pickle.load(f)\n",
    "\n",
    "bdr_pipe = BoundaryPipe([BoundaryLet(-5,0,0,1,-1),BoundaryLet(31,0,np.pi,1,1)])\n",
    "real_pipes = [RealPipe(p,shift_x=shift[0],shift_y=shift[1]) for p,shift in zip(pipes,shifts)]"
   ]
  },
  {
   "cell_type": "code",
   "execution_count": 3,
   "metadata": {},
   "outputs": [],
   "source": [
    "ps = PipeSystem(real_pipes,bdr_pipe)"
   ]
  },
  {
   "cell_type": "code",
   "execution_count": 4,
   "metadata": {},
   "outputs": [],
   "source": [
    "global_pipe = MultiplyConnectedPipeFromPipeSystem(ps)"
   ]
  },
  {
   "cell_type": "code",
   "execution_count": 10,
   "metadata": {},
   "outputs": [],
   "source": [
    "global_pipe.build()"
   ]
  },
  {
   "cell_type": "code",
   "execution_count": 11,
   "metadata": {},
   "outputs": [
    {
     "data": {
      "text/plain": [
       "<matplotlib.lines.Line2D at 0x128594610>"
      ]
     },
     "execution_count": 11,
     "metadata": {},
     "output_type": "execute_result"
    },
    {
     "data": {
      "image/png": "[encoded data removed]",
      "text/plain": [
       "<Figure size 432x288 with 2 Axes>"
      ]
     },
     "metadata": {
      "needs_background": "light"
     },
     "output_type": "display_data"
    }
   ],
   "source": [
    "plt.scatter(global_pipe.t.real , global_pipe.t.imag,s=1)\n",
    "plt.colorbar()\n",
    "plt.axhline(6)"
   ]
  },
  {
   "cell_type": "code",
   "execution_count": 14,
   "metadata": {},
   "outputs": [
    {
     "ename": "IndexError",
     "evalue": "invalid index to scalar variable.",
     "output_type": "error",
     "traceback": [
      "\u001b[0;31m---------------------------------------------------------------------------\u001b[0m",
      "\u001b[0;31mIndexError\u001b[0m                                Traceback (most recent call last)",
      "\u001b[1;32m/Users/haiy/proj/stokes2d/exp2/demo.ipynb Cell 7\u001b[0m in \u001b[0;36m<cell line: 3>\u001b[0;34m()\u001b[0m\n\u001b[1;32m      <a href='vscode-notebook-cell:/Users/haiy/proj/stokes2d/exp2/demo.ipynb#X36sZmlsZQ%3D%3D?line=0'>1</a>\u001b[0m x \u001b[39m=\u001b[39m np\u001b[39m.\u001b[39marray([\u001b[39m-\u001b[39m\u001b[39m3\u001b[39m,\u001b[39m15\u001b[39m])\n\u001b[1;32m      <a href='vscode-notebook-cell:/Users/haiy/proj/stokes2d/exp2/demo.ipynb#X36sZmlsZQ%3D%3D?line=1'>2</a>\u001b[0m y \u001b[39m=\u001b[39m np\u001b[39m.\u001b[39marray([\u001b[39m0\u001b[39m,\u001b[39m6\u001b[39m])\n\u001b[0;32m----> <a href='vscode-notebook-cell:/Users/haiy/proj/stokes2d/exp2/demo.ipynb#X36sZmlsZQ%3D%3D?line=2'>3</a>\u001b[0m global_pipe\u001b[39m.\u001b[39;49mvelocity(x,y, omega\u001b[39m=\u001b[39;49mglobal_pipe\u001b[39m.\u001b[39;49momegas[\u001b[39m0\u001b[39;49m])\n",
      "File \u001b[0;32m~/proj/stokes2d/exp2/../src/multiply_connected_pipe/multiply_connected_pipe.py:162\u001b[0m, in \u001b[0;36mMultiplyConnectedPipe.velocity\u001b[0;34m(self, x, y, omega)\u001b[0m\n\u001b[1;32m    161\u001b[0m \u001b[39mdef\u001b[39;00m \u001b[39mvelocity\u001b[39m(\u001b[39mself\u001b[39m, x, y, omega:np\u001b[39m.\u001b[39mndarray):\n\u001b[0;32m--> 162\u001b[0m     \u001b[39mreturn\u001b[39;00m H2U(\u001b[39mself\u001b[39;49m\u001b[39m.\u001b[39;49mmat_vec\u001b[39m.\u001b[39;49mvelocity(x, y, omega))\n",
      "File \u001b[0;32m~/proj/stokes2d/exp2/../src/mat_vec/dense_mat.py:64\u001b[0m, in \u001b[0;36mDenseMat.velocity\u001b[0;34m(self, x, y, omega)\u001b[0m\n\u001b[1;32m     61\u001b[0m singular_terms \u001b[39m=\u001b[39m np\u001b[39m.\u001b[39mzeros_like(non_singular_term, dtype\u001b[39m=\u001b[39mnp\u001b[39m.\u001b[39mcomplex128)\n\u001b[1;32m     62\u001b[0m z \u001b[39m=\u001b[39m x \u001b[39m+\u001b[39m \u001b[39m1\u001b[39mj\u001b[39m*\u001b[39my\n\u001b[0;32m---> 64\u001b[0m \u001b[39mfor\u001b[39;00m Ck, zk, bk \u001b[39min\u001b[39;00m \u001b[39mzip\u001b[39m(\u001b[39mself\u001b[39m\u001b[39m.\u001b[39mCk(omega), \u001b[39mself\u001b[39m\u001b[39m.\u001b[39mzk, \u001b[39mself\u001b[39;49m\u001b[39m.\u001b[39;49mbk(omega)):\n\u001b[1;32m     66\u001b[0m     phi_singular \u001b[39m=\u001b[39m Ck \u001b[39m*\u001b[39m np\u001b[39m.\u001b[39mlog(z\u001b[39m-\u001b[39mzk)\n\u001b[1;32m     67\u001b[0m     d_phi_singular \u001b[39m=\u001b[39m Ck\u001b[39m/\u001b[39m(z\u001b[39m-\u001b[39mzk)\n",
      "File \u001b[0;32m~/proj/stokes2d/exp2/../src/mat_vec/mat_vec.py:30\u001b[0m, in \u001b[0;36mMatVec.bk\u001b[0;34m(self, omega)\u001b[0m\n\u001b[1;32m     28\u001b[0m \u001b[39mdef\u001b[39;00m \u001b[39mbk\u001b[39m(\u001b[39mself\u001b[39m,omega):\n\u001b[1;32m     29\u001b[0m     arr \u001b[39m=\u001b[39m \u001b[39m-\u001b[39m\u001b[39m2\u001b[39m\u001b[39m*\u001b[39mnp\u001b[39m.\u001b[39msum((omega\u001b[39m*\u001b[39mnp\u001b[39m.\u001b[39mconj(\u001b[39mself\u001b[39m\u001b[39m.\u001b[39mdt))\u001b[39m.\u001b[39mimag)\n\u001b[0;32m---> 30\u001b[0m     \u001b[39mreturn\u001b[39;00m \u001b[39mself\u001b[39;49m\u001b[39m.\u001b[39;49msingular_density(arr)\n",
      "File \u001b[0;32m~/proj/stokes2d/exp2/../src/mat_vec/mat_vec.py:37\u001b[0m, in \u001b[0;36mMatVec.singular_density\u001b[0;34m(self, some_density)\u001b[0m\n\u001b[1;32m     35\u001b[0m \u001b[39mfor\u001b[39;00m m \u001b[39min\u001b[39;00m \u001b[39mrange\u001b[39m(\u001b[39mself\u001b[39m\u001b[39m.\u001b[39mn_interior_boundaries):\n\u001b[1;32m     36\u001b[0m     start, end \u001b[39m=\u001b[39m \u001b[39mself\u001b[39m\u001b[39m.\u001b[39mindices_of_interior_boundary[m]\n\u001b[0;32m---> 37\u001b[0m     ret\u001b[39m.\u001b[39mappend(np\u001b[39m.\u001b[39msum(some_density[start:end]))\n\u001b[1;32m     39\u001b[0m \u001b[39mreturn\u001b[39;00m np\u001b[39m.\u001b[39marray(ret)\n",
      "\u001b[0;31mIndexError\u001b[0m: invalid index to scalar variable."
     ]
    }
   ],
   "source": [
    "x = np.array([-3,15])\n",
    "y = np.array([0,6])\n",
    "global_pipe.velocity(x,y, omega=global_pipe.omegas[0])"
   ]
  },
  {
   "cell_type": "code",
   "execution_count": null,
   "metadata": {},
   "outputs": [],
   "source": []
  }
 ],
 "metadata": {
  "kernelspec": {
   "display_name": "Python 3.10.5 ('bim')",
   "language": "python",
   "name": "python3"
  },
  "language_info": {
   "codemirror_mode": {
    "name": "ipython",
    "version": 3
   },
   "file_extension": ".py",
   "mimetype": "text/x-python",
   "name": "python",
   "nbconvert_exporter": "python",
   "pygments_lexer": "ipython3",
   "version": "3.10.5"
  },
  "orig_nbformat": 4,
  "vscode": {
   "interpreter": {
    "hash": "c63784d83960d2c89cfe6fb5ec298e84c6499521dac7c7c8fd1fc1b7e373202c"
   }
  }
 },
 "nbformat": 4,
 "nbformat_minor": 2
}
