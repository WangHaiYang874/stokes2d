{
 "cells": [
  {
   "cell_type": "code",
   "execution_count": 4,
   "metadata": {},
   "outputs": [],
   "source": [
    "import numpy as np\n",
    "from matplotlib.path import Path\n",
    "from matplotlib import pyplot as plt\n",
    "import pickle\n",
    "\n",
    "import sys\n",
    "sys.path.insert(0,'../src/')\n",
    "\n",
    "from utils import *\n",
    "from pipe import *\n",
    "from pipe.smooth_pipe import SmoothPipe\n",
    "from curve import *"
   ]
  },
  {
   "cell_type": "code",
   "execution_count": 265,
   "metadata": {},
   "outputs": [],
   "source": [
    "class straight_pipe(SmoothPipe):\n",
    "    \n",
    "    def __init__(self, l:np.float64, d:np.float64) -> None:\n",
    "        \n",
    "        assert l > 0\n",
    "        assert d > 0\n",
    "\n",
    "        r = d/2\n",
    "        p1 = pt(0,r)\n",
    "        p2 = pt(0,-r)\n",
    "        p3 = pt(l,-r)\n",
    "        p4 = pt(l,r)\n",
    "        \n",
    "        c1 = Cap\n",
    "        c2 = Line\n",
    "        c3 = Cap\n",
    "        c4 = Line\n",
    "        \n",
    "        pts = [p1,p2,p3,p4]\n",
    "        lines = [c1,c2,c3,c4]\n",
    "        \n",
    "        super().__init__(pts, lines)\n",
    "        \n",
    "    def boundary_value(self, flow_index):\n",
    "        assert flow_index == 0\n",
    "        h = [self.velocity_with_flux_zero()]\n",
    "        for i,c in enumerate(self.curves[1:]):\n",
    "            h.append(np.zeros_like(c.a))\n",
    "        \n",
    "        return np.concatenate(h)\n",
    "        \n",
    "    def velocity_with_flux_zero(self,r=.5):\n",
    "        frequencies = np.random.uniform(1,2,4)\n",
    "        \n",
    "        t = self.curves[0].t\n",
    "        dt = self.curves[0].dt_da*self.curves[0].dt_da\n",
    "        \n",
    "        profile = np.sum(np.exp(t[:,np.newaxis]*frequencies[np.newaxis,:]*np.pi),axis=1)\n",
    "        \n",
    "        t_ends = np.array([-r*1j,r*1j])\n",
    "        value_at_ends = np.sum(np.exp(t_ends[:,np.newaxis]*frequencies[np.newaxis,:]*2*np.pi),axis=1)\n",
    "        \n",
    "        k = np.diff(value_at_ends)/np.diff(t_ends)\n",
    "        \n",
    "        b = -k*t_ends[0] + value_at_ends[0]\n",
    "        \n",
    "        profile = profile - k*t - b\n",
    "        \n",
    "        return profile\n",
    "        "
   ]
  },
  {
   "cell_type": "code",
   "execution_count": 301,
   "metadata": {},
   "outputs": [],
   "source": [
    "pipe = straight_pipe(7,1)"
   ]
  },
  {
   "cell_type": "code",
   "execution_count": 305,
   "metadata": {},
   "outputs": [],
   "source": [
    "pipe.build()"
   ]
  },
  {
   "cell_type": "code",
   "execution_count": null,
   "metadata": {},
   "outputs": [],
   "source": [
    "pipe.n_pts"
   ]
  },
  {
   "cell_type": "code",
   "execution_count": 303,
   "metadata": {},
   "outputs": [],
   "source": [
    "u,v,p,o = pipe.fields_with_fluxes(np.array([1]),0,0)\n",
    "xs = pipe.xs\n",
    "ys = pipe.ys\n",
    "interior = pipe.interior"
   ]
  },
  {
   "cell_type": "code",
   "execution_count": 304,
   "metadata": {},
   "outputs": [
    {
     "data": {
      "text/plain": [
       "<matplotlib.colorbar.Colorbar at 0x17f29fa00>"
      ]
     },
     "execution_count": 304,
     "metadata": {},
     "output_type": "execute_result"
    },
    {
     "data": {
      "image/png": "[encoded data removed]",
      "text/plain": [
       "<Figure size 432x288 with 2 Axes>"
      ]
     },
     "metadata": {
      "needs_background": "light"
     },
     "output_type": "display_data"
    }
   ],
   "source": [
    "fig,ax = plt.subplots()\n",
    "ax.set_aspect('equal')\n",
    "fig.colorbar(ax.scatter(xs,ys,c=np.log10(np.sqrt(u**2 + v**2))))"
   ]
  }
 ],
 "metadata": {
  "kernelspec": {
   "display_name": "Python 3.10.5 ('bim')",
   "language": "python",
   "name": "python3"
  },
  "language_info": {
   "codemirror_mode": {
    "name": "ipython",
    "version": 3
   },
   "file_extension": ".py",
   "mimetype": "text/x-python",
   "name": "python",
   "nbconvert_exporter": "python",
   "pygments_lexer": "ipython3",
   "version": "3.10.5"
  },
  "orig_nbformat": 4,
  "vscode": {
   "interpreter": {
    "hash": "c63784d83960d2c89cfe6fb5ec298e84c6499521dac7c7c8fd1fc1b7e373202c"
   }
  }
 },
 "nbformat": 4,
 "nbformat_minor": 2
}
