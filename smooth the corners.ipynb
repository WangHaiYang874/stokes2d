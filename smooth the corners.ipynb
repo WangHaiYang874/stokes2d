{
 "cells": [
  {
   "cell_type": "code",
   "execution_count": 2,
   "metadata": {},
   "outputs": [],
   "source": [
    "import numpy as np\n",
    "\n",
    "from matplotlib import pyplot as plt\n",
    "\n",
    "import scipy as sp\n",
    "\n",
    "from scipy.integrate import fixed_quad as quad\n",
    "\n",
    "import numbers"
   ]
  },
  {
   "cell_type": "code",
   "execution_count": 3,
   "metadata": {},
   "outputs": [],
   "source": [
    "L = 20\n",
    "R = 1\n",
    "Lcap = 1.5*R\n",
    "Lmid = L - 3*R"
   ]
  },
  {
   "cell_type": "code",
   "execution_count": 4,
   "metadata": {},
   "outputs": [],
   "source": [
    "t = np.linspace(-1,1,1000)[1:-1]"
   ]
  },
  {
   "cell_type": "code",
   "execution_count": 5,
   "metadata": {},
   "outputs": [],
   "source": [
    "a = np.array([1])"
   ]
  },
  {
   "cell_type": "code",
   "execution_count": 6,
   "metadata": {},
   "outputs": [],
   "source": [
    "def fn_psi(t):\n",
    "    if isinstance(t,numbers.Number):\n",
    "        if abs(t) >= 1: return 0\n",
    "        return ((t**2+1)*np.exp(4*t/(t**2-1)))/((t**2-1)*(1+np.exp(4*t/(t**2-1))))**2\n",
    "\n",
    "    ret = ((t**2+1)*np.exp(4*t/(t**2-1)))/((t**2-1)*(1+np.exp(4*t/(t**2-1))))**2\n",
    "    ret[abs(ret)>=1] = 0\n",
    "    return ret\n",
    "\n",
    "def fn_Psi(t):\n",
    "    if isinstance(t,numbers.Number):\n",
    "        if t >= 1: return 1/8\n",
    "        if t <= -1: return -1/8\n",
    "        return -np.tanh(-2*t/(1-t**2))/8\n",
    "    ret = -np.tanh(-2*t/(1-t**2))/8        \n",
    "    ret[t>=1] = 1/8\n",
    "    ret[t<=-1] = -1/8\n",
    "    return ret"
   ]
  },
  {
   "cell_type": "code",
   "execution_count": 7,
   "metadata": {},
   "outputs": [
    {
     "name": "stderr",
     "output_type": "stream",
     "text": [
      "/tmp/ipykernel_16845/4164235153.py:6: RuntimeWarning: overflow encountered in exp\n",
      "  ret = ((t**2+1)*np.exp(4*t/(t**2-1)))/((t**2-1)*(1+np.exp(4*t/(t**2-1))))**2\n",
      "/tmp/ipykernel_16845/4164235153.py:6: RuntimeWarning: overflow encountered in square\n",
      "  ret = ((t**2+1)*np.exp(4*t/(t**2-1)))/((t**2-1)*(1+np.exp(4*t/(t**2-1))))**2\n",
      "/tmp/ipykernel_16845/4164235153.py:6: RuntimeWarning: invalid value encountered in divide\n",
      "  ret = ((t**2+1)*np.exp(4*t/(t**2-1)))/((t**2-1)*(1+np.exp(4*t/(t**2-1))))**2\n"
     ]
    }
   ],
   "source": [
    "Psi = fn_Psi(t)\n",
    "psi = fn_psi(t)"
   ]
  },
  {
   "cell_type": "code",
   "execution_count": 11,
   "metadata": {},
   "outputs": [],
   "source": [
    "g1_hat = R*Psi/fn_Psi(1)\n",
    "b = Lcap/quad(fn_Psi,0,1,n=128)[0]\n",
    "g2_hat = Lmid/2 - b*np.array([quad(fn_Psi,0,tt,n=128)[0] for tt in t])"
   ]
  },
  {
   "cell_type": "code",
   "execution_count": 14,
   "metadata": {},
   "outputs": [
    {
     "data": {
      "text/plain": [
       "[<matplotlib.lines.Line2D at 0x7fb2b4c0d660>]"
      ]
     },
     "execution_count": 14,
     "metadata": {},
     "output_type": "execute_result"
    },
    {
     "data": {
      "image/png": "[encoded data removed]",
      "text/plain": [
       "<Figure size 432x288 with 1 Axes>"
      ]
     },
     "metadata": {
      "needs_background": "light"
     },
     "output_type": "display_data"
    }
   ],
   "source": [
    "plt.plot(g1_hat,g2_hat)"
   ]
  }
 ],
 "metadata": {
  "kernelspec": {
   "display_name": "Python 3.10.5 ('mcmc')",
   "language": "python",
   "name": "python3"
  },
  "language_info": {
   "codemirror_mode": {
    "name": "ipython",
    "version": 3
   },
   "file_extension": ".py",
   "mimetype": "text/x-python",
   "name": "python",
   "nbconvert_exporter": "python",
   "pygments_lexer": "ipython3",
   "version": "3.10.5"
  },
  "orig_nbformat": 4,
  "vscode": {
   "interpreter": {
    "hash": "78a815b9fc28189f8c9dfe5b15a76bcbb25a18275e90aaccf7afed89a3f1752e"
   }
  }
 },
 "nbformat": 4,
 "nbformat_minor": 2
}
