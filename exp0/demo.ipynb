{
 "cells": [
  {
   "cell_type": "code",
   "execution_count": 2,
   "metadata": {},
   "outputs": [],
   "source": [
    "import sys\n",
    "sys.path.insert(0,'../src/')\n",
    "from curve import *\n",
    "from utils import *\n",
    "import numpy as np\n",
    "import pickle\n",
    "from matplotlib import pyplot as plt"
   ]
  },
  {
   "cell_type": "code",
   "execution_count": 3,
   "metadata": {},
   "outputs": [],
   "source": [
    "l1 = Line()\n",
    "l1.build()"
   ]
  },
  {
   "cell_type": "code",
   "execution_count": 6,
   "metadata": {},
   "outputs": [],
   "source": [
    "c = Cap()\n",
    "c.build()"
   ]
  },
  {
   "cell_type": "code",
   "execution_count": 12,
   "metadata": {},
   "outputs": [
    {
     "data": {
      "text/plain": [
       "array([[False, False,  True,  True,  True,  True,  True,  True,  True,\n",
       "         True],\n",
       "       [False, False, False,  True,  True,  True,  True,  True,  True,\n",
       "         True],\n",
       "       [ True, False, False, False,  True,  True,  True,  True,  True,\n",
       "         True],\n",
       "       [ True,  True, False, False, False,  True,  True,  True,  True,\n",
       "         True],\n",
       "       [ True,  True,  True, False, False, False,  True,  True,  True,\n",
       "         True],\n",
       "       [ True,  True,  True,  True, False, False, False,  True,  True,\n",
       "         True],\n",
       "       [ True,  True,  True,  True,  True, False, False, False,  True,\n",
       "         True],\n",
       "       [ True,  True,  True,  True,  True,  True, False, False, False,\n",
       "         True],\n",
       "       [ True,  True,  True,  True,  True,  True,  True, False, False,\n",
       "        False],\n",
       "       [ True,  True,  True,  True,  True,  True,  True,  True, False,\n",
       "        False]])"
      ]
     },
     "execution_count": 12,
     "metadata": {},
     "output_type": "execute_result"
    }
   ],
   "source": [
    "mat = []\n",
    "\n",
    "for i in c.panels:\n",
    "    s = i.arclen\n",
    "    row = []\n",
    "    for j in c.panels:\n",
    "        row.append(np.min(np.abs(i.t[:,np.newaxis] - j.t[np.newaxis,:]))/s)\n",
    "    mat.append(row)\n",
    "    \n",
    "mat = np.array(mat) > 0.3\n",
    "mat"
   ]
  },
  {
   "cell_type": "code",
   "execution_count": null,
   "metadata": {},
   "outputs": [],
   "source": []
  }
 ],
 "metadata": {
  "kernelspec": {
   "display_name": "Python 3.10.6 ('bim')",
   "language": "python",
   "name": "python3"
  },
  "language_info": {
   "codemirror_mode": {
    "name": "ipython",
    "version": 3
   },
   "file_extension": ".py",
   "mimetype": "text/x-python",
   "name": "python",
   "nbconvert_exporter": "python",
   "pygments_lexer": "ipython3",
   "version": "3.10.6"
  },
  "orig_nbformat": 4,
  "vscode": {
   "interpreter": {
    "hash": "29aee36ec6e9df753698de62f9f369044b18644ec1292ce439a22755d3e8f7fd"
   }
  }
 },
 "nbformat": 4,
 "nbformat_minor": 2
}
