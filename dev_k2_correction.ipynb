{
 "cells": [
  {
   "cell_type": "code",
   "execution_count": 1,
   "metadata": {},
   "outputs": [],
   "source": [
    "import numpy as np\n",
    "from matplotlib import pyplot as plt\n",
    "import sys\n",
    "sys.path.insert(1,'./src/')\n",
    "from curve import *\n",
    "from utils import *\n",
    "\n",
    "np.set_printoptions(precision=2)"
   ]
  },
  {
   "cell_type": "code",
   "execution_count": 2,
   "metadata": {},
   "outputs": [],
   "source": [
    "l = Corner(start_pt=pt(-1,0), mid_pt=pt(0,-1), end_pt=pt(1,0))\n",
    "l.build(p=16,required_tol=1e-8)"
   ]
  },
  {
   "cell_type": "code",
   "execution_count": 3,
   "metadata": {},
   "outputs": [],
   "source": [
    "def k1_panel(p):\n",
    "    xi_minus_z = p.t[:, np.newaxis] - p.t[np.newaxis, :]\n",
    "    \n",
    "    ret = np.imag(p.dt[:, np.newaxis] / (xi_minus_z)) / np.pi\n",
    "    np.fill_diagonal(ret, 1 + (p.k*np.abs(p.dt)/(2*np.pi)))\n",
    "    return ret\n",
    "\n",
    "def k2_panel(p):\n",
    "    dt = p.dt[np.newaxis,:]\n",
    "    diff_t = p.t[:, np.newaxis] - p.t[np.newaxis, :]\n",
    "    ret = np.imag(dt * (diff_t.conj()))/((diff_t.conj()**2)*np.pi)\n",
    "    \n",
    "    np.fill_diagonal(ret, (-p.k*p.dt_da * p.dt)/(2*np.pi*np.abs(p.dt_da)))\n",
    "    return ret    "
   ]
  },
  {
   "cell_type": "code",
   "execution_count": 4,
   "metadata": {},
   "outputs": [
    {
     "name": "stderr",
     "output_type": "stream",
     "text": [
      "/var/folders/tl/c_q79z3x4nx7f2p1700yhkcr0000gn/T/ipykernel_42491/673121487.py:4: RuntimeWarning: divide by zero encountered in divide\n",
      "  ret = np.imag(p.dt[:, np.newaxis] / (xi_minus_z)) / np.pi\n",
      "/var/folders/tl/c_q79z3x4nx7f2p1700yhkcr0000gn/T/ipykernel_42491/673121487.py:11: RuntimeWarning: invalid value encountered in divide\n",
      "  ret = np.imag(dt * (diff_t.conj()))/((diff_t.conj()**2)*np.pi)\n"
     ]
    },
    {
     "name": "stdout",
     "output_type": "stream",
     "text": [
      "4.000027527451578\t4.000337006645117\t0.0006016629684149308\n",
      "4.000620555965198\t4.010190130860732\t0.013929341556988441\n",
      "4.004952004450841\t4.102206378241734\t0.1098920911872208\n",
      "4.02727695003206\t4.741161900020055\t0.37424207159378275\n",
      "4.02727695003206\t4.741161900021086\t0.374242071593228\n",
      "4.004952004450841\t4.102206378242923\t0.10989209118913076\n",
      "4.000620555965198\t4.010190130858058\t0.013929341558248307\n",
      "4.000027527451578\t4.000337006637574\t0.0006016629585740231\n"
     ]
    }
   ],
   "source": [
    "for p in l.panels:\n",
    "    p._build()\n",
    "    K1, K2 = p._build_for_targets(p.t)\n",
    "    k1 = k1_panel(p)\n",
    "    k2 = k2_panel(p)\n",
    "    \n",
    "    n1 = np.linalg.norm(k1)\n",
    "    n2 = np.linalg.norm(K1)\n",
    "    error2 = np.linalg.norm(K1 - k1)/np.linalg.norm(K1)\n",
    "    print(n1,n2,error2,sep='\\t')"
   ]
  },
  {
   "cell_type": "code",
   "execution_count": 13,
   "metadata": {},
   "outputs": [
    {
     "name": "stderr",
     "output_type": "stream",
     "text": [
      "/var/folders/tl/c_q79z3x4nx7f2p1700yhkcr0000gn/T/ipykernel_42491/673121487.py:4: RuntimeWarning: divide by zero encountered in divide\n",
      "  ret = np.imag(p.dt[:, np.newaxis] / (xi_minus_z)) / np.pi\n",
      "/var/folders/tl/c_q79z3x4nx7f2p1700yhkcr0000gn/T/ipykernel_42491/673121487.py:11: RuntimeWarning: invalid value encountered in divide\n",
      "  ret = np.imag(dt * (diff_t.conj()))/((diff_t.conj()**2)*np.pi)\n"
     ]
    },
    {
     "name": "stdout",
     "output_type": "stream",
     "text": [
      "0.00013595735612411083\t0.010244166404970195\t0.9999109281785031\n",
      "0.0028275003649150814\t0.30800190094844526\t0.9999577253033322\n",
      "0.021839208332420375\t2.9933637840728746\t0.9999741685208615\n",
      "0.11532683613404615\t34.568220276253726\t0.9999939109167407\n",
      "0.11532683613404615\t34.56822027579944\t0.9999939109167376\n",
      "0.021839208332420368\t2.9933637840731175\t0.9999741685208478\n",
      "0.002827500364915082\t0.308001900936359\t0.9999577253033203\n",
      "0.0001359573561241108\t0.010244166404852161\t0.9999109281785099\n"
     ]
    }
   ],
   "source": [
    "for p in l.panels:\n",
    "    p._build()\n",
    "    K1, K2 = p._build_for_targets(p.t)\n",
    "    k1 = k1_panel(p)\n",
    "    k2 = k2_panel(p)\n",
    "    \n",
    "    n1 = np.linalg.norm(k2)\n",
    "    n2 = np.linalg.norm(K2)\n",
    "    error2 = np.linalg.norm(K2 - k2)/np.linalg.norm(K2)\n",
    "    print(n1,n2,error2,sep='\\t')"
   ]
  },
  {
   "cell_type": "code",
   "execution_count": 14,
   "metadata": {},
   "outputs": [
    {
     "name": "stderr",
     "output_type": "stream",
     "text": [
      "/var/folders/tl/c_q79z3x4nx7f2p1700yhkcr0000gn/T/ipykernel_42491/673121487.py:4: RuntimeWarning: divide by zero encountered in divide\n",
      "  ret = np.imag(p.dt[:, np.newaxis] / (xi_minus_z)) / np.pi\n",
      "/var/folders/tl/c_q79z3x4nx7f2p1700yhkcr0000gn/T/ipykernel_42491/673121487.py:11: RuntimeWarning: invalid value encountered in divide\n",
      "  ret = np.imag(dt * (diff_t.conj()))/((diff_t.conj()**2)*np.pi)\n"
     ]
    }
   ],
   "source": [
    "p = l.panels[4]\n",
    "p._build()\n",
    "K1, K2 = p._build_for_targets(p.t)\n",
    "k1 = k1_panel(p)\n",
    "k2 = k2_panel(p)\n",
    "error2 = np.linalg.norm(K2 - k2)/np.linalg.norm(K2)"
   ]
  },
  {
   "cell_type": "markdown",
   "metadata": {},
   "source": [
    "this is probably correct, I can test it with solver later. "
   ]
  },
  {
   "cell_type": "code",
   "execution_count": 18,
   "metadata": {},
   "outputs": [
    {
     "data": {
      "text/plain": [
       "34.56822027579944"
      ]
     },
     "execution_count": 18,
     "metadata": {},
     "output_type": "execute_result"
    }
   ],
   "source": [
    "np.linalg.norm(K2)"
   ]
  },
  {
   "cell_type": "code",
   "execution_count": 19,
   "metadata": {},
   "outputs": [
    {
     "data": {
      "text/plain": [
       "0.11532683613404615"
      ]
     },
     "execution_count": 19,
     "metadata": {},
     "output_type": "execute_result"
    }
   ],
   "source": [
    "np.linalg.norm(k2)"
   ]
  }
 ],
 "metadata": {
  "kernelspec": {
   "display_name": "Python 3.10.5 ('bim')",
   "language": "python",
   "name": "python3"
  },
  "language_info": {
   "codemirror_mode": {
    "name": "ipython",
    "version": 3
   },
   "file_extension": ".py",
   "mimetype": "text/x-python",
   "name": "python",
   "nbconvert_exporter": "python",
   "pygments_lexer": "ipython3",
   "version": "3.10.5"
  },
  "orig_nbformat": 4,
  "vscode": {
   "interpreter": {
    "hash": "c63784d83960d2c89cfe6fb5ec298e84c6499521dac7c7c8fd1fc1b7e373202c"
   }
  }
 },
 "nbformat": 4,
 "nbformat_minor": 2
}
