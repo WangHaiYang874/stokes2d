{
 "cells": [
  {
   "cell_type": "code",
   "execution_count": 1,
   "metadata": {},
   "outputs": [],
   "source": [
    "import numpy as np\n",
    "from matplotlib.path import Path\n",
    "from matplotlib import pyplot as plt\n",
    "import pickle\n",
    "\n",
    "import sys\n",
    "sys.path.insert(0,'../src/')\n",
    "\n",
    "from utils import *\n",
    "from multiply_connected_pipe import *\n",
    "from pipe_system import PipeSystem\n",
    "from abstract_pipe import *\n",
    "from pipe_system.let_index import LetIndex"
   ]
  },
  {
   "cell_type": "code",
   "execution_count": null,
   "metadata": {},
   "outputs": [],
   "source": [
    "with open('pipes_and_shifts_built.pickle','rb') as f:\n",
    "    pipes_and_shifts = pickle.load(f)"
   ]
  },
  {
   "cell_type": "code",
   "execution_count": null,
   "metadata": {},
   "outputs": [],
   "source": [
    "real_pipes = [RealPipe(p,shift_x=shift[0],shift_y=shift[1]) for p,shift in pipes_and_shifts]"
   ]
  },
  {
   "cell_type": "code",
   "execution_count": null,
   "metadata": {},
   "outputs": [
    {
     "data": {
      "text/plain": [
       "(Let(x=-400.0, y=0.0, dir=3.141592653589793, dia=4.0),\n",
       " Let(x=448.0, y=0.0, dir=0.0, dia=4.0))"
      ]
     },
     "execution_count": 12,
     "metadata": {},
     "output_type": "execute_result"
    }
   ],
   "source": [
    "lets = sorted([l for p in real_pipes for l in p.lets], key=lambda l: l.x)\n",
    "lets[0], lets[-1]"
   ]
  },
  {
   "cell_type": "code",
   "execution_count": null,
   "metadata": {},
   "outputs": [],
   "source": [
    "bdr_pipe = BoundaryPipe([\n",
    "    BoundaryLet(-400,0,0,4,-1),\n",
    "    BoundaryLet(448,0,np.pi,4,1)\n",
    "])"
   ]
  },
  {
   "cell_type": "code",
   "execution_count": null,
   "metadata": {},
   "outputs": [],
   "source": [
    "ps = PipeSystem(real_pipes,bdr_pipe)"
   ]
  }
 ],
 "metadata": {
  "kernelspec": {
   "display_name": "Python 3.10.4 ('bim')",
   "language": "python",
   "name": "python3"
  },
  "language_info": {
   "codemirror_mode": {
    "name": "ipython",
    "version": 3
   },
   "file_extension": ".py",
   "mimetype": "text/x-python",
   "name": "python",
   "nbconvert_exporter": "python",
   "pygments_lexer": "ipython3",
   "version": "3.10.4"
  },
  "orig_nbformat": 4,
  "vscode": {
   "interpreter": {
    "hash": "b0092369962b3dab751c14bd721274f83b9943eaf7f5307a4bbeaa2b94df6b2b"
   }
  }
 },
 "nbformat": 4,
 "nbformat_minor": 2
}
