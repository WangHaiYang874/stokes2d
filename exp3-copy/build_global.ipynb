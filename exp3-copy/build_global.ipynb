{
 "cells": [
  {
   "cell_type": "code",
   "execution_count": 1,
   "metadata": {},
   "outputs": [],
   "source": [
    "import sys\n",
    "sys.path.insert(0,'../src/')\n",
    "from curve import *\n",
    "from utils import *\n",
    "from multiply_connected_pipe import *\n",
    "import pickle\n",
    "\n",
    "with open('global_pipe.pickle','rb') as f:\n",
    "    pipe = pickle.load(f)\n",
    "\n",
    "required_tol = 1e-8"
   ]
  },
  {
   "cell_type": "code",
   "execution_count": 2,
   "metadata": {},
   "outputs": [
    {
     "data": {
      "text/plain": [
       "8"
      ]
     },
     "execution_count": 2,
     "metadata": {},
     "output_type": "execute_result"
    }
   ],
   "source": [
    "pipe.n_boundaries"
   ]
  },
  {
   "cell_type": "code",
   "execution_count": 3,
   "metadata": {},
   "outputs": [
    {
     "name": "stdout",
     "output_type": "stream",
     "text": [
      "\t\trefining boundary 0 out of 8\n",
      "\t\trefining boundary 1 out of 8\n",
      "\t\trefining boundary 2 out of 8\n",
      "\t\trefining boundary 3 out of 8\n",
      "\t\trefining boundary 4 out of 8\n",
      "\t\trefining boundary 5 out of 8\n",
      "\t\trefining boundary 6 out of 8\n",
      "\t\trefining boundary 7 out of 8\n"
     ]
    },
    {
     "data": {
      "text/plain": [
       "100968"
      ]
     },
     "execution_count": 3,
     "metadata": {},
     "output_type": "execute_result"
    }
   ],
   "source": [
    "pipe.build_geometry(required_tol/100,n_jobs=8)\n",
    "len(pipe.t)"
   ]
  },
  {
   "cell_type": "code",
   "execution_count": 4,
   "metadata": {},
   "outputs": [],
   "source": [
    "pipe.build_A(fmm=True)"
   ]
  },
  {
   "cell_type": "code",
   "execution_count": 5,
   "metadata": {},
   "outputs": [
    {
     "name": "stdout",
     "output_type": "stream",
     "text": [
      "\tresidual = 0.4765212851700666,\titer = 10,\ttime = 0.0 mins\n",
      "\tresidual = 0.33541261957730956,\titer = 20,\ttime = 0.0 mins\n",
      "\tresidual = 0.18764943154710398,\titer = 30,\ttime = 0.0 mins\n",
      "\tresidual = 0.15042138452148465,\titer = 40,\ttime = 0.0 mins\n",
      "\tresidual = 0.1458156253199017,\titer = 50,\ttime = 0.0 mins\n",
      "\tresidual = 0.14493039092639357,\titer = 60,\ttime = 0.0 mins\n",
      "\tresidual = 0.14265051422748823,\titer = 70,\ttime = 0.0 mins\n",
      "\tresidual = 0.14213914556015408,\titer = 80,\ttime = 1.0 mins\n",
      "\tresidual = 0.140633399214714,\titer = 90,\ttime = 1.0 mins\n",
      "\tresidual = 0.13816786692190272,\titer = 100,\ttime = 1.0 mins\n",
      "\tresidual = 0.13398168246419687,\titer = 110,\ttime = 1.0 mins\n",
      "\tresidual = 0.12732313946992313,\titer = 120,\ttime = 1.0 mins\n",
      "\tresidual = 0.11541404871523361,\titer = 130,\ttime = 1.0 mins\n",
      "\tresidual = 0.10900603431303367,\titer = 140,\ttime = 1.0 mins\n",
      "\tresidual = 0.10169396511726825,\titer = 150,\ttime = 1.0 mins\n",
      "\tresidual = 0.0984910912191904,\titer = 160,\ttime = 2.0 mins\n",
      "\tresidual = 0.09255507747165652,\titer = 170,\ttime = 2.0 mins\n",
      "\tresidual = 0.09075467504043153,\titer = 180,\ttime = 2.0 mins\n",
      "\tresidual = 0.08982834867463264,\titer = 190,\ttime = 2.0 mins\n",
      "\tresidual = 0.08886169579709922,\titer = 200,\ttime = 2.0 mins\n",
      "\tresidual = 0.08754452596970613,\titer = 210,\ttime = 2.0 mins\n",
      "\tresidual = 0.08400631836238644,\titer = 220,\ttime = 2.0 mins\n",
      "\tresidual = 0.0822511368631651,\titer = 230,\ttime = 2.0 mins\n",
      "\tresidual = 0.08206688194316115,\titer = 240,\ttime = 3.0 mins\n",
      "\tresidual = 0.08177646815332135,\titer = 250,\ttime = 3.0 mins\n",
      "\tresidual = 0.0816152769595644,\titer = 260,\ttime = 3.0 mins\n",
      "\tresidual = 0.08150913165798444,\titer = 270,\ttime = 3.0 mins\n",
      "\tresidual = 0.08082718792539631,\titer = 280,\ttime = 3.0 mins\n",
      "\tresidual = 0.08054383660080514,\titer = 290,\ttime = 3.0 mins\n",
      "\tresidual = 0.07935117270066576,\titer = 300,\ttime = 3.0 mins\n",
      "\tresidual = 0.0786672887115623,\titer = 310,\ttime = 3.0 mins\n"
     ]
    }
   ],
   "source": [
    "pipe.build_omegas(tol=required_tol,max_iter=10,restart=2000)"
   ]
  },
  {
   "cell_type": "code",
   "execution_count": null,
   "metadata": {},
   "outputs": [],
   "source": []
  }
 ],
 "metadata": {
  "kernelspec": {
   "display_name": "Python 3.10.5 ('bim')",
   "language": "python",
   "name": "python3"
  },
  "language_info": {
   "codemirror_mode": {
    "name": "ipython",
    "version": 3
   },
   "file_extension": ".py",
   "mimetype": "text/x-python",
   "name": "python",
   "nbconvert_exporter": "python",
   "pygments_lexer": "ipython3",
   "version": "3.10.5"
  },
  "orig_nbformat": 4,
  "vscode": {
   "interpreter": {
    "hash": "c63784d83960d2c89cfe6fb5ec298e84c6499521dac7c7c8fd1fc1b7e373202c"
   }
  }
 },
 "nbformat": 4,
 "nbformat_minor": 2
}
